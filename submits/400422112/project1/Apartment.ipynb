{
  "cells": [
    {
      "cell_type": "code",
      "source": [
        "from google.colab import drive\n",
        "drive.mount('/content/drive')"
      ],
      "metadata": {
        "colab": {
          "base_uri": "https://localhost:8080/"
        },
        "id": "s7p3g4iGx3Op",
        "outputId": "1080e1fc-3d90-4be3-f654-2ca84149e624"
      },
      "execution_count": 1,
      "outputs": [
        {
          "output_type": "stream",
          "name": "stdout",
          "text": [
            "Drive already mounted at /content/drive; to attempt to forcibly remount, call drive.mount(\"/content/drive\", force_remount=True).\n"
          ]
        }
      ]
    },
    {
      "cell_type": "code",
      "source": [
        "import os\n",
        "os.chdir('drive/MyDrive/Datasets/DE-Apartments')"
      ],
      "metadata": {
        "id": "zn4QZTd33FXb"
      },
      "execution_count": 2,
      "outputs": []
    },
    {
      "cell_type": "code",
      "source": [
        "# ! pip install \"dask[complete]\""
      ],
      "metadata": {
        "id": "pIdZsoFgtJIy"
      },
      "execution_count": 3,
      "outputs": []
    },
    {
      "cell_type": "code",
      "source": [
        "ls"
      ],
      "metadata": {
        "colab": {
          "base_uri": "https://localhost:8080/"
        },
        "id": "S1y2h567tN7U",
        "outputId": "d084311e-0e0c-4018-911f-297b248a0f11"
      },
      "execution_count": 4,
      "outputs": [
        {
          "output_type": "stream",
          "name": "stdout",
          "text": [
            "apartment-rental-offers-in-germany.zip  immo_data.csv\n"
          ]
        }
      ]
    },
    {
      "cell_type": "code",
      "execution_count": 5,
      "metadata": {
        "id": "Qfeg0QrT2vSo"
      },
      "outputs": [],
      "source": [
        "import time\n",
        "import numpy as np\n",
        "import pandas as pd\n",
        "import seaborn as sns\n",
        "import matplotlib.pyplot as plt\n",
        "from scipy import stats\n",
        "from sklearn.model_selection import train_test_split\n",
        "from sklearn.preprocessing import StandardScaler\n",
        "from sklearn.decomposition import PCA\n",
        "from sklearn.linear_model import LinearRegression\n",
        "from sklearn.metrics import mean_squared_error\n",
        "import plotly.express as px\n",
        "\n",
        "from multiprocessing import Pool, cpu_count\n",
        "import dask\n",
        "import dask.dataframe as dd"
      ]
    },
    {
      "cell_type": "code",
      "execution_count": 6,
      "metadata": {
        "id": "oMExOBpO2vSs"
      },
      "outputs": [],
      "source": [
        "pd.options.display.max_columns = 50\n",
        "data = pd.read_csv('immo_data.csv')"
      ]
    },
    {
      "cell_type": "code",
      "source": [
        "DF = data.copy()\n",
        "COLS = DF.columns"
      ],
      "metadata": {
        "id": "TBQfxitoZFaX"
      },
      "execution_count": 7,
      "outputs": []
    },
    {
      "cell_type": "code",
      "execution_count": 8,
      "metadata": {
        "colab": {
          "base_uri": "https://localhost:8080/",
          "height": 548
        },
        "id": "rtIdGcDQ2vSt",
        "outputId": "12a69650-eb6d-4795-9c79-f40074a0bac8"
      },
      "outputs": [
        {
          "output_type": "execute_result",
          "data": {
            "text/plain": [
              "                regio1  serviceCharge                     heatingType  \\\n",
              "0  Nordrhein_Westfalen         245.00                 central_heating   \n",
              "1      Rheinland_Pfalz         134.00  self_contained_central_heating   \n",
              "2              Sachsen         255.00                   floor_heating   \n",
              "3              Sachsen          58.15                district_heating   \n",
              "4               Bremen         138.00  self_contained_central_heating   \n",
              "\n",
              "  telekomTvOffer  telekomHybridUploadSpeed  newlyConst  balcony  picturecount  \\\n",
              "0  ONE_YEAR_FREE                       NaN       False    False             6   \n",
              "1  ONE_YEAR_FREE                       NaN       False     True             8   \n",
              "2  ONE_YEAR_FREE                      10.0        True     True             8   \n",
              "3  ONE_YEAR_FREE                       NaN       False     True             9   \n",
              "4            NaN                       NaN       False     True            19   \n",
              "\n",
              "   pricetrend  telekomUploadSpeed  totalRent  yearConstructed    scoutId  \\\n",
              "0        4.62                10.0      840.0           1965.0   96107057   \n",
              "1        3.47                10.0        NaN           1871.0  111378734   \n",
              "2        2.72                 2.4     1300.0           2019.0  113147523   \n",
              "3        1.53                40.0        NaN           1964.0  108890903   \n",
              "4        2.46                 NaN      903.0           1950.0  114751222   \n",
              "\n",
              "   noParkSpaces       firingTypes  hasKitchen              geo_bln  cellar  \\\n",
              "0           1.0               oil       False  Nordrhein_Westfalen    True   \n",
              "1           2.0               gas       False      Rheinland_Pfalz   False   \n",
              "2           1.0               NaN       False              Sachsen    True   \n",
              "3           NaN  district_heating       False              Sachsen   False   \n",
              "4           NaN               gas       False               Bremen   False   \n",
              "\n",
              "   yearConstructedRange  baseRent houseNumber  livingSpace  \\\n",
              "0                   2.0     595.0         244        86.00   \n",
              "1                   1.0     800.0         NaN        89.00   \n",
              "2                   9.0     965.0           4        83.80   \n",
              "3                   2.0     343.0          35        58.15   \n",
              "4                   1.0     765.0          10        84.97   \n",
              "\n",
              "               geo_krs       condition   interiorQual petsAllowed  \\\n",
              "0             Dortmund       well_kept         normal         NaN   \n",
              "1    Rhein_Pfalz_Kreis     refurbished         normal          no   \n",
              "2              Dresden  first_time_use  sophisticated         NaN   \n",
              "3  Mittelsachsen_Kreis             NaN            NaN         NaN   \n",
              "4               Bremen     refurbished            NaN         NaN   \n",
              "\n",
              "                        street                  streetPlain   lift  \\\n",
              "0   Sch&uuml;ruferstra&szlig;e              Schüruferstraße  False   \n",
              "1               no_information                          NaN  False   \n",
              "2                    Turnerweg                    Turnerweg   True   \n",
              "3  Gl&uuml;ck-Auf-Stra&szlig;e             Glück-Auf-Straße  False   \n",
              "4  Hermann-Henrich-Meier-Allee  Hermann-Henrich-Meier-Allee  False   \n",
              "\n",
              "   baseRentRange    typeOfFlat  geo_plz  noRooms  thermalChar  floor  \\\n",
              "0              4  ground_floor    44269      4.0        181.4    1.0   \n",
              "1              5  ground_floor    67459      3.0          NaN    NaN   \n",
              "2              6     apartment     1097      3.0          NaN    3.0   \n",
              "3              2         other     9599      3.0         86.0    3.0   \n",
              "4              5     apartment    28213      3.0        188.9    1.0   \n",
              "\n",
              "   numberOfFloors  noRoomsRange  garden  livingSpaceRange  \\\n",
              "0             3.0             4    True                 4   \n",
              "1             NaN             3   False                 4   \n",
              "2             4.0             3   False                 4   \n",
              "3             NaN             3   False                 2   \n",
              "4             NaN             3   False                 4   \n",
              "\n",
              "                regio2                      regio3  \\\n",
              "0             Dortmund                     Schüren   \n",
              "1    Rhein_Pfalz_Kreis              Böhl_Iggelheim   \n",
              "2              Dresden  Äußere_Neustadt_Antonstadt   \n",
              "3  Mittelsachsen_Kreis                    Freiberg   \n",
              "4               Bremen           Neu_Schwachhausen   \n",
              "\n",
              "                                         description  \\\n",
              "0  Die ebenerdig zu erreichende Erdgeschosswohnun...   \n",
              "1  Alles neu macht der Mai – so kann es auch für ...   \n",
              "2  Der Neubau entsteht im Herzen der Dresdner Neu...   \n",
              "3  Abseits von Lärm und Abgasen in Ihre neue Wohn...   \n",
              "4  Es handelt sich hier um ein saniertes Mehrfami...   \n",
              "\n",
              "                                          facilities  heatingCosts  \\\n",
              "0  Die Wohnung ist mit Laminat ausgelegt. Das Bad...           NaN   \n",
              "1                                                NaN           NaN   \n",
              "2  * 9 m² Balkon\\n* Bad mit bodengleicher Dusche,...           NaN   \n",
              "3                                                NaN         87.23   \n",
              "4  Diese Wohnung wurde neu saniert und ist wie fo...           NaN   \n",
              "\n",
              "  energyEfficiencyClass  lastRefurbish  electricityBasePrice  \\\n",
              "0                   NaN            NaN                   NaN   \n",
              "1                   NaN         2019.0                   NaN   \n",
              "2                   NaN            NaN                   NaN   \n",
              "3                   NaN            NaN                   NaN   \n",
              "4                   NaN            NaN                   NaN   \n",
              "\n",
              "   electricityKwhPrice   date  \n",
              "0                  NaN  May19  \n",
              "1                  NaN  May19  \n",
              "2                  NaN  Oct19  \n",
              "3                  NaN  May19  \n",
              "4                  NaN  Feb20  "
            ],
            "text/html": [
              "\n",
              "  <div id=\"df-6f0307b4-8ace-49ee-83d7-7307d84f02a9\">\n",
              "    <div class=\"colab-df-container\">\n",
              "      <div>\n",
              "<style scoped>\n",
              "    .dataframe tbody tr th:only-of-type {\n",
              "        vertical-align: middle;\n",
              "    }\n",
              "\n",
              "    .dataframe tbody tr th {\n",
              "        vertical-align: top;\n",
              "    }\n",
              "\n",
              "    .dataframe thead th {\n",
              "        text-align: right;\n",
              "    }\n",
              "</style>\n",
              "<table border=\"1\" class=\"dataframe\">\n",
              "  <thead>\n",
              "    <tr style=\"text-align: right;\">\n",
              "      <th></th>\n",
              "      <th>regio1</th>\n",
              "      <th>serviceCharge</th>\n",
              "      <th>heatingType</th>\n",
              "      <th>telekomTvOffer</th>\n",
              "      <th>telekomHybridUploadSpeed</th>\n",
              "      <th>newlyConst</th>\n",
              "      <th>balcony</th>\n",
              "      <th>picturecount</th>\n",
              "      <th>pricetrend</th>\n",
              "      <th>telekomUploadSpeed</th>\n",
              "      <th>totalRent</th>\n",
              "      <th>yearConstructed</th>\n",
              "      <th>scoutId</th>\n",
              "      <th>noParkSpaces</th>\n",
              "      <th>firingTypes</th>\n",
              "      <th>hasKitchen</th>\n",
              "      <th>geo_bln</th>\n",
              "      <th>cellar</th>\n",
              "      <th>yearConstructedRange</th>\n",
              "      <th>baseRent</th>\n",
              "      <th>houseNumber</th>\n",
              "      <th>livingSpace</th>\n",
              "      <th>geo_krs</th>\n",
              "      <th>condition</th>\n",
              "      <th>interiorQual</th>\n",
              "      <th>petsAllowed</th>\n",
              "      <th>street</th>\n",
              "      <th>streetPlain</th>\n",
              "      <th>lift</th>\n",
              "      <th>baseRentRange</th>\n",
              "      <th>typeOfFlat</th>\n",
              "      <th>geo_plz</th>\n",
              "      <th>noRooms</th>\n",
              "      <th>thermalChar</th>\n",
              "      <th>floor</th>\n",
              "      <th>numberOfFloors</th>\n",
              "      <th>noRoomsRange</th>\n",
              "      <th>garden</th>\n",
              "      <th>livingSpaceRange</th>\n",
              "      <th>regio2</th>\n",
              "      <th>regio3</th>\n",
              "      <th>description</th>\n",
              "      <th>facilities</th>\n",
              "      <th>heatingCosts</th>\n",
              "      <th>energyEfficiencyClass</th>\n",
              "      <th>lastRefurbish</th>\n",
              "      <th>electricityBasePrice</th>\n",
              "      <th>electricityKwhPrice</th>\n",
              "      <th>date</th>\n",
              "    </tr>\n",
              "  </thead>\n",
              "  <tbody>\n",
              "    <tr>\n",
              "      <th>0</th>\n",
              "      <td>Nordrhein_Westfalen</td>\n",
              "      <td>245.00</td>\n",
              "      <td>central_heating</td>\n",
              "      <td>ONE_YEAR_FREE</td>\n",
              "      <td>NaN</td>\n",
              "      <td>False</td>\n",
              "      <td>False</td>\n",
              "      <td>6</td>\n",
              "      <td>4.62</td>\n",
              "      <td>10.0</td>\n",
              "      <td>840.0</td>\n",
              "      <td>1965.0</td>\n",
              "      <td>96107057</td>\n",
              "      <td>1.0</td>\n",
              "      <td>oil</td>\n",
              "      <td>False</td>\n",
              "      <td>Nordrhein_Westfalen</td>\n",
              "      <td>True</td>\n",
              "      <td>2.0</td>\n",
              "      <td>595.0</td>\n",
              "      <td>244</td>\n",
              "      <td>86.00</td>\n",
              "      <td>Dortmund</td>\n",
              "      <td>well_kept</td>\n",
              "      <td>normal</td>\n",
              "      <td>NaN</td>\n",
              "      <td>Sch&amp;uuml;ruferstra&amp;szlig;e</td>\n",
              "      <td>Schüruferstraße</td>\n",
              "      <td>False</td>\n",
              "      <td>4</td>\n",
              "      <td>ground_floor</td>\n",
              "      <td>44269</td>\n",
              "      <td>4.0</td>\n",
              "      <td>181.4</td>\n",
              "      <td>1.0</td>\n",
              "      <td>3.0</td>\n",
              "      <td>4</td>\n",
              "      <td>True</td>\n",
              "      <td>4</td>\n",
              "      <td>Dortmund</td>\n",
              "      <td>Schüren</td>\n",
              "      <td>Die ebenerdig zu erreichende Erdgeschosswohnun...</td>\n",
              "      <td>Die Wohnung ist mit Laminat ausgelegt. Das Bad...</td>\n",
              "      <td>NaN</td>\n",
              "      <td>NaN</td>\n",
              "      <td>NaN</td>\n",
              "      <td>NaN</td>\n",
              "      <td>NaN</td>\n",
              "      <td>May19</td>\n",
              "    </tr>\n",
              "    <tr>\n",
              "      <th>1</th>\n",
              "      <td>Rheinland_Pfalz</td>\n",
              "      <td>134.00</td>\n",
              "      <td>self_contained_central_heating</td>\n",
              "      <td>ONE_YEAR_FREE</td>\n",
              "      <td>NaN</td>\n",
              "      <td>False</td>\n",
              "      <td>True</td>\n",
              "      <td>8</td>\n",
              "      <td>3.47</td>\n",
              "      <td>10.0</td>\n",
              "      <td>NaN</td>\n",
              "      <td>1871.0</td>\n",
              "      <td>111378734</td>\n",
              "      <td>2.0</td>\n",
              "      <td>gas</td>\n",
              "      <td>False</td>\n",
              "      <td>Rheinland_Pfalz</td>\n",
              "      <td>False</td>\n",
              "      <td>1.0</td>\n",
              "      <td>800.0</td>\n",
              "      <td>NaN</td>\n",
              "      <td>89.00</td>\n",
              "      <td>Rhein_Pfalz_Kreis</td>\n",
              "      <td>refurbished</td>\n",
              "      <td>normal</td>\n",
              "      <td>no</td>\n",
              "      <td>no_information</td>\n",
              "      <td>NaN</td>\n",
              "      <td>False</td>\n",
              "      <td>5</td>\n",
              "      <td>ground_floor</td>\n",
              "      <td>67459</td>\n",
              "      <td>3.0</td>\n",
              "      <td>NaN</td>\n",
              "      <td>NaN</td>\n",
              "      <td>NaN</td>\n",
              "      <td>3</td>\n",
              "      <td>False</td>\n",
              "      <td>4</td>\n",
              "      <td>Rhein_Pfalz_Kreis</td>\n",
              "      <td>Böhl_Iggelheim</td>\n",
              "      <td>Alles neu macht der Mai – so kann es auch für ...</td>\n",
              "      <td>NaN</td>\n",
              "      <td>NaN</td>\n",
              "      <td>NaN</td>\n",
              "      <td>2019.0</td>\n",
              "      <td>NaN</td>\n",
              "      <td>NaN</td>\n",
              "      <td>May19</td>\n",
              "    </tr>\n",
              "    <tr>\n",
              "      <th>2</th>\n",
              "      <td>Sachsen</td>\n",
              "      <td>255.00</td>\n",
              "      <td>floor_heating</td>\n",
              "      <td>ONE_YEAR_FREE</td>\n",
              "      <td>10.0</td>\n",
              "      <td>True</td>\n",
              "      <td>True</td>\n",
              "      <td>8</td>\n",
              "      <td>2.72</td>\n",
              "      <td>2.4</td>\n",
              "      <td>1300.0</td>\n",
              "      <td>2019.0</td>\n",
              "      <td>113147523</td>\n",
              "      <td>1.0</td>\n",
              "      <td>NaN</td>\n",
              "      <td>False</td>\n",
              "      <td>Sachsen</td>\n",
              "      <td>True</td>\n",
              "      <td>9.0</td>\n",
              "      <td>965.0</td>\n",
              "      <td>4</td>\n",
              "      <td>83.80</td>\n",
              "      <td>Dresden</td>\n",
              "      <td>first_time_use</td>\n",
              "      <td>sophisticated</td>\n",
              "      <td>NaN</td>\n",
              "      <td>Turnerweg</td>\n",
              "      <td>Turnerweg</td>\n",
              "      <td>True</td>\n",
              "      <td>6</td>\n",
              "      <td>apartment</td>\n",
              "      <td>1097</td>\n",
              "      <td>3.0</td>\n",
              "      <td>NaN</td>\n",
              "      <td>3.0</td>\n",
              "      <td>4.0</td>\n",
              "      <td>3</td>\n",
              "      <td>False</td>\n",
              "      <td>4</td>\n",
              "      <td>Dresden</td>\n",
              "      <td>Äußere_Neustadt_Antonstadt</td>\n",
              "      <td>Der Neubau entsteht im Herzen der Dresdner Neu...</td>\n",
              "      <td>* 9 m² Balkon\\n* Bad mit bodengleicher Dusche,...</td>\n",
              "      <td>NaN</td>\n",
              "      <td>NaN</td>\n",
              "      <td>NaN</td>\n",
              "      <td>NaN</td>\n",
              "      <td>NaN</td>\n",
              "      <td>Oct19</td>\n",
              "    </tr>\n",
              "    <tr>\n",
              "      <th>3</th>\n",
              "      <td>Sachsen</td>\n",
              "      <td>58.15</td>\n",
              "      <td>district_heating</td>\n",
              "      <td>ONE_YEAR_FREE</td>\n",
              "      <td>NaN</td>\n",
              "      <td>False</td>\n",
              "      <td>True</td>\n",
              "      <td>9</td>\n",
              "      <td>1.53</td>\n",
              "      <td>40.0</td>\n",
              "      <td>NaN</td>\n",
              "      <td>1964.0</td>\n",
              "      <td>108890903</td>\n",
              "      <td>NaN</td>\n",
              "      <td>district_heating</td>\n",
              "      <td>False</td>\n",
              "      <td>Sachsen</td>\n",
              "      <td>False</td>\n",
              "      <td>2.0</td>\n",
              "      <td>343.0</td>\n",
              "      <td>35</td>\n",
              "      <td>58.15</td>\n",
              "      <td>Mittelsachsen_Kreis</td>\n",
              "      <td>NaN</td>\n",
              "      <td>NaN</td>\n",
              "      <td>NaN</td>\n",
              "      <td>Gl&amp;uuml;ck-Auf-Stra&amp;szlig;e</td>\n",
              "      <td>Glück-Auf-Straße</td>\n",
              "      <td>False</td>\n",
              "      <td>2</td>\n",
              "      <td>other</td>\n",
              "      <td>9599</td>\n",
              "      <td>3.0</td>\n",
              "      <td>86.0</td>\n",
              "      <td>3.0</td>\n",
              "      <td>NaN</td>\n",
              "      <td>3</td>\n",
              "      <td>False</td>\n",
              "      <td>2</td>\n",
              "      <td>Mittelsachsen_Kreis</td>\n",
              "      <td>Freiberg</td>\n",
              "      <td>Abseits von Lärm und Abgasen in Ihre neue Wohn...</td>\n",
              "      <td>NaN</td>\n",
              "      <td>87.23</td>\n",
              "      <td>NaN</td>\n",
              "      <td>NaN</td>\n",
              "      <td>NaN</td>\n",
              "      <td>NaN</td>\n",
              "      <td>May19</td>\n",
              "    </tr>\n",
              "    <tr>\n",
              "      <th>4</th>\n",
              "      <td>Bremen</td>\n",
              "      <td>138.00</td>\n",
              "      <td>self_contained_central_heating</td>\n",
              "      <td>NaN</td>\n",
              "      <td>NaN</td>\n",
              "      <td>False</td>\n",
              "      <td>True</td>\n",
              "      <td>19</td>\n",
              "      <td>2.46</td>\n",
              "      <td>NaN</td>\n",
              "      <td>903.0</td>\n",
              "      <td>1950.0</td>\n",
              "      <td>114751222</td>\n",
              "      <td>NaN</td>\n",
              "      <td>gas</td>\n",
              "      <td>False</td>\n",
              "      <td>Bremen</td>\n",
              "      <td>False</td>\n",
              "      <td>1.0</td>\n",
              "      <td>765.0</td>\n",
              "      <td>10</td>\n",
              "      <td>84.97</td>\n",
              "      <td>Bremen</td>\n",
              "      <td>refurbished</td>\n",
              "      <td>NaN</td>\n",
              "      <td>NaN</td>\n",
              "      <td>Hermann-Henrich-Meier-Allee</td>\n",
              "      <td>Hermann-Henrich-Meier-Allee</td>\n",
              "      <td>False</td>\n",
              "      <td>5</td>\n",
              "      <td>apartment</td>\n",
              "      <td>28213</td>\n",
              "      <td>3.0</td>\n",
              "      <td>188.9</td>\n",
              "      <td>1.0</td>\n",
              "      <td>NaN</td>\n",
              "      <td>3</td>\n",
              "      <td>False</td>\n",
              "      <td>4</td>\n",
              "      <td>Bremen</td>\n",
              "      <td>Neu_Schwachhausen</td>\n",
              "      <td>Es handelt sich hier um ein saniertes Mehrfami...</td>\n",
              "      <td>Diese Wohnung wurde neu saniert und ist wie fo...</td>\n",
              "      <td>NaN</td>\n",
              "      <td>NaN</td>\n",
              "      <td>NaN</td>\n",
              "      <td>NaN</td>\n",
              "      <td>NaN</td>\n",
              "      <td>Feb20</td>\n",
              "    </tr>\n",
              "  </tbody>\n",
              "</table>\n",
              "</div>\n",
              "      <button class=\"colab-df-convert\" onclick=\"convertToInteractive('df-6f0307b4-8ace-49ee-83d7-7307d84f02a9')\"\n",
              "              title=\"Convert this dataframe to an interactive table.\"\n",
              "              style=\"display:none;\">\n",
              "        \n",
              "  <svg xmlns=\"http://www.w3.org/2000/svg\" height=\"24px\"viewBox=\"0 0 24 24\"\n",
              "       width=\"24px\">\n",
              "    <path d=\"M0 0h24v24H0V0z\" fill=\"none\"/>\n",
              "    <path d=\"M18.56 5.44l.94 2.06.94-2.06 2.06-.94-2.06-.94-.94-2.06-.94 2.06-2.06.94zm-11 1L8.5 8.5l.94-2.06 2.06-.94-2.06-.94L8.5 2.5l-.94 2.06-2.06.94zm10 10l.94 2.06.94-2.06 2.06-.94-2.06-.94-.94-2.06-.94 2.06-2.06.94z\"/><path d=\"M17.41 7.96l-1.37-1.37c-.4-.4-.92-.59-1.43-.59-.52 0-1.04.2-1.43.59L10.3 9.45l-7.72 7.72c-.78.78-.78 2.05 0 2.83L4 21.41c.39.39.9.59 1.41.59.51 0 1.02-.2 1.41-.59l7.78-7.78 2.81-2.81c.8-.78.8-2.07 0-2.86zM5.41 20L4 18.59l7.72-7.72 1.47 1.35L5.41 20z\"/>\n",
              "  </svg>\n",
              "      </button>\n",
              "      \n",
              "  <style>\n",
              "    .colab-df-container {\n",
              "      display:flex;\n",
              "      flex-wrap:wrap;\n",
              "      gap: 12px;\n",
              "    }\n",
              "\n",
              "    .colab-df-convert {\n",
              "      background-color: #E8F0FE;\n",
              "      border: none;\n",
              "      border-radius: 50%;\n",
              "      cursor: pointer;\n",
              "      display: none;\n",
              "      fill: #1967D2;\n",
              "      height: 32px;\n",
              "      padding: 0 0 0 0;\n",
              "      width: 32px;\n",
              "    }\n",
              "\n",
              "    .colab-df-convert:hover {\n",
              "      background-color: #E2EBFA;\n",
              "      box-shadow: 0px 1px 2px rgba(60, 64, 67, 0.3), 0px 1px 3px 1px rgba(60, 64, 67, 0.15);\n",
              "      fill: #174EA6;\n",
              "    }\n",
              "\n",
              "    [theme=dark] .colab-df-convert {\n",
              "      background-color: #3B4455;\n",
              "      fill: #D2E3FC;\n",
              "    }\n",
              "\n",
              "    [theme=dark] .colab-df-convert:hover {\n",
              "      background-color: #434B5C;\n",
              "      box-shadow: 0px 1px 3px 1px rgba(0, 0, 0, 0.15);\n",
              "      filter: drop-shadow(0px 1px 2px rgba(0, 0, 0, 0.3));\n",
              "      fill: #FFFFFF;\n",
              "    }\n",
              "  </style>\n",
              "\n",
              "      <script>\n",
              "        const buttonEl =\n",
              "          document.querySelector('#df-6f0307b4-8ace-49ee-83d7-7307d84f02a9 button.colab-df-convert');\n",
              "        buttonEl.style.display =\n",
              "          google.colab.kernel.accessAllowed ? 'block' : 'none';\n",
              "\n",
              "        async function convertToInteractive(key) {\n",
              "          const element = document.querySelector('#df-6f0307b4-8ace-49ee-83d7-7307d84f02a9');\n",
              "          const dataTable =\n",
              "            await google.colab.kernel.invokeFunction('convertToInteractive',\n",
              "                                                     [key], {});\n",
              "          if (!dataTable) return;\n",
              "\n",
              "          const docLinkHtml = 'Like what you see? Visit the ' +\n",
              "            '<a target=\"_blank\" href=https://colab.research.google.com/notebooks/data_table.ipynb>data table notebook</a>'\n",
              "            + ' to learn more about interactive tables.';\n",
              "          element.innerHTML = '';\n",
              "          dataTable['output_type'] = 'display_data';\n",
              "          await google.colab.output.renderOutput(dataTable, element);\n",
              "          const docLink = document.createElement('div');\n",
              "          docLink.innerHTML = docLinkHtml;\n",
              "          element.appendChild(docLink);\n",
              "        }\n",
              "      </script>\n",
              "    </div>\n",
              "  </div>\n",
              "  "
            ]
          },
          "metadata": {},
          "execution_count": 8
        }
      ],
      "source": [
        "data.head()"
      ]
    },
    {
      "cell_type": "code",
      "execution_count": 9,
      "metadata": {
        "colab": {
          "base_uri": "https://localhost:8080/"
        },
        "id": "OQO_OIOj2vSu",
        "outputId": "17e03315-dce6-407f-dd0f-71813027beb4"
      },
      "outputs": [
        {
          "output_type": "stream",
          "name": "stdout",
          "text": [
            "<class 'pandas.core.frame.DataFrame'>\n",
            "RangeIndex: 268850 entries, 0 to 268849\n",
            "Data columns (total 49 columns):\n",
            " #   Column                    Non-Null Count   Dtype  \n",
            "---  ------                    --------------   -----  \n",
            " 0   regio1                    268850 non-null  object \n",
            " 1   serviceCharge             261941 non-null  float64\n",
            " 2   heatingType               223994 non-null  object \n",
            " 3   telekomTvOffer            236231 non-null  object \n",
            " 4   telekomHybridUploadSpeed  45020 non-null   float64\n",
            " 5   newlyConst                268850 non-null  bool   \n",
            " 6   balcony                   268850 non-null  bool   \n",
            " 7   picturecount              268850 non-null  int64  \n",
            " 8   pricetrend                267018 non-null  float64\n",
            " 9   telekomUploadSpeed        235492 non-null  float64\n",
            " 10  totalRent                 228333 non-null  float64\n",
            " 11  yearConstructed           211805 non-null  float64\n",
            " 12  scoutId                   268850 non-null  int64  \n",
            " 13  noParkSpaces              93052 non-null   float64\n",
            " 14  firingTypes               211886 non-null  object \n",
            " 15  hasKitchen                268850 non-null  bool   \n",
            " 16  geo_bln                   268850 non-null  object \n",
            " 17  cellar                    268850 non-null  bool   \n",
            " 18  yearConstructedRange      211805 non-null  float64\n",
            " 19  baseRent                  268850 non-null  float64\n",
            " 20  houseNumber               197832 non-null  object \n",
            " 21  livingSpace               268850 non-null  float64\n",
            " 22  geo_krs                   268850 non-null  object \n",
            " 23  condition                 200361 non-null  object \n",
            " 24  interiorQual              156185 non-null  object \n",
            " 25  petsAllowed               154277 non-null  object \n",
            " 26  street                    268850 non-null  object \n",
            " 27  streetPlain               197837 non-null  object \n",
            " 28  lift                      268850 non-null  bool   \n",
            " 29  baseRentRange             268850 non-null  int64  \n",
            " 30  typeOfFlat                232236 non-null  object \n",
            " 31  geo_plz                   268850 non-null  int64  \n",
            " 32  noRooms                   268850 non-null  float64\n",
            " 33  thermalChar               162344 non-null  float64\n",
            " 34  floor                     217541 non-null  float64\n",
            " 35  numberOfFloors            171118 non-null  float64\n",
            " 36  noRoomsRange              268850 non-null  int64  \n",
            " 37  garden                    268850 non-null  bool   \n",
            " 38  livingSpaceRange          268850 non-null  int64  \n",
            " 39  regio2                    268850 non-null  object \n",
            " 40  regio3                    268850 non-null  object \n",
            " 41  description               249103 non-null  object \n",
            " 42  facilities                215926 non-null  object \n",
            " 43  heatingCosts              85518 non-null   float64\n",
            " 44  energyEfficiencyClass     77787 non-null   object \n",
            " 45  lastRefurbish             80711 non-null   float64\n",
            " 46  electricityBasePrice      46846 non-null   float64\n",
            " 47  electricityKwhPrice       46846 non-null   float64\n",
            " 48  date                      268850 non-null  object \n",
            "dtypes: bool(6), float64(18), int64(6), object(19)\n",
            "memory usage: 89.7+ MB\n"
          ]
        }
      ],
      "source": [
        "data.info()"
      ]
    },
    {
      "cell_type": "code",
      "execution_count": 10,
      "metadata": {
        "colab": {
          "base_uri": "https://localhost:8080/",
          "height": 364
        },
        "id": "UTQbnx6J2vSw",
        "outputId": "e44526df-8e1b-44f6-e1a4-e2c45f01280b"
      },
      "outputs": [
        {
          "output_type": "execute_result",
          "data": {
            "text/plain": [
              "       serviceCharge  telekomHybridUploadSpeed   picturecount     pricetrend  \\\n",
              "count  261941.000000                   45020.0  268850.000000  267018.000000   \n",
              "mean      151.206113                      10.0       9.791958       3.389001   \n",
              "std       308.295790                       0.0       6.408399       1.964874   \n",
              "min         0.000000                      10.0       0.000000     -12.330000   \n",
              "25%        95.000000                      10.0       6.000000       2.000000   \n",
              "50%       135.000000                      10.0       9.000000       3.390000   \n",
              "75%       190.000000                      10.0      13.000000       4.570000   \n",
              "max    146118.000000                      10.0     121.000000      14.920000   \n",
              "\n",
              "       telekomUploadSpeed     totalRent  yearConstructed       scoutId  \\\n",
              "count       235492.000000  2.283330e+05    211805.000000  2.688500e+05   \n",
              "mean            28.804928  9.013315e+02      1966.400590  1.069697e+08   \n",
              "std             16.337151  3.323833e+04        46.992207  1.250093e+07   \n",
              "min              1.000000  0.000000e+00      1000.000000  2.887174e+07   \n",
              "25%             10.000000  4.698000e+02      1950.000000  1.066910e+08   \n",
              "50%             40.000000  6.500000e+02      1973.000000  1.111584e+08   \n",
              "75%             40.000000  9.850000e+02      1996.000000  1.137688e+08   \n",
              "max            100.000000  1.575154e+07      2090.000000  1.157117e+08   \n",
              "\n",
              "       noParkSpaces  yearConstructedRange      baseRent    livingSpace  \\\n",
              "count  93052.000000         211805.000000  2.688500e+05  268850.000000   \n",
              "mean       1.327634              3.714544  6.941294e+02      74.355548   \n",
              "std        8.361403              2.738134  1.953602e+04     254.759208   \n",
              "min        0.000000              1.000000  0.000000e+00       0.000000   \n",
              "25%        1.000000              1.000000  3.380000e+02      54.000000   \n",
              "50%        1.000000              3.000000  4.900000e+02      67.320000   \n",
              "75%        1.000000              5.000000  7.990000e+02      87.000000   \n",
              "max     2241.000000              9.000000  9.999999e+06  111111.000000   \n",
              "\n",
              "       baseRentRange        geo_plz        noRooms    thermalChar  \\\n",
              "count  268850.000000  268850.000000  268850.000000  162344.000000   \n",
              "mean        3.765256   37283.022235       2.641261     114.749533   \n",
              "std         2.214357   27798.037296       2.633440      61.653663   \n",
              "min         1.000000     852.000000       1.000000       0.100000   \n",
              "25%         2.000000    9128.000000       2.000000      79.000000   \n",
              "50%         3.000000   38667.000000       3.000000     107.000000   \n",
              "75%         5.000000   57072.000000       3.000000     140.300000   \n",
              "max         9.000000   99998.000000     999.990000    1996.000000   \n",
              "\n",
              "               floor  numberOfFloors   noRoomsRange  livingSpaceRange  \\\n",
              "count  217541.000000   171118.000000  268850.000000     268850.000000   \n",
              "mean        2.122405        3.572319       2.571542          3.070790   \n",
              "std         3.634934        6.375496       0.937594          1.407127   \n",
              "min        -1.000000        0.000000       1.000000          1.000000   \n",
              "25%         1.000000        2.000000       2.000000          2.000000   \n",
              "50%         2.000000        3.000000       3.000000          3.000000   \n",
              "75%         3.000000        4.000000       3.000000          4.000000   \n",
              "max       999.000000      999.000000       5.000000          7.000000   \n",
              "\n",
              "       heatingCosts  lastRefurbish  electricityBasePrice  electricityKwhPrice  \n",
              "count  85518.000000   80711.000000          46846.000000         46846.000000  \n",
              "mean      76.990866    2013.904536             89.113612             0.199769  \n",
              "std      147.716278      10.963125              5.395805             0.009667  \n",
              "min        0.000000    1015.000000             71.430000             0.170500  \n",
              "25%       54.000000    2012.000000             90.760000             0.191500  \n",
              "50%       70.000000    2017.000000             90.760000             0.198500  \n",
              "75%       90.000000    2019.000000             90.760000             0.205500  \n",
              "max    12613.000000    2919.000000             90.760000             0.227600  "
            ],
            "text/html": [
              "\n",
              "  <div id=\"df-5a5ac638-b348-4a1f-8601-4a4c54201cfb\">\n",
              "    <div class=\"colab-df-container\">\n",
              "      <div>\n",
              "<style scoped>\n",
              "    .dataframe tbody tr th:only-of-type {\n",
              "        vertical-align: middle;\n",
              "    }\n",
              "\n",
              "    .dataframe tbody tr th {\n",
              "        vertical-align: top;\n",
              "    }\n",
              "\n",
              "    .dataframe thead th {\n",
              "        text-align: right;\n",
              "    }\n",
              "</style>\n",
              "<table border=\"1\" class=\"dataframe\">\n",
              "  <thead>\n",
              "    <tr style=\"text-align: right;\">\n",
              "      <th></th>\n",
              "      <th>serviceCharge</th>\n",
              "      <th>telekomHybridUploadSpeed</th>\n",
              "      <th>picturecount</th>\n",
              "      <th>pricetrend</th>\n",
              "      <th>telekomUploadSpeed</th>\n",
              "      <th>totalRent</th>\n",
              "      <th>yearConstructed</th>\n",
              "      <th>scoutId</th>\n",
              "      <th>noParkSpaces</th>\n",
              "      <th>yearConstructedRange</th>\n",
              "      <th>baseRent</th>\n",
              "      <th>livingSpace</th>\n",
              "      <th>baseRentRange</th>\n",
              "      <th>geo_plz</th>\n",
              "      <th>noRooms</th>\n",
              "      <th>thermalChar</th>\n",
              "      <th>floor</th>\n",
              "      <th>numberOfFloors</th>\n",
              "      <th>noRoomsRange</th>\n",
              "      <th>livingSpaceRange</th>\n",
              "      <th>heatingCosts</th>\n",
              "      <th>lastRefurbish</th>\n",
              "      <th>electricityBasePrice</th>\n",
              "      <th>electricityKwhPrice</th>\n",
              "    </tr>\n",
              "  </thead>\n",
              "  <tbody>\n",
              "    <tr>\n",
              "      <th>count</th>\n",
              "      <td>261941.000000</td>\n",
              "      <td>45020.0</td>\n",
              "      <td>268850.000000</td>\n",
              "      <td>267018.000000</td>\n",
              "      <td>235492.000000</td>\n",
              "      <td>2.283330e+05</td>\n",
              "      <td>211805.000000</td>\n",
              "      <td>2.688500e+05</td>\n",
              "      <td>93052.000000</td>\n",
              "      <td>211805.000000</td>\n",
              "      <td>2.688500e+05</td>\n",
              "      <td>268850.000000</td>\n",
              "      <td>268850.000000</td>\n",
              "      <td>268850.000000</td>\n",
              "      <td>268850.000000</td>\n",
              "      <td>162344.000000</td>\n",
              "      <td>217541.000000</td>\n",
              "      <td>171118.000000</td>\n",
              "      <td>268850.000000</td>\n",
              "      <td>268850.000000</td>\n",
              "      <td>85518.000000</td>\n",
              "      <td>80711.000000</td>\n",
              "      <td>46846.000000</td>\n",
              "      <td>46846.000000</td>\n",
              "    </tr>\n",
              "    <tr>\n",
              "      <th>mean</th>\n",
              "      <td>151.206113</td>\n",
              "      <td>10.0</td>\n",
              "      <td>9.791958</td>\n",
              "      <td>3.389001</td>\n",
              "      <td>28.804928</td>\n",
              "      <td>9.013315e+02</td>\n",
              "      <td>1966.400590</td>\n",
              "      <td>1.069697e+08</td>\n",
              "      <td>1.327634</td>\n",
              "      <td>3.714544</td>\n",
              "      <td>6.941294e+02</td>\n",
              "      <td>74.355548</td>\n",
              "      <td>3.765256</td>\n",
              "      <td>37283.022235</td>\n",
              "      <td>2.641261</td>\n",
              "      <td>114.749533</td>\n",
              "      <td>2.122405</td>\n",
              "      <td>3.572319</td>\n",
              "      <td>2.571542</td>\n",
              "      <td>3.070790</td>\n",
              "      <td>76.990866</td>\n",
              "      <td>2013.904536</td>\n",
              "      <td>89.113612</td>\n",
              "      <td>0.199769</td>\n",
              "    </tr>\n",
              "    <tr>\n",
              "      <th>std</th>\n",
              "      <td>308.295790</td>\n",
              "      <td>0.0</td>\n",
              "      <td>6.408399</td>\n",
              "      <td>1.964874</td>\n",
              "      <td>16.337151</td>\n",
              "      <td>3.323833e+04</td>\n",
              "      <td>46.992207</td>\n",
              "      <td>1.250093e+07</td>\n",
              "      <td>8.361403</td>\n",
              "      <td>2.738134</td>\n",
              "      <td>1.953602e+04</td>\n",
              "      <td>254.759208</td>\n",
              "      <td>2.214357</td>\n",
              "      <td>27798.037296</td>\n",
              "      <td>2.633440</td>\n",
              "      <td>61.653663</td>\n",
              "      <td>3.634934</td>\n",
              "      <td>6.375496</td>\n",
              "      <td>0.937594</td>\n",
              "      <td>1.407127</td>\n",
              "      <td>147.716278</td>\n",
              "      <td>10.963125</td>\n",
              "      <td>5.395805</td>\n",
              "      <td>0.009667</td>\n",
              "    </tr>\n",
              "    <tr>\n",
              "      <th>min</th>\n",
              "      <td>0.000000</td>\n",
              "      <td>10.0</td>\n",
              "      <td>0.000000</td>\n",
              "      <td>-12.330000</td>\n",
              "      <td>1.000000</td>\n",
              "      <td>0.000000e+00</td>\n",
              "      <td>1000.000000</td>\n",
              "      <td>2.887174e+07</td>\n",
              "      <td>0.000000</td>\n",
              "      <td>1.000000</td>\n",
              "      <td>0.000000e+00</td>\n",
              "      <td>0.000000</td>\n",
              "      <td>1.000000</td>\n",
              "      <td>852.000000</td>\n",
              "      <td>1.000000</td>\n",
              "      <td>0.100000</td>\n",
              "      <td>-1.000000</td>\n",
              "      <td>0.000000</td>\n",
              "      <td>1.000000</td>\n",
              "      <td>1.000000</td>\n",
              "      <td>0.000000</td>\n",
              "      <td>1015.000000</td>\n",
              "      <td>71.430000</td>\n",
              "      <td>0.170500</td>\n",
              "    </tr>\n",
              "    <tr>\n",
              "      <th>25%</th>\n",
              "      <td>95.000000</td>\n",
              "      <td>10.0</td>\n",
              "      <td>6.000000</td>\n",
              "      <td>2.000000</td>\n",
              "      <td>10.000000</td>\n",
              "      <td>4.698000e+02</td>\n",
              "      <td>1950.000000</td>\n",
              "      <td>1.066910e+08</td>\n",
              "      <td>1.000000</td>\n",
              "      <td>1.000000</td>\n",
              "      <td>3.380000e+02</td>\n",
              "      <td>54.000000</td>\n",
              "      <td>2.000000</td>\n",
              "      <td>9128.000000</td>\n",
              "      <td>2.000000</td>\n",
              "      <td>79.000000</td>\n",
              "      <td>1.000000</td>\n",
              "      <td>2.000000</td>\n",
              "      <td>2.000000</td>\n",
              "      <td>2.000000</td>\n",
              "      <td>54.000000</td>\n",
              "      <td>2012.000000</td>\n",
              "      <td>90.760000</td>\n",
              "      <td>0.191500</td>\n",
              "    </tr>\n",
              "    <tr>\n",
              "      <th>50%</th>\n",
              "      <td>135.000000</td>\n",
              "      <td>10.0</td>\n",
              "      <td>9.000000</td>\n",
              "      <td>3.390000</td>\n",
              "      <td>40.000000</td>\n",
              "      <td>6.500000e+02</td>\n",
              "      <td>1973.000000</td>\n",
              "      <td>1.111584e+08</td>\n",
              "      <td>1.000000</td>\n",
              "      <td>3.000000</td>\n",
              "      <td>4.900000e+02</td>\n",
              "      <td>67.320000</td>\n",
              "      <td>3.000000</td>\n",
              "      <td>38667.000000</td>\n",
              "      <td>3.000000</td>\n",
              "      <td>107.000000</td>\n",
              "      <td>2.000000</td>\n",
              "      <td>3.000000</td>\n",
              "      <td>3.000000</td>\n",
              "      <td>3.000000</td>\n",
              "      <td>70.000000</td>\n",
              "      <td>2017.000000</td>\n",
              "      <td>90.760000</td>\n",
              "      <td>0.198500</td>\n",
              "    </tr>\n",
              "    <tr>\n",
              "      <th>75%</th>\n",
              "      <td>190.000000</td>\n",
              "      <td>10.0</td>\n",
              "      <td>13.000000</td>\n",
              "      <td>4.570000</td>\n",
              "      <td>40.000000</td>\n",
              "      <td>9.850000e+02</td>\n",
              "      <td>1996.000000</td>\n",
              "      <td>1.137688e+08</td>\n",
              "      <td>1.000000</td>\n",
              "      <td>5.000000</td>\n",
              "      <td>7.990000e+02</td>\n",
              "      <td>87.000000</td>\n",
              "      <td>5.000000</td>\n",
              "      <td>57072.000000</td>\n",
              "      <td>3.000000</td>\n",
              "      <td>140.300000</td>\n",
              "      <td>3.000000</td>\n",
              "      <td>4.000000</td>\n",
              "      <td>3.000000</td>\n",
              "      <td>4.000000</td>\n",
              "      <td>90.000000</td>\n",
              "      <td>2019.000000</td>\n",
              "      <td>90.760000</td>\n",
              "      <td>0.205500</td>\n",
              "    </tr>\n",
              "    <tr>\n",
              "      <th>max</th>\n",
              "      <td>146118.000000</td>\n",
              "      <td>10.0</td>\n",
              "      <td>121.000000</td>\n",
              "      <td>14.920000</td>\n",
              "      <td>100.000000</td>\n",
              "      <td>1.575154e+07</td>\n",
              "      <td>2090.000000</td>\n",
              "      <td>1.157117e+08</td>\n",
              "      <td>2241.000000</td>\n",
              "      <td>9.000000</td>\n",
              "      <td>9.999999e+06</td>\n",
              "      <td>111111.000000</td>\n",
              "      <td>9.000000</td>\n",
              "      <td>99998.000000</td>\n",
              "      <td>999.990000</td>\n",
              "      <td>1996.000000</td>\n",
              "      <td>999.000000</td>\n",
              "      <td>999.000000</td>\n",
              "      <td>5.000000</td>\n",
              "      <td>7.000000</td>\n",
              "      <td>12613.000000</td>\n",
              "      <td>2919.000000</td>\n",
              "      <td>90.760000</td>\n",
              "      <td>0.227600</td>\n",
              "    </tr>\n",
              "  </tbody>\n",
              "</table>\n",
              "</div>\n",
              "      <button class=\"colab-df-convert\" onclick=\"convertToInteractive('df-5a5ac638-b348-4a1f-8601-4a4c54201cfb')\"\n",
              "              title=\"Convert this dataframe to an interactive table.\"\n",
              "              style=\"display:none;\">\n",
              "        \n",
              "  <svg xmlns=\"http://www.w3.org/2000/svg\" height=\"24px\"viewBox=\"0 0 24 24\"\n",
              "       width=\"24px\">\n",
              "    <path d=\"M0 0h24v24H0V0z\" fill=\"none\"/>\n",
              "    <path d=\"M18.56 5.44l.94 2.06.94-2.06 2.06-.94-2.06-.94-.94-2.06-.94 2.06-2.06.94zm-11 1L8.5 8.5l.94-2.06 2.06-.94-2.06-.94L8.5 2.5l-.94 2.06-2.06.94zm10 10l.94 2.06.94-2.06 2.06-.94-2.06-.94-.94-2.06-.94 2.06-2.06.94z\"/><path d=\"M17.41 7.96l-1.37-1.37c-.4-.4-.92-.59-1.43-.59-.52 0-1.04.2-1.43.59L10.3 9.45l-7.72 7.72c-.78.78-.78 2.05 0 2.83L4 21.41c.39.39.9.59 1.41.59.51 0 1.02-.2 1.41-.59l7.78-7.78 2.81-2.81c.8-.78.8-2.07 0-2.86zM5.41 20L4 18.59l7.72-7.72 1.47 1.35L5.41 20z\"/>\n",
              "  </svg>\n",
              "      </button>\n",
              "      \n",
              "  <style>\n",
              "    .colab-df-container {\n",
              "      display:flex;\n",
              "      flex-wrap:wrap;\n",
              "      gap: 12px;\n",
              "    }\n",
              "\n",
              "    .colab-df-convert {\n",
              "      background-color: #E8F0FE;\n",
              "      border: none;\n",
              "      border-radius: 50%;\n",
              "      cursor: pointer;\n",
              "      display: none;\n",
              "      fill: #1967D2;\n",
              "      height: 32px;\n",
              "      padding: 0 0 0 0;\n",
              "      width: 32px;\n",
              "    }\n",
              "\n",
              "    .colab-df-convert:hover {\n",
              "      background-color: #E2EBFA;\n",
              "      box-shadow: 0px 1px 2px rgba(60, 64, 67, 0.3), 0px 1px 3px 1px rgba(60, 64, 67, 0.15);\n",
              "      fill: #174EA6;\n",
              "    }\n",
              "\n",
              "    [theme=dark] .colab-df-convert {\n",
              "      background-color: #3B4455;\n",
              "      fill: #D2E3FC;\n",
              "    }\n",
              "\n",
              "    [theme=dark] .colab-df-convert:hover {\n",
              "      background-color: #434B5C;\n",
              "      box-shadow: 0px 1px 3px 1px rgba(0, 0, 0, 0.15);\n",
              "      filter: drop-shadow(0px 1px 2px rgba(0, 0, 0, 0.3));\n",
              "      fill: #FFFFFF;\n",
              "    }\n",
              "  </style>\n",
              "\n",
              "      <script>\n",
              "        const buttonEl =\n",
              "          document.querySelector('#df-5a5ac638-b348-4a1f-8601-4a4c54201cfb button.colab-df-convert');\n",
              "        buttonEl.style.display =\n",
              "          google.colab.kernel.accessAllowed ? 'block' : 'none';\n",
              "\n",
              "        async function convertToInteractive(key) {\n",
              "          const element = document.querySelector('#df-5a5ac638-b348-4a1f-8601-4a4c54201cfb');\n",
              "          const dataTable =\n",
              "            await google.colab.kernel.invokeFunction('convertToInteractive',\n",
              "                                                     [key], {});\n",
              "          if (!dataTable) return;\n",
              "\n",
              "          const docLinkHtml = 'Like what you see? Visit the ' +\n",
              "            '<a target=\"_blank\" href=https://colab.research.google.com/notebooks/data_table.ipynb>data table notebook</a>'\n",
              "            + ' to learn more about interactive tables.';\n",
              "          element.innerHTML = '';\n",
              "          dataTable['output_type'] = 'display_data';\n",
              "          await google.colab.output.renderOutput(dataTable, element);\n",
              "          const docLink = document.createElement('div');\n",
              "          docLink.innerHTML = docLinkHtml;\n",
              "          element.appendChild(docLink);\n",
              "        }\n",
              "      </script>\n",
              "    </div>\n",
              "  </div>\n",
              "  "
            ]
          },
          "metadata": {},
          "execution_count": 10
        }
      ],
      "source": [
        "data.describe()"
      ]
    },
    {
      "cell_type": "markdown",
      "metadata": {
        "id": "TMfg6aoz2vSw"
      },
      "source": [
        "## 1.Data Cleaning"
      ]
    },
    {
      "cell_type": "markdown",
      "metadata": {
        "id": "WL7Xp7Yy2vSz"
      },
      "source": [
        "First things first, lets get rid of some unnecessary features. Lets check out categorical columns and check their unique value counts."
      ]
    },
    {
      "cell_type": "code",
      "execution_count": 11,
      "metadata": {
        "colab": {
          "base_uri": "https://localhost:8080/"
        },
        "id": "ZKhmLs1w2vSz",
        "outputId": "d3669a2b-7f7b-496b-ca92-378ed1a94208"
      },
      "outputs": [
        {
          "output_type": "stream",
          "name": "stdout",
          "text": [
            "regio1 : 16\n",
            "heatingType : 13\n",
            "telekomTvOffer : 3\n",
            "firingTypes : 132\n",
            "geo_bln : 16\n",
            "houseNumber : 5510\n",
            "geo_krs : 419\n",
            "condition : 10\n",
            "interiorQual : 4\n",
            "petsAllowed : 3\n",
            "street : 52373\n",
            "streetPlain : 54490\n",
            "typeOfFlat : 10\n",
            "regio2 : 419\n",
            "regio3 : 8684\n",
            "description : 212621\n",
            "facilities : 189526\n",
            "energyEfficiencyClass : 10\n",
            "date : 4\n",
            "scoutId : 268850\n"
          ]
        }
      ],
      "source": [
        "object_cols = [col for col in data.columns if data[col].dtype == 'O']\n",
        "for col in object_cols:\n",
        "    print(f'{col} : {data[col].nunique()}')\n",
        "print(f'scoutId : {data[\"scoutId\"].nunique()}')"
      ]
    },
    {
      "cell_type": "markdown",
      "metadata": {
        "id": "7oSMY_xm2vS0"
      },
      "source": [
        "I will drop all categorical features which a lot of unique values, because it will increase the dimentionality of feature space afte one-hot encoding. One can feature engineer columns like `facilities` and `description` with nlp, but since it is in Dutch, I just simply drop them. I need features like `regio2`, `regio3` and `geo_krs` to find duplicates, so I will drop them later."
      ]
    },
    {
      "cell_type": "code",
      "execution_count": 12,
      "metadata": {
        "colab": {
          "base_uri": "https://localhost:8080/"
        },
        "id": "lWMveTcj2vS1",
        "outputId": "9fc11e29-df9e-467d-a597-2ac5bf2c8809"
      },
      "outputs": [
        {
          "output_type": "stream",
          "name": "stdout",
          "text": [
            "features before drop: 49\n",
            "features after drop: 40\n"
          ]
        }
      ],
      "source": [
        "print(f'features before drop: {data.shape[1]}')\n",
        "data = data.drop(columns=['date', 'facilities', 'description', 'streetPlain',\n",
        "                            'street', 'houseNumber', 'geo_bln', 'scoutId', 'firingTypes'])\n",
        "print(f'features after drop: {data.shape[1]}')"
      ]
    },
    {
      "cell_type": "code",
      "execution_count": 13,
      "metadata": {
        "colab": {
          "base_uri": "https://localhost:8080/"
        },
        "id": "h6NUEBU62vS1",
        "outputId": "83d5f25f-e452-4328-9077-782dacebd509"
      },
      "outputs": [
        {
          "output_type": "execute_result",
          "data": {
            "text/plain": [
              "count    2.283330e+05\n",
              "mean     9.013315e+02\n",
              "std      3.323833e+04\n",
              "min      0.000000e+00\n",
              "25%      4.698000e+02\n",
              "50%      6.500000e+02\n",
              "75%      9.850000e+02\n",
              "max      1.575154e+07\n",
              "Name: totalRent, dtype: float64"
            ]
          },
          "metadata": {},
          "execution_count": 13
        }
      ],
      "source": [
        "data['totalRent'].describe()"
      ]
    },
    {
      "cell_type": "markdown",
      "metadata": {
        "id": "QxkxV9PB2vS2"
      },
      "source": [
        "### Delete outliers of numerical features"
      ]
    },
    {
      "cell_type": "markdown",
      "metadata": {
        "id": "E5UVOmC-2vS2"
      },
      "source": [
        "It seems one step of z-score normalization is not enough to remove outliers. So I run it twice:"
      ]
    },
    {
      "cell_type": "code",
      "execution_count": 14,
      "metadata": {
        "colab": {
          "base_uri": "https://localhost:8080/",
          "height": 660
        },
        "id": "foTAeaSj2vS4",
        "outputId": "69ac7079-bab1-469c-eb35-5f1fc21fcc31"
      },
      "outputs": [
        {
          "output_type": "stream",
          "name": "stdout",
          "text": [
            "Step 1: records before drop: 268850\n"
          ]
        },
        {
          "output_type": "display_data",
          "data": {
            "text/plain": [
              "<Figure size 432x288 with 1 Axes>"
            ],
            "image/png": "[encoded data removed]"
          },
          "metadata": {
            "needs_background": "light"
          }
        },
        {
          "output_type": "stream",
          "name": "stdout",
          "text": [
            "Step 1: records after drop: 255718\n",
            "Elapsed time: 3.7851765155792236s.\n",
            "----------\n",
            "Step 2: records before drop: 255718\n"
          ]
        },
        {
          "output_type": "display_data",
          "data": {
            "text/plain": [
              "<Figure size 432x288 with 1 Axes>"
            ],
            "image/png": "[encoded data removed]"
          },
          "metadata": {
            "needs_background": "light"
          }
        },
        {
          "output_type": "stream",
          "name": "stdout",
          "text": [
            "Step 2: records after drop: 247726\n",
            "Elapsed time: 3.866992950439453s.\n",
            "----------\n"
          ]
        }
      ],
      "source": [
        "for i, p in enumerate([3, 4]):\n",
        "    print(f'Step {i+1}: records before drop: {data.shape[0]}')\n",
        "    s_time = time.time()\n",
        "    for cols in data.columns:\n",
        "        if data[cols].dtype == 'int64' or data[cols].dtype == 'float64':\n",
        "            upper_range = data[cols].mean() + p * data[cols].std()\n",
        "            lower_range = data[cols].mean() - p * data[cols].std()\n",
        "            \n",
        "            indexs = data[(data[cols] > upper_range) | (data[cols] < lower_range)].index\n",
        "            data = data.drop(indexs)\n",
        "    data['totalRent'].plot()\n",
        "    plt.show()\n",
        "    print(f'Step {i+1}: records after drop: {data.shape[0]}')\n",
        "    print(f'Elapsed time: {time.time()-s_time}s.')\n",
        "    print(10*'-')"
      ]
    },
    {
      "cell_type": "markdown",
      "metadata": {
        "id": "mK9bpq6p2vS7"
      },
      "source": [
        "### Drop unnecessary null features\n",
        "In this step I will explore percentage of null values in each feature. I will drop some of features that seems to be not useful. I will impute other ones later on."
      ]
    },
    {
      "cell_type": "code",
      "execution_count": 15,
      "metadata": {
        "id": "YyMq9P302vS8"
      },
      "outputs": [],
      "source": [
        "null_percentage = data.isna().sum()/len(data) * 100\n",
        "null_percentage = pd.DataFrame(data={'feature': null_percentage.index, 'null_percentage': null_percentage.values})\n",
        "null_percentage = null_percentage[null_percentage['null_percentage'] > 0]\n",
        "null_percentage['feature_type'] = null_percentage['feature'].apply(lambda x: str(data[x].dtype))\n",
        "null_percentage = null_percentage.sort_values(by='null_percentage', ascending=False)"
      ]
    },
    {
      "cell_type": "code",
      "execution_count": 16,
      "metadata": {
        "colab": {
          "base_uri": "https://localhost:8080/",
          "height": 739
        },
        "id": "QyaFvxWw2vS8",
        "outputId": "f794ff4b-4d8e-4e11-a6b1-2c0b9dd892a7"
      },
      "outputs": [
        {
          "output_type": "execute_result",
          "data": {
            "text/plain": [
              "                     feature  null_percentage feature_type\n",
              "39       electricityKwhPrice        84.166781      float64\n",
              "38      electricityBasePrice        84.166781      float64\n",
              "4   telekomHybridUploadSpeed        83.220574      float64\n",
              "36     energyEfficiencyClass        70.915447       object\n",
              "37             lastRefurbish        70.456876      float64\n",
              "35              heatingCosts        68.365856      float64\n",
              "12              noParkSpaces        66.152523      float64\n",
              "21               petsAllowed        42.588989       object\n",
              "20              interiorQual        42.177648       object\n",
              "27               thermalChar        39.648644      float64\n",
              "29            numberOfFloors        36.939603      float64\n",
              "19                 condition        25.710261       object\n",
              "15      yearConstructedRange        21.673543      float64\n",
              "11           yearConstructed        21.673543      float64\n",
              "28                     floor        19.164319      float64\n",
              "2                heatingType        16.738655       object\n",
              "10                 totalRent        15.044848      float64\n",
              "24                typeOfFlat        13.660254       object\n",
              "9         telekomUploadSpeed        12.280503      float64\n",
              "3             telekomTvOffer        12.027805       object\n",
              "1              serviceCharge         2.517297      float64\n",
              "8                 pricetrend         0.676554      float64"
            ],
            "text/html": [
              "\n",
              "  <div id=\"df-84c22c1d-6a10-4894-ad15-16fb194198de\">\n",
              "    <div class=\"colab-df-container\">\n",
              "      <div>\n",
              "<style scoped>\n",
              "    .dataframe tbody tr th:only-of-type {\n",
              "        vertical-align: middle;\n",
              "    }\n",
              "\n",
              "    .dataframe tbody tr th {\n",
              "        vertical-align: top;\n",
              "    }\n",
              "\n",
              "    .dataframe thead th {\n",
              "        text-align: right;\n",
              "    }\n",
              "</style>\n",
              "<table border=\"1\" class=\"dataframe\">\n",
              "  <thead>\n",
              "    <tr style=\"text-align: right;\">\n",
              "      <th></th>\n",
              "      <th>feature</th>\n",
              "      <th>null_percentage</th>\n",
              "      <th>feature_type</th>\n",
              "    </tr>\n",
              "  </thead>\n",
              "  <tbody>\n",
              "    <tr>\n",
              "      <th>39</th>\n",
              "      <td>electricityKwhPrice</td>\n",
              "      <td>84.166781</td>\n",
              "      <td>float64</td>\n",
              "    </tr>\n",
              "    <tr>\n",
              "      <th>38</th>\n",
              "      <td>electricityBasePrice</td>\n",
              "      <td>84.166781</td>\n",
              "      <td>float64</td>\n",
              "    </tr>\n",
              "    <tr>\n",
              "      <th>4</th>\n",
              "      <td>telekomHybridUploadSpeed</td>\n",
              "      <td>83.220574</td>\n",
              "      <td>float64</td>\n",
              "    </tr>\n",
              "    <tr>\n",
              "      <th>36</th>\n",
              "      <td>energyEfficiencyClass</td>\n",
              "      <td>70.915447</td>\n",
              "      <td>object</td>\n",
              "    </tr>\n",
              "    <tr>\n",
              "      <th>37</th>\n",
              "      <td>lastRefurbish</td>\n",
              "      <td>70.456876</td>\n",
              "      <td>float64</td>\n",
              "    </tr>\n",
              "    <tr>\n",
              "      <th>35</th>\n",
              "      <td>heatingCosts</td>\n",
              "      <td>68.365856</td>\n",
              "      <td>float64</td>\n",
              "    </tr>\n",
              "    <tr>\n",
              "      <th>12</th>\n",
              "      <td>noParkSpaces</td>\n",
              "      <td>66.152523</td>\n",
              "      <td>float64</td>\n",
              "    </tr>\n",
              "    <tr>\n",
              "      <th>21</th>\n",
              "      <td>petsAllowed</td>\n",
              "      <td>42.588989</td>\n",
              "      <td>object</td>\n",
              "    </tr>\n",
              "    <tr>\n",
              "      <th>20</th>\n",
              "      <td>interiorQual</td>\n",
              "      <td>42.177648</td>\n",
              "      <td>object</td>\n",
              "    </tr>\n",
              "    <tr>\n",
              "      <th>27</th>\n",
              "      <td>thermalChar</td>\n",
              "      <td>39.648644</td>\n",
              "      <td>float64</td>\n",
              "    </tr>\n",
              "    <tr>\n",
              "      <th>29</th>\n",
              "      <td>numberOfFloors</td>\n",
              "      <td>36.939603</td>\n",
              "      <td>float64</td>\n",
              "    </tr>\n",
              "    <tr>\n",
              "      <th>19</th>\n",
              "      <td>condition</td>\n",
              "      <td>25.710261</td>\n",
              "      <td>object</td>\n",
              "    </tr>\n",
              "    <tr>\n",
              "      <th>15</th>\n",
              "      <td>yearConstructedRange</td>\n",
              "      <td>21.673543</td>\n",
              "      <td>float64</td>\n",
              "    </tr>\n",
              "    <tr>\n",
              "      <th>11</th>\n",
              "      <td>yearConstructed</td>\n",
              "      <td>21.673543</td>\n",
              "      <td>float64</td>\n",
              "    </tr>\n",
              "    <tr>\n",
              "      <th>28</th>\n",
              "      <td>floor</td>\n",
              "      <td>19.164319</td>\n",
              "      <td>float64</td>\n",
              "    </tr>\n",
              "    <tr>\n",
              "      <th>2</th>\n",
              "      <td>heatingType</td>\n",
              "      <td>16.738655</td>\n",
              "      <td>object</td>\n",
              "    </tr>\n",
              "    <tr>\n",
              "      <th>10</th>\n",
              "      <td>totalRent</td>\n",
              "      <td>15.044848</td>\n",
              "      <td>float64</td>\n",
              "    </tr>\n",
              "    <tr>\n",
              "      <th>24</th>\n",
              "      <td>typeOfFlat</td>\n",
              "      <td>13.660254</td>\n",
              "      <td>object</td>\n",
              "    </tr>\n",
              "    <tr>\n",
              "      <th>9</th>\n",
              "      <td>telekomUploadSpeed</td>\n",
              "      <td>12.280503</td>\n",
              "      <td>float64</td>\n",
              "    </tr>\n",
              "    <tr>\n",
              "      <th>3</th>\n",
              "      <td>telekomTvOffer</td>\n",
              "      <td>12.027805</td>\n",
              "      <td>object</td>\n",
              "    </tr>\n",
              "    <tr>\n",
              "      <th>1</th>\n",
              "      <td>serviceCharge</td>\n",
              "      <td>2.517297</td>\n",
              "      <td>float64</td>\n",
              "    </tr>\n",
              "    <tr>\n",
              "      <th>8</th>\n",
              "      <td>pricetrend</td>\n",
              "      <td>0.676554</td>\n",
              "      <td>float64</td>\n",
              "    </tr>\n",
              "  </tbody>\n",
              "</table>\n",
              "</div>\n",
              "      <button class=\"colab-df-convert\" onclick=\"convertToInteractive('df-84c22c1d-6a10-4894-ad15-16fb194198de')\"\n",
              "              title=\"Convert this dataframe to an interactive table.\"\n",
              "              style=\"display:none;\">\n",
              "        \n",
              "  <svg xmlns=\"http://www.w3.org/2000/svg\" height=\"24px\"viewBox=\"0 0 24 24\"\n",
              "       width=\"24px\">\n",
              "    <path d=\"M0 0h24v24H0V0z\" fill=\"none\"/>\n",
              "    <path d=\"M18.56 5.44l.94 2.06.94-2.06 2.06-.94-2.06-.94-.94-2.06-.94 2.06-2.06.94zm-11 1L8.5 8.5l.94-2.06 2.06-.94-2.06-.94L8.5 2.5l-.94 2.06-2.06.94zm10 10l.94 2.06.94-2.06 2.06-.94-2.06-.94-.94-2.06-.94 2.06-2.06.94z\"/><path d=\"M17.41 7.96l-1.37-1.37c-.4-.4-.92-.59-1.43-.59-.52 0-1.04.2-1.43.59L10.3 9.45l-7.72 7.72c-.78.78-.78 2.05 0 2.83L4 21.41c.39.39.9.59 1.41.59.51 0 1.02-.2 1.41-.59l7.78-7.78 2.81-2.81c.8-.78.8-2.07 0-2.86zM5.41 20L4 18.59l7.72-7.72 1.47 1.35L5.41 20z\"/>\n",
              "  </svg>\n",
              "      </button>\n",
              "      \n",
              "  <style>\n",
              "    .colab-df-container {\n",
              "      display:flex;\n",
              "      flex-wrap:wrap;\n",
              "      gap: 12px;\n",
              "    }\n",
              "\n",
              "    .colab-df-convert {\n",
              "      background-color: #E8F0FE;\n",
              "      border: none;\n",
              "      border-radius: 50%;\n",
              "      cursor: pointer;\n",
              "      display: none;\n",
              "      fill: #1967D2;\n",
              "      height: 32px;\n",
              "      padding: 0 0 0 0;\n",
              "      width: 32px;\n",
              "    }\n",
              "\n",
              "    .colab-df-convert:hover {\n",
              "      background-color: #E2EBFA;\n",
              "      box-shadow: 0px 1px 2px rgba(60, 64, 67, 0.3), 0px 1px 3px 1px rgba(60, 64, 67, 0.15);\n",
              "      fill: #174EA6;\n",
              "    }\n",
              "\n",
              "    [theme=dark] .colab-df-convert {\n",
              "      background-color: #3B4455;\n",
              "      fill: #D2E3FC;\n",
              "    }\n",
              "\n",
              "    [theme=dark] .colab-df-convert:hover {\n",
              "      background-color: #434B5C;\n",
              "      box-shadow: 0px 1px 3px 1px rgba(0, 0, 0, 0.15);\n",
              "      filter: drop-shadow(0px 1px 2px rgba(0, 0, 0, 0.3));\n",
              "      fill: #FFFFFF;\n",
              "    }\n",
              "  </style>\n",
              "\n",
              "      <script>\n",
              "        const buttonEl =\n",
              "          document.querySelector('#df-84c22c1d-6a10-4894-ad15-16fb194198de button.colab-df-convert');\n",
              "        buttonEl.style.display =\n",
              "          google.colab.kernel.accessAllowed ? 'block' : 'none';\n",
              "\n",
              "        async function convertToInteractive(key) {\n",
              "          const element = document.querySelector('#df-84c22c1d-6a10-4894-ad15-16fb194198de');\n",
              "          const dataTable =\n",
              "            await google.colab.kernel.invokeFunction('convertToInteractive',\n",
              "                                                     [key], {});\n",
              "          if (!dataTable) return;\n",
              "\n",
              "          const docLinkHtml = 'Like what you see? Visit the ' +\n",
              "            '<a target=\"_blank\" href=https://colab.research.google.com/notebooks/data_table.ipynb>data table notebook</a>'\n",
              "            + ' to learn more about interactive tables.';\n",
              "          element.innerHTML = '';\n",
              "          dataTable['output_type'] = 'display_data';\n",
              "          await google.colab.output.renderOutput(dataTable, element);\n",
              "          const docLink = document.createElement('div');\n",
              "          docLink.innerHTML = docLinkHtml;\n",
              "          element.appendChild(docLink);\n",
              "        }\n",
              "      </script>\n",
              "    </div>\n",
              "  </div>\n",
              "  "
            ]
          },
          "metadata": {},
          "execution_count": 16
        }
      ],
      "source": [
        "null_percentage"
      ]
    },
    {
      "cell_type": "markdown",
      "metadata": {
        "id": "ClIJC7aL2vS8"
      },
      "source": [
        "I will use `serviceCharge`, `electricityBasePrice` and `heatingCosts` to impute `totalRent` values, so I will fill their missing values with their mean (after deleting outliers). \n",
        "`electricityBasePrice` and `heatingCosts` have more than 50% missing values, so I will drop them after imputing `totalRent`."
      ]
    },
    {
      "cell_type": "code",
      "execution_count": 17,
      "metadata": {
        "id": "L0EfPEJa2vS8"
      },
      "outputs": [],
      "source": [
        "data['serviceCharge'].fillna(data['serviceCharge'].mean(), inplace = True)\n",
        "data['electricityBasePrice'].fillna(data['electricityBasePrice'].mean(), inplace = True)\n",
        "data['heatingCosts'].fillna(data['heatingCosts'].mean(), inplace = True)"
      ]
    },
    {
      "cell_type": "markdown",
      "metadata": {
        "id": "2sjGaTJJ2vS8"
      },
      "source": [
        "Let's drop other features that more than 50% of their records are missing."
      ]
    },
    {
      "cell_type": "code",
      "execution_count": 18,
      "metadata": {
        "colab": {
          "base_uri": "https://localhost:8080/"
        },
        "id": "vF42QNq12vS9",
        "outputId": "612d7954-7637-41ab-df83-5fd835148806"
      },
      "outputs": [
        {
          "output_type": "stream",
          "name": "stdout",
          "text": [
            "Features before drop: 40\n",
            "Features after drop: 35\n"
          ]
        }
      ],
      "source": [
        "print(f'Features before drop: {data.shape[1]}')\n",
        "data = data.drop(columns=data.columns[((data.isnull().sum()/len(data)) > 0.50)])\n",
        "print(f'Features after drop: {data.shape[1]}')"
      ]
    },
    {
      "cell_type": "markdown",
      "metadata": {
        "id": "xBtc22u42vS9"
      },
      "source": [
        "### Handling invalid values"
      ]
    },
    {
      "cell_type": "markdown",
      "metadata": {
        "id": "6xNG79Gl2vS9"
      },
      "source": [
        "First, lets remove records which their `living_space` and `totalRent` is 0. Since there's no null values in these columns and records with 0 value are few, droping them is a better choise."
      ]
    },
    {
      "cell_type": "code",
      "execution_count": 19,
      "metadata": {
        "colab": {
          "base_uri": "https://localhost:8080/"
        },
        "id": "sbNlmuNB2vS9",
        "outputId": "6dcc43cd-ba0b-4e8b-b7e3-fc59475110c5"
      },
      "outputs": [
        {
          "output_type": "stream",
          "name": "stdout",
          "text": [
            "64 entries with livingSpace = 0.\n",
            "80 entries with baseRent = 0.\n",
            "222 entries with totalRent = 0.\n"
          ]
        }
      ],
      "source": [
        "print(f'{data[data.livingSpace == 0.0].shape[0]} entries with livingSpace = 0.')\n",
        "print(f'{data[data.baseRent == 0.0].shape[0]} entries with baseRent = 0.')\n",
        "print(f'{data[data.totalRent == 0.0].shape[0]} entries with totalRent = 0.')"
      ]
    },
    {
      "cell_type": "code",
      "execution_count": 20,
      "metadata": {
        "id": "ra8ekTfJ2vS9"
      },
      "outputs": [],
      "source": [
        "data = data.drop(data[data['livingSpace'] == 0.0].index)\n",
        "data = data.drop(data[data['baseRent'] == 0.0].index)"
      ]
    },
    {
      "cell_type": "markdown",
      "metadata": {
        "id": "z58LjT1u2vS9"
      },
      "source": [
        "Since some records have `totalRent` of 0 and this feature contains null values, it's better to fill zeros (meaningless values) with null."
      ]
    },
    {
      "cell_type": "code",
      "execution_count": 21,
      "metadata": {
        "colab": {
          "base_uri": "https://localhost:8080/"
        },
        "id": "X4VUtWTx2vS-",
        "outputId": "b3eaddc3-bc02-42d4-89ec-b840e615d6cf"
      },
      "outputs": [
        {
          "output_type": "stream",
          "name": "stdout",
          "text": [
            "Null values before fill: 37237\n",
            "Null values after fill: 37452\n"
          ]
        }
      ],
      "source": [
        "print(f'Null values before fill: {data.totalRent.isnull().sum()}')\n",
        "data['totalRent'] = data['totalRent'].replace(0, np.nan)\n",
        "print(f'Null values after fill: {data.totalRent.isnull().sum()}')"
      ]
    },
    {
      "cell_type": "markdown",
      "metadata": {
        "id": "bPu25sB02vS-"
      },
      "source": [
        "### Removing duplicate values"
      ]
    },
    {
      "cell_type": "markdown",
      "metadata": {
        "id": "m6q_Knt12vS-"
      },
      "source": [
        "In this step, I will use pandas `duplicated` module on features that has no null values, I think these features are more helpful for this task than features with null values."
      ]
    },
    {
      "cell_type": "code",
      "execution_count": 22,
      "metadata": {
        "colab": {
          "base_uri": "https://localhost:8080/"
        },
        "id": "F20csraq2vS-",
        "outputId": "0c20d461-ace2-43ae-a7b1-b979547a3db1"
      },
      "outputs": [
        {
          "output_type": "stream",
          "name": "stdout",
          "text": [
            "We have 26034 duplicated values which is 10% of all data.\n"
          ]
        }
      ],
      "source": [
        "duplicated = data.duplicated(subset=['geo_plz', 'geo_krs', 'livingSpace',\n",
        "                        'baseRent', 'newlyConst', 'cellar', \n",
        "                        'balcony', 'garden', 'lift', 'noRooms',\n",
        "                        'regio1', 'regio2', 'regio3', 'balcony'], keep=False)\n",
        "duplicated_idx = duplicated[duplicated == True].index\n",
        "print(f'We have {duplicated_idx.shape[0]} duplicated values which is {int(duplicated_idx.shape[0] * 100 / data.shape[0])}% of all data.')"
      ]
    },
    {
      "cell_type": "code",
      "execution_count": 23,
      "metadata": {
        "colab": {
          "base_uri": "https://localhost:8080/"
        },
        "id": "pC2zAKAh2vS-",
        "outputId": "1e43f20a-c260-487d-df33-ae8771ea6b70"
      },
      "outputs": [
        {
          "output_type": "stream",
          "name": "stdout",
          "text": [
            "Records before duplicate drops: 247591\n",
            "Records after duplicate drops: 221557\n"
          ]
        }
      ],
      "source": [
        "print(f'Records before duplicate drops: {data.shape[0]}')\n",
        "data = data.drop(duplicated_idx)\n",
        "print(f'Records after duplicate drops: {data.shape[0]}')"
      ]
    },
    {
      "cell_type": "markdown",
      "metadata": {
        "id": "YMCgroo92vS_"
      },
      "source": [
        "I don't need `regio2`, `regio3` and `geo_krs` anymore, so I'll drop them."
      ]
    },
    {
      "cell_type": "code",
      "execution_count": 24,
      "metadata": {
        "colab": {
          "base_uri": "https://localhost:8080/"
        },
        "id": "Luks1yj62vS_",
        "outputId": "ebe7c6b3-20fc-435c-fe0c-7ba03ca55cad"
      },
      "outputs": [
        {
          "output_type": "stream",
          "name": "stdout",
          "text": [
            "Features before drop: 35\n",
            "Features before drop: 32\n"
          ]
        }
      ],
      "source": [
        "print(f'Features before drop: {data.shape[1]}')\n",
        "data = data.drop(columns=['regio2', 'regio3', 'geo_krs'])\n",
        "print(f'Features before drop: {data.shape[1]}')"
      ]
    },
    {
      "cell_type": "markdown",
      "metadata": {
        "id": "wWCn7Q5N2vTA"
      },
      "source": [
        "### Impute missing values\n",
        "First, let's impute the `totalRent` values. Filling this column with mean would be sloppy, so I will teorize a formula based on `baseRent`,  `serviceCharge`, `electricityBasePrice` and `heatingCosts`:\n",
        "\\begin{equation}\n",
        "\\text{totalRent} = \\text{baseRent} + \\text{serviceCharge} + \\alpha \\times \\text{electricityBasePrice} + \\beta \\times \\text{heatingCosts}\n",
        "\\end{equation}\n",
        "I will figure out alpha and beta empirically. The distance between `baseRent` and `totalRent` means is 165. So I think other features should fill this gap."
      ]
    },
    {
      "cell_type": "code",
      "execution_count": 25,
      "metadata": {
        "colab": {
          "base_uri": "https://localhost:8080/"
        },
        "id": "gYKETXzY2vTA",
        "outputId": "264a66e2-0f04-410a-9256-a427f95ec078"
      },
      "outputs": [
        {
          "output_type": "execute_result",
          "data": {
            "text/plain": [
              "165"
            ]
          },
          "metadata": {},
          "execution_count": 25
        }
      ],
      "source": [
        "int((data['totalRent'] - data['baseRent']).mean())"
      ]
    },
    {
      "cell_type": "code",
      "execution_count": 26,
      "metadata": {
        "colab": {
          "base_uri": "https://localhost:8080/"
        },
        "id": "cA6RbNVh2vTA",
        "outputId": "6cdcdb22-1498-4b5c-d336-76a2954fde81"
      },
      "outputs": [
        {
          "output_type": "execute_result",
          "data": {
            "text/plain": [
              "(90.76000000010441, 72.54129245728186, 146.33562772342697)"
            ]
          },
          "metadata": {},
          "execution_count": 26
        }
      ],
      "source": [
        "data['electricityBasePrice'].mean(), data['heatingCosts'].mean(), data['serviceCharge'].mean()"
      ]
    },
    {
      "cell_type": "code",
      "execution_count": 27,
      "metadata": {
        "colab": {
          "base_uri": "https://localhost:8080/"
        },
        "id": "MaDOfpmm2vTB",
        "outputId": "170f5bce-b179-455b-e5c4-29fe3aff5211"
      },
      "outputs": [
        {
          "output_type": "execute_result",
          "data": {
            "text/plain": [
              "count    188112.000000\n",
              "mean        775.667059\n",
              "std         414.714748\n",
              "min           1.000000\n",
              "25%         475.000000\n",
              "50%         650.000000\n",
              "75%         964.000000\n",
              "max        2885.830000\n",
              "Name: totalRent, dtype: float64"
            ]
          },
          "metadata": {},
          "execution_count": 27
        }
      ],
      "source": [
        "data['totalRent'].describe()"
      ]
    },
    {
      "cell_type": "code",
      "execution_count": 28,
      "metadata": {
        "id": "TmlAxDOj2vTB"
      },
      "outputs": [],
      "source": [
        "data['totalRent'] = data.apply(\n",
        "    lambda row: row['baseRent'] + row['serviceCharge'] + (1/7) * row['heatingCosts'] + (1/9) * row['electricityBasePrice'] if np.isnan(row['totalRent']) else row['totalRent'],\n",
        "    axis=1\n",
        ")"
      ]
    },
    {
      "cell_type": "code",
      "execution_count": 29,
      "metadata": {
        "colab": {
          "base_uri": "https://localhost:8080/"
        },
        "id": "SJ27nDkn2vTB",
        "outputId": "ebe1b168-707f-45b7-9a1c-62689c30285f"
      },
      "outputs": [
        {
          "output_type": "execute_result",
          "data": {
            "text/plain": [
              "count    221557.000000\n",
              "mean        777.555271\n",
              "std         415.098338\n",
              "min           1.000000\n",
              "25%         477.000000\n",
              "50%         654.500000\n",
              "75%         968.000000\n",
              "max        2885.830000\n",
              "Name: totalRent, dtype: float64"
            ]
          },
          "metadata": {},
          "execution_count": 29
        }
      ],
      "source": [
        "data['totalRent'].describe()"
      ]
    },
    {
      "cell_type": "markdown",
      "metadata": {
        "id": "I_9-tbs82vTB"
      },
      "source": [
        "As you can see, the mean and std of the column after imputation is close to the mean and std of the column before imputation. We don't need  `heatingCosts` and `electricityBasePrice` features anymore, so let's drop'em."
      ]
    },
    {
      "cell_type": "code",
      "execution_count": 30,
      "metadata": {
        "colab": {
          "base_uri": "https://localhost:8080/"
        },
        "id": "nw481_kV2vTB",
        "outputId": "383cec05-48c5-4044-b92a-406ed23f46f3"
      },
      "outputs": [
        {
          "output_type": "stream",
          "name": "stdout",
          "text": [
            "Features before drop: 32\n",
            "Features before drop: 30\n"
          ]
        }
      ],
      "source": [
        "print(f'Features before drop: {data.shape[1]}')\n",
        "data = data.drop(columns=['heatingCosts', 'electricityBasePrice'])\n",
        "print(f'Features before drop: {data.shape[1]}')"
      ]
    },
    {
      "cell_type": "code",
      "execution_count": 31,
      "metadata": {
        "colab": {
          "base_uri": "https://localhost:8080/"
        },
        "id": "0QR6fKcc2vTC",
        "outputId": "c03543e6-5ae1-41ed-d5ac-12928c1d8383"
      },
      "outputs": [
        {
          "output_type": "execute_result",
          "data": {
            "text/plain": [
              "heatingType             36082\n",
              "telekomTvOffer          26333\n",
              "pricetrend               1593\n",
              "telekomUploadSpeed      26923\n",
              "yearConstructed         49016\n",
              "yearConstructedRange    49016\n",
              "condition               56246\n",
              "interiorQual            91244\n",
              "petsAllowed             92728\n",
              "typeOfFlat              28894\n",
              "thermalChar             90858\n",
              "floor                   43407\n",
              "numberOfFloors          80140\n",
              "dtype: int64"
            ]
          },
          "metadata": {},
          "execution_count": 31
        }
      ],
      "source": [
        "data.isnull().sum()[data.isnull().sum()>0]"
      ]
    },
    {
      "cell_type": "markdown",
      "metadata": {
        "id": "5xSSEM_G2vTC"
      },
      "source": [
        "Now let's impute other features, numerical features by their mean and categorical features by their mode."
      ]
    },
    {
      "cell_type": "code",
      "execution_count": 32,
      "metadata": {
        "id": "rPz_8Ebi2vTC"
      },
      "outputs": [],
      "source": [
        "data.fillna(data._get_numeric_data().mean(), inplace = True)"
      ]
    },
    {
      "cell_type": "code",
      "execution_count": 33,
      "metadata": {
        "colab": {
          "base_uri": "https://localhost:8080/"
        },
        "id": "s8szu92H2vTC",
        "outputId": "82b49425-e0f2-43df-dec1-133bd10935a7"
      },
      "outputs": [
        {
          "output_type": "stream",
          "name": "stdout",
          "text": [
            "col: regio1, mode value: Nordrhein_Westfalen\n",
            "col: heatingType, mode value: central_heating\n",
            "col: telekomTvOffer, mode value: ONE_YEAR_FREE\n",
            "col: newlyConst, mode value: False\n",
            "col: balcony, mode value: True\n",
            "col: hasKitchen, mode value: False\n",
            "col: cellar, mode value: True\n",
            "col: condition, mode value: well_kept\n",
            "col: interiorQual, mode value: normal\n",
            "col: petsAllowed, mode value: negotiable\n",
            "col: lift, mode value: False\n",
            "col: typeOfFlat, mode value: apartment\n",
            "col: garden, mode value: False\n"
          ]
        }
      ],
      "source": [
        "for cols in data.columns:\n",
        "    if data[cols].dtype == 'object' or data[cols].dtype == 'bool':\n",
        "        print('col: {}, mode value: {}'.format(cols , data[cols].value_counts().head(1).index[0]))\n",
        "        data[cols].fillna(data[cols].value_counts().head(1).index[0], inplace = True)"
      ]
    },
    {
      "cell_type": "markdown",
      "metadata": {
        "id": "ufZpvISA2vTC"
      },
      "source": [
        "## 2.Data Visualization"
      ]
    },
    {
      "cell_type": "code",
      "execution_count": 34,
      "metadata": {
        "colab": {
          "base_uri": "https://localhost:8080/"
        },
        "id": "qog-mca_2vTC",
        "outputId": "7f9e2bf9-ba03-46b7-ce44-394a277badec"
      },
      "outputs": [
        {
          "output_type": "stream",
          "name": "stdout",
          "text": [
            "col: regio1, mode value: 16\n",
            "col: heatingType, mode value: 13\n",
            "col: telekomTvOffer, mode value: 3\n",
            "col: newlyConst, mode value: 2\n",
            "col: balcony, mode value: 2\n",
            "col: hasKitchen, mode value: 2\n",
            "col: cellar, mode value: 2\n",
            "col: condition, mode value: 10\n",
            "col: interiorQual, mode value: 4\n",
            "col: petsAllowed, mode value: 3\n",
            "col: lift, mode value: 2\n",
            "col: typeOfFlat, mode value: 10\n",
            "col: garden, mode value: 2\n"
          ]
        }
      ],
      "source": [
        "for cols in data.columns:\n",
        "    if data[cols].dtype == 'object' or data[cols].dtype == 'bool':\n",
        "        print('col: {}, mode value: {}'.format(cols , data[cols].nunique()))"
      ]
    },
    {
      "cell_type": "code",
      "execution_count": 35,
      "metadata": {
        "colab": {
          "base_uri": "https://localhost:8080/",
          "height": 591
        },
        "id": "1CCRtgXs2vTD",
        "outputId": "c605342e-4775-4a32-bcca-d471c80e3e50"
      },
      "outputs": [
        {
          "output_type": "display_data",
          "data": {
            "text/plain": [
              "<Figure size 720x720 with 9 Axes>"
            ],
            "image/png": "[encoded data removed]"
          },
          "metadata": {}
        }
      ],
      "source": [
        "pie_cols = [\n",
        "    'telekomTvOffer', 'newlyConst', 'balcony',\n",
        "    'hasKitchen', 'cellar', 'interiorQual',\n",
        "    'petsAllowed', 'lift', 'garden'\n",
        "]\n",
        "\n",
        "fig, axes= plt.subplots(3, 3, figsize=(10,10))\n",
        "\n",
        "for i, ax in enumerate(axes.flatten()):\n",
        "    vc = data[pie_cols[i]].value_counts()\n",
        "    ax.pie(vc, labels=vc.index, autopct='%1.1f%%')\n",
        "    ax.set_title(pie_cols[i])\n",
        "\n",
        "plt.show()"
      ]
    },
    {
      "cell_type": "code",
      "execution_count": 36,
      "metadata": {
        "colab": {
          "base_uri": "https://localhost:8080/",
          "height": 1000
        },
        "id": "y8fEBbiJ2vTD",
        "outputId": "82df1e15-af75-4dfa-d74e-63694c79b8d5"
      },
      "outputs": [
        {
          "output_type": "display_data",
          "data": {
            "text/plain": [
              "<Figure size 1440x360 with 1 Axes>"
            ],
            "image/png": "[encoded data removed]"
          },
          "metadata": {
            "needs_background": "light"
          }
        },
        {
          "output_type": "display_data",
          "data": {
            "text/plain": [
              "<Figure size 1440x360 with 1 Axes>"
            ],
            "image/png": "[encoded data removed]"
          },
          "metadata": {
            "needs_background": "light"
          }
        },
        {
          "output_type": "display_data",
          "data": {
            "text/plain": [
              "<Figure size 1440x360 with 1 Axes>"
            ],
            "image/png": "[encoded data removed]"
          },
          "metadata": {
            "needs_background": "light"
          }
        },
        {
          "output_type": "display_data",
          "data": {
            "text/plain": [
              "<Figure size 1440x360 with 1 Axes>"
            ],
            "image/png": "[encoded data removed]"
          },
          "metadata": {
            "needs_background": "light"
          }
        }
      ],
      "source": [
        "count_cols = ['condition', 'regio1', 'heatingType','typeOfFlat']\n",
        "for col in count_cols:\n",
        "    sns.countplot(x=data[col], order = data[col].value_counts().index);\n",
        "    fig = plt.gcf()\n",
        "    fig.set_size_inches(20, 5)\n",
        "    plt.show()"
      ]
    },
    {
      "cell_type": "markdown",
      "metadata": {
        "id": "_dbkOl7U2vTD"
      },
      "source": [
        "To reduce features after one-hot encoding, I will reduce the number of categories thus reducing the dimentionality of final feature space."
      ]
    },
    {
      "cell_type": "code",
      "execution_count": 37,
      "metadata": {
        "colab": {
          "base_uri": "https://localhost:8080/"
        },
        "id": "E7xIvMSS2vTD",
        "outputId": "fe7c2b4d-84d5-4d09-c550-227573aed0e9"
      },
      "outputs": [
        {
          "output_type": "execute_result",
          "data": {
            "text/plain": [
              "well_kept    51.110549\n",
              "other        48.889451\n",
              "Name: condition, dtype: float64"
            ]
          },
          "metadata": {},
          "execution_count": 37
        }
      ],
      "source": [
        "def edit_condition(x):\n",
        "    if x != 'well_kept':\n",
        "        return 'other'\n",
        "    else:\n",
        "        return x\n",
        "\n",
        "data['condition'] = data['condition'].apply(edit_condition)\n",
        "data['condition'].value_counts()*100 / len(data)"
      ]
    },
    {
      "cell_type": "code",
      "execution_count": 38,
      "metadata": {
        "colab": {
          "base_uri": "https://localhost:8080/"
        },
        "id": "XzsEBYZo2vTD",
        "outputId": "6a6f1a1f-d094-4e63-8cff-7651b3f0f8fb"
      },
      "outputs": [
        {
          "output_type": "execute_result",
          "data": {
            "text/plain": [
              "central_heating    64.457453\n",
              "other              35.542547\n",
              "Name: heatingType, dtype: float64"
            ]
          },
          "metadata": {},
          "execution_count": 38
        }
      ],
      "source": [
        "def edit_heating(x):\n",
        "    if x != 'central_heating':\n",
        "        return 'other'\n",
        "    else:\n",
        "        return x\n",
        "\n",
        "data['heatingType'] = data['heatingType'].apply(edit_heating)\n",
        "data['heatingType'].value_counts()*100 / len(data)"
      ]
    },
    {
      "cell_type": "code",
      "execution_count": 39,
      "metadata": {
        "colab": {
          "base_uri": "https://localhost:8080/"
        },
        "id": "g33ui3fO2vTD",
        "outputId": "ac50cbaf-7f8d-4a4f-efda-559d0b2c0874"
      },
      "outputs": [
        {
          "output_type": "execute_result",
          "data": {
            "text/plain": [
              "apartment       61.187415\n",
              "roof_storey     13.703020\n",
              "other           12.826045\n",
              "ground_floor    12.283521\n",
              "Name: typeOfFlat, dtype: float64"
            ]
          },
          "metadata": {},
          "execution_count": 39
        }
      ],
      "source": [
        "top = list(data['typeOfFlat'].value_counts().head(3).index)\n",
        "def edit_flat(x):\n",
        "    if x not in top:\n",
        "        return 'other'\n",
        "    else:\n",
        "        return x\n",
        "\n",
        "data['typeOfFlat'] = data['typeOfFlat'].apply(edit_flat)\n",
        "data['typeOfFlat'].value_counts()*100 / len(data)"
      ]
    },
    {
      "cell_type": "code",
      "execution_count": 40,
      "metadata": {
        "colab": {
          "base_uri": "https://localhost:8080/"
        },
        "id": "DznwL6tu2vTD",
        "outputId": "4e6e2c26-31f6-40aa-df08-d2f5fde1a818"
      },
      "outputs": [
        {
          "output_type": "execute_result",
          "data": {
            "text/plain": [
              "regio1\n",
              "Hamburg                   1243.525535\n",
              "Berlin                    1153.374006\n",
              "Bayern                    1070.386332\n",
              "Hessen                    1069.744001\n",
              "Baden_Württemberg         1066.527073\n",
              "Rheinland_Pfalz            840.716414\n",
              "Schleswig_Holstein         811.774413\n",
              "Bremen                     779.852738\n",
              "Niedersachsen              752.612992\n",
              "Nordrhein_Westfalen        749.724311\n",
              "Saarland                   742.379756\n",
              "Brandenburg                665.482656\n",
              "Sachsen                    577.358275\n",
              "Mecklenburg_Vorpommern     574.789969\n",
              "Thüringen                  533.961770\n",
              "Sachsen_Anhalt             516.338583\n",
              "Name: totalRent, dtype: float64"
            ]
          },
          "metadata": {},
          "execution_count": 40
        }
      ],
      "source": [
        "rentmean_regio1 = data.groupby(['regio1'])['totalRent'].mean().sort_values(ascending=False)\n",
        "rentmean_regio1"
      ]
    },
    {
      "cell_type": "code",
      "execution_count": 41,
      "metadata": {
        "colab": {
          "base_uri": "https://localhost:8080/",
          "height": 542
        },
        "id": "1cJIGcrd2vTD",
        "outputId": "6398fe0c-5d98-4ecb-8f29-a26f0245bb43"
      },
      "outputs": [
        {
          "output_type": "display_data",
          "data": {
            "text/html": [
              "<html>\n",
              "<head><meta charset=\"utf-8\" /></head>\n",
              "<body>\n",
              "    <div>            <script src=\"https://cdnjs.cloudflare.com/ajax/libs/mathjax/2.7.5/MathJax.js?config=TeX-AMS-MML_SVG\"></script><script type=\"text/javascript\">if (window.MathJax) {MathJax.Hub.Config({SVG: {font: \"STIX-Web\"}});}</script>                <script type=\"text/javascript\">window.PlotlyConfig = {MathJaxConfig: 'local'};</script>\n",
              "        <script src=\"https://cdn.plot.ly/plotly-2.8.3.min.js\"></script>                <div id=\"c7090226-2679-40ce-b4f6-d15d27be09dd\" class=\"plotly-graph-div\" style=\"height:525px; width:100%;\"></div>            <script type=\"text/javascript\">                                    window.PLOTLYENV=window.PLOTLYENV || {};                                    if (document.getElementById(\"c7090226-2679-40ce-b4f6-d15d27be09dd\")) {                    Plotly.newPlot(                        \"c7090226-2679-40ce-b4f6-d15d27be09dd\",                        [{\"alignmentgroup\":\"True\",\"bingroup\":\"x\",\"histfunc\":\"sum\",\"hovertemplate\":\"color=Baden_W\\u00fcrttemberg<br>x=%{x}<br>sum of y=%{y}<extra></extra>\",\"legendgroup\":\"Baden_W\\u00fcrttemberg\",\"marker\":{\"color\":\"#636efa\",\"pattern\":{\"shape\":\"\"}},\"name\":\"Baden_W\\u00fcrttemberg\",\"offsetgroup\":\"Baden_W\\u00fcrttemberg\",\"orientation\":\"v\",\"showlegend\":true,\"x\":[\"Baden_W\\u00fcrttemberg\"],\"xaxis\":\"x\",\"y\":[1243.5255350558898],\"yaxis\":\"y\",\"type\":\"histogram\"},{\"alignmentgroup\":\"True\",\"bingroup\":\"x\",\"histfunc\":\"sum\",\"hovertemplate\":\"color=Bayern<br>x=%{x}<br>sum of y=%{y}<extra></extra>\",\"legendgroup\":\"Bayern\",\"marker\":{\"color\":\"#EF553B\",\"pattern\":{\"shape\":\"\"}},\"name\":\"Bayern\",\"offsetgroup\":\"Bayern\",\"orientation\":\"v\",\"showlegend\":true,\"x\":[\"Bayern\"],\"xaxis\":\"x\",\"y\":[1153.3740062886445],\"yaxis\":\"y\",\"type\":\"histogram\"},{\"alignmentgroup\":\"True\",\"bingroup\":\"x\",\"histfunc\":\"sum\",\"hovertemplate\":\"color=Berlin<br>x=%{x}<br>sum of y=%{y}<extra></extra>\",\"legendgroup\":\"Berlin\",\"marker\":{\"color\":\"#00cc96\",\"pattern\":{\"shape\":\"\"}},\"name\":\"Berlin\",\"offsetgroup\":\"Berlin\",\"orientation\":\"v\",\"showlegend\":true,\"x\":[\"Berlin\"],\"xaxis\":\"x\",\"y\":[1070.3863322355514],\"yaxis\":\"y\",\"type\":\"histogram\"},{\"alignmentgroup\":\"True\",\"bingroup\":\"x\",\"histfunc\":\"sum\",\"hovertemplate\":\"color=Brandenburg<br>x=%{x}<br>sum of y=%{y}<extra></extra>\",\"legendgroup\":\"Brandenburg\",\"marker\":{\"color\":\"#ab63fa\",\"pattern\":{\"shape\":\"\"}},\"name\":\"Brandenburg\",\"offsetgroup\":\"Brandenburg\",\"orientation\":\"v\",\"showlegend\":true,\"x\":[\"Brandenburg\"],\"xaxis\":\"x\",\"y\":[1069.7440014500278],\"yaxis\":\"y\",\"type\":\"histogram\"},{\"alignmentgroup\":\"True\",\"bingroup\":\"x\",\"histfunc\":\"sum\",\"hovertemplate\":\"color=Bremen<br>x=%{x}<br>sum of y=%{y}<extra></extra>\",\"legendgroup\":\"Bremen\",\"marker\":{\"color\":\"#FFA15A\",\"pattern\":{\"shape\":\"\"}},\"name\":\"Bremen\",\"offsetgroup\":\"Bremen\",\"orientation\":\"v\",\"showlegend\":true,\"x\":[\"Bremen\"],\"xaxis\":\"x\",\"y\":[1066.5270726292765],\"yaxis\":\"y\",\"type\":\"histogram\"},{\"alignmentgroup\":\"True\",\"bingroup\":\"x\",\"histfunc\":\"sum\",\"hovertemplate\":\"color=Hamburg<br>x=%{x}<br>sum of y=%{y}<extra></extra>\",\"legendgroup\":\"Hamburg\",\"marker\":{\"color\":\"#19d3f3\",\"pattern\":{\"shape\":\"\"}},\"name\":\"Hamburg\",\"offsetgroup\":\"Hamburg\",\"orientation\":\"v\",\"showlegend\":true,\"x\":[\"Hamburg\"],\"xaxis\":\"x\",\"y\":[840.7164136517894],\"yaxis\":\"y\",\"type\":\"histogram\"},{\"alignmentgroup\":\"True\",\"bingroup\":\"x\",\"histfunc\":\"sum\",\"hovertemplate\":\"color=Hessen<br>x=%{x}<br>sum of y=%{y}<extra></extra>\",\"legendgroup\":\"Hessen\",\"marker\":{\"color\":\"#FF6692\",\"pattern\":{\"shape\":\"\"}},\"name\":\"Hessen\",\"offsetgroup\":\"Hessen\",\"orientation\":\"v\",\"showlegend\":true,\"x\":[\"Hessen\"],\"xaxis\":\"x\",\"y\":[811.7744129077921],\"yaxis\":\"y\",\"type\":\"histogram\"},{\"alignmentgroup\":\"True\",\"bingroup\":\"x\",\"histfunc\":\"sum\",\"hovertemplate\":\"color=Mecklenburg_Vorpommern<br>x=%{x}<br>sum of y=%{y}<extra></extra>\",\"legendgroup\":\"Mecklenburg_Vorpommern\",\"marker\":{\"color\":\"#B6E880\",\"pattern\":{\"shape\":\"\"}},\"name\":\"Mecklenburg_Vorpommern\",\"offsetgroup\":\"Mecklenburg_Vorpommern\",\"orientation\":\"v\",\"showlegend\":true,\"x\":[\"Mecklenburg_Vorpommern\"],\"xaxis\":\"x\",\"y\":[779.8527382538291],\"yaxis\":\"y\",\"type\":\"histogram\"},{\"alignmentgroup\":\"True\",\"bingroup\":\"x\",\"histfunc\":\"sum\",\"hovertemplate\":\"color=Niedersachsen<br>x=%{x}<br>sum of y=%{y}<extra></extra>\",\"legendgroup\":\"Niedersachsen\",\"marker\":{\"color\":\"#FF97FF\",\"pattern\":{\"shape\":\"\"}},\"name\":\"Niedersachsen\",\"offsetgroup\":\"Niedersachsen\",\"orientation\":\"v\",\"showlegend\":true,\"x\":[\"Niedersachsen\"],\"xaxis\":\"x\",\"y\":[752.6129923353892],\"yaxis\":\"y\",\"type\":\"histogram\"},{\"alignmentgroup\":\"True\",\"bingroup\":\"x\",\"histfunc\":\"sum\",\"hovertemplate\":\"color=Nordrhein_Westfalen<br>x=%{x}<br>sum of y=%{y}<extra></extra>\",\"legendgroup\":\"Nordrhein_Westfalen\",\"marker\":{\"color\":\"#FECB52\",\"pattern\":{\"shape\":\"\"}},\"name\":\"Nordrhein_Westfalen\",\"offsetgroup\":\"Nordrhein_Westfalen\",\"orientation\":\"v\",\"showlegend\":true,\"x\":[\"Nordrhein_Westfalen\"],\"xaxis\":\"x\",\"y\":[749.7243111615501],\"yaxis\":\"y\",\"type\":\"histogram\"},{\"alignmentgroup\":\"True\",\"bingroup\":\"x\",\"histfunc\":\"sum\",\"hovertemplate\":\"color=Rheinland_Pfalz<br>x=%{x}<br>sum of y=%{y}<extra></extra>\",\"legendgroup\":\"Rheinland_Pfalz\",\"marker\":{\"color\":\"#636efa\",\"pattern\":{\"shape\":\"\"}},\"name\":\"Rheinland_Pfalz\",\"offsetgroup\":\"Rheinland_Pfalz\",\"orientation\":\"v\",\"showlegend\":true,\"x\":[\"Rheinland_Pfalz\"],\"xaxis\":\"x\",\"y\":[742.379755867524],\"yaxis\":\"y\",\"type\":\"histogram\"},{\"alignmentgroup\":\"True\",\"bingroup\":\"x\",\"histfunc\":\"sum\",\"hovertemplate\":\"color=Saarland<br>x=%{x}<br>sum of y=%{y}<extra></extra>\",\"legendgroup\":\"Saarland\",\"marker\":{\"color\":\"#EF553B\",\"pattern\":{\"shape\":\"\"}},\"name\":\"Saarland\",\"offsetgroup\":\"Saarland\",\"orientation\":\"v\",\"showlegend\":true,\"x\":[\"Saarland\"],\"xaxis\":\"x\",\"y\":[665.4826556311335],\"yaxis\":\"y\",\"type\":\"histogram\"},{\"alignmentgroup\":\"True\",\"bingroup\":\"x\",\"histfunc\":\"sum\",\"hovertemplate\":\"color=Sachsen<br>x=%{x}<br>sum of y=%{y}<extra></extra>\",\"legendgroup\":\"Sachsen\",\"marker\":{\"color\":\"#00cc96\",\"pattern\":{\"shape\":\"\"}},\"name\":\"Sachsen\",\"offsetgroup\":\"Sachsen\",\"orientation\":\"v\",\"showlegend\":true,\"x\":[\"Sachsen\"],\"xaxis\":\"x\",\"y\":[577.3582754369213],\"yaxis\":\"y\",\"type\":\"histogram\"},{\"alignmentgroup\":\"True\",\"bingroup\":\"x\",\"histfunc\":\"sum\",\"hovertemplate\":\"color=Sachsen_Anhalt<br>x=%{x}<br>sum of y=%{y}<extra></extra>\",\"legendgroup\":\"Sachsen_Anhalt\",\"marker\":{\"color\":\"#ab63fa\",\"pattern\":{\"shape\":\"\"}},\"name\":\"Sachsen_Anhalt\",\"offsetgroup\":\"Sachsen_Anhalt\",\"orientation\":\"v\",\"showlegend\":true,\"x\":[\"Sachsen_Anhalt\"],\"xaxis\":\"x\",\"y\":[574.7899691238817],\"yaxis\":\"y\",\"type\":\"histogram\"},{\"alignmentgroup\":\"True\",\"bingroup\":\"x\",\"histfunc\":\"sum\",\"hovertemplate\":\"color=Schleswig_Holstein<br>x=%{x}<br>sum of y=%{y}<extra></extra>\",\"legendgroup\":\"Schleswig_Holstein\",\"marker\":{\"color\":\"#FFA15A\",\"pattern\":{\"shape\":\"\"}},\"name\":\"Schleswig_Holstein\",\"offsetgroup\":\"Schleswig_Holstein\",\"orientation\":\"v\",\"showlegend\":true,\"x\":[\"Schleswig_Holstein\"],\"xaxis\":\"x\",\"y\":[533.96177019819],\"yaxis\":\"y\",\"type\":\"histogram\"},{\"alignmentgroup\":\"True\",\"bingroup\":\"x\",\"histfunc\":\"sum\",\"hovertemplate\":\"color=Th\\u00fcringen<br>x=%{x}<br>sum of y=%{y}<extra></extra>\",\"legendgroup\":\"Th\\u00fcringen\",\"marker\":{\"color\":\"#19d3f3\",\"pattern\":{\"shape\":\"\"}},\"name\":\"Th\\u00fcringen\",\"offsetgroup\":\"Th\\u00fcringen\",\"orientation\":\"v\",\"showlegend\":true,\"x\":[\"Th\\u00fcringen\"],\"xaxis\":\"x\",\"y\":[516.338582776925],\"yaxis\":\"y\",\"type\":\"histogram\"}],                        {\"template\":{\"data\":{\"bar\":[{\"error_x\":{\"color\":\"#2a3f5f\"},\"error_y\":{\"color\":\"#2a3f5f\"},\"marker\":{\"line\":{\"color\":\"#E5ECF6\",\"width\":0.5},\"pattern\":{\"fillmode\":\"overlay\",\"size\":10,\"solidity\":0.2}},\"type\":\"bar\"}],\"barpolar\":[{\"marker\":{\"line\":{\"color\":\"#E5ECF6\",\"width\":0.5},\"pattern\":{\"fillmode\":\"overlay\",\"size\":10,\"solidity\":0.2}},\"type\":\"barpolar\"}],\"carpet\":[{\"aaxis\":{\"endlinecolor\":\"#2a3f5f\",\"gridcolor\":\"white\",\"linecolor\":\"white\",\"minorgridcolor\":\"white\",\"startlinecolor\":\"#2a3f5f\"},\"baxis\":{\"endlinecolor\":\"#2a3f5f\",\"gridcolor\":\"white\",\"linecolor\":\"white\",\"minorgridcolor\":\"white\",\"startlinecolor\":\"#2a3f5f\"},\"type\":\"carpet\"}],\"choropleth\":[{\"colorbar\":{\"outlinewidth\":0,\"ticks\":\"\"},\"type\":\"choropleth\"}],\"contour\":[{\"colorbar\":{\"outlinewidth\":0,\"ticks\":\"\"},\"colorscale\":[[0.0,\"#0d0887\"],[0.1111111111111111,\"#46039f\"],[0.2222222222222222,\"#7201a8\"],[0.3333333333333333,\"#9c179e\"],[0.4444444444444444,\"#bd3786\"],[0.5555555555555556,\"#d8576b\"],[0.6666666666666666,\"#ed7953\"],[0.7777777777777778,\"#fb9f3a\"],[0.8888888888888888,\"#fdca26\"],[1.0,\"#f0f921\"]],\"type\":\"contour\"}],\"contourcarpet\":[{\"colorbar\":{\"outlinewidth\":0,\"ticks\":\"\"},\"type\":\"contourcarpet\"}],\"heatmap\":[{\"colorbar\":{\"outlinewidth\":0,\"ticks\":\"\"},\"colorscale\":[[0.0,\"#0d0887\"],[0.1111111111111111,\"#46039f\"],[0.2222222222222222,\"#7201a8\"],[0.3333333333333333,\"#9c179e\"],[0.4444444444444444,\"#bd3786\"],[0.5555555555555556,\"#d8576b\"],[0.6666666666666666,\"#ed7953\"],[0.7777777777777778,\"#fb9f3a\"],[0.8888888888888888,\"#fdca26\"],[1.0,\"#f0f921\"]],\"type\":\"heatmap\"}],\"heatmapgl\":[{\"colorbar\":{\"outlinewidth\":0,\"ticks\":\"\"},\"colorscale\":[[0.0,\"#0d0887\"],[0.1111111111111111,\"#46039f\"],[0.2222222222222222,\"#7201a8\"],[0.3333333333333333,\"#9c179e\"],[0.4444444444444444,\"#bd3786\"],[0.5555555555555556,\"#d8576b\"],[0.6666666666666666,\"#ed7953\"],[0.7777777777777778,\"#fb9f3a\"],[0.8888888888888888,\"#fdca26\"],[1.0,\"#f0f921\"]],\"type\":\"heatmapgl\"}],\"histogram\":[{\"marker\":{\"pattern\":{\"fillmode\":\"overlay\",\"size\":10,\"solidity\":0.2}},\"type\":\"histogram\"}],\"histogram2d\":[{\"colorbar\":{\"outlinewidth\":0,\"ticks\":\"\"},\"colorscale\":[[0.0,\"#0d0887\"],[0.1111111111111111,\"#46039f\"],[0.2222222222222222,\"#7201a8\"],[0.3333333333333333,\"#9c179e\"],[0.4444444444444444,\"#bd3786\"],[0.5555555555555556,\"#d8576b\"],[0.6666666666666666,\"#ed7953\"],[0.7777777777777778,\"#fb9f3a\"],[0.8888888888888888,\"#fdca26\"],[1.0,\"#f0f921\"]],\"type\":\"histogram2d\"}],\"histogram2dcontour\":[{\"colorbar\":{\"outlinewidth\":0,\"ticks\":\"\"},\"colorscale\":[[0.0,\"#0d0887\"],[0.1111111111111111,\"#46039f\"],[0.2222222222222222,\"#7201a8\"],[0.3333333333333333,\"#9c179e\"],[0.4444444444444444,\"#bd3786\"],[0.5555555555555556,\"#d8576b\"],[0.6666666666666666,\"#ed7953\"],[0.7777777777777778,\"#fb9f3a\"],[0.8888888888888888,\"#fdca26\"],[1.0,\"#f0f921\"]],\"type\":\"histogram2dcontour\"}],\"mesh3d\":[{\"colorbar\":{\"outlinewidth\":0,\"ticks\":\"\"},\"type\":\"mesh3d\"}],\"parcoords\":[{\"line\":{\"colorbar\":{\"outlinewidth\":0,\"ticks\":\"\"}},\"type\":\"parcoords\"}],\"pie\":[{\"automargin\":true,\"type\":\"pie\"}],\"scatter\":[{\"marker\":{\"colorbar\":{\"outlinewidth\":0,\"ticks\":\"\"}},\"type\":\"scatter\"}],\"scatter3d\":[{\"line\":{\"colorbar\":{\"outlinewidth\":0,\"ticks\":\"\"}},\"marker\":{\"colorbar\":{\"outlinewidth\":0,\"ticks\":\"\"}},\"type\":\"scatter3d\"}],\"scattercarpet\":[{\"marker\":{\"colorbar\":{\"outlinewidth\":0,\"ticks\":\"\"}},\"type\":\"scattercarpet\"}],\"scattergeo\":[{\"marker\":{\"colorbar\":{\"outlinewidth\":0,\"ticks\":\"\"}},\"type\":\"scattergeo\"}],\"scattergl\":[{\"marker\":{\"colorbar\":{\"outlinewidth\":0,\"ticks\":\"\"}},\"type\":\"scattergl\"}],\"scattermapbox\":[{\"marker\":{\"colorbar\":{\"outlinewidth\":0,\"ticks\":\"\"}},\"type\":\"scattermapbox\"}],\"scatterpolar\":[{\"marker\":{\"colorbar\":{\"outlinewidth\":0,\"ticks\":\"\"}},\"type\":\"scatterpolar\"}],\"scatterpolargl\":[{\"marker\":{\"colorbar\":{\"outlinewidth\":0,\"ticks\":\"\"}},\"type\":\"scatterpolargl\"}],\"scatterternary\":[{\"marker\":{\"colorbar\":{\"outlinewidth\":0,\"ticks\":\"\"}},\"type\":\"scatterternary\"}],\"surface\":[{\"colorbar\":{\"outlinewidth\":0,\"ticks\":\"\"},\"colorscale\":[[0.0,\"#0d0887\"],[0.1111111111111111,\"#46039f\"],[0.2222222222222222,\"#7201a8\"],[0.3333333333333333,\"#9c179e\"],[0.4444444444444444,\"#bd3786\"],[0.5555555555555556,\"#d8576b\"],[0.6666666666666666,\"#ed7953\"],[0.7777777777777778,\"#fb9f3a\"],[0.8888888888888888,\"#fdca26\"],[1.0,\"#f0f921\"]],\"type\":\"surface\"}],\"table\":[{\"cells\":{\"fill\":{\"color\":\"#EBF0F8\"},\"line\":{\"color\":\"white\"}},\"header\":{\"fill\":{\"color\":\"#C8D4E3\"},\"line\":{\"color\":\"white\"}},\"type\":\"table\"}]},\"layout\":{\"annotationdefaults\":{\"arrowcolor\":\"#2a3f5f\",\"arrowhead\":0,\"arrowwidth\":1},\"autotypenumbers\":\"strict\",\"coloraxis\":{\"colorbar\":{\"outlinewidth\":0,\"ticks\":\"\"}},\"colorscale\":{\"diverging\":[[0,\"#8e0152\"],[0.1,\"#c51b7d\"],[0.2,\"#de77ae\"],[0.3,\"#f1b6da\"],[0.4,\"#fde0ef\"],[0.5,\"#f7f7f7\"],[0.6,\"#e6f5d0\"],[0.7,\"#b8e186\"],[0.8,\"#7fbc41\"],[0.9,\"#4d9221\"],[1,\"#276419\"]],\"sequential\":[[0.0,\"#0d0887\"],[0.1111111111111111,\"#46039f\"],[0.2222222222222222,\"#7201a8\"],[0.3333333333333333,\"#9c179e\"],[0.4444444444444444,\"#bd3786\"],[0.5555555555555556,\"#d8576b\"],[0.6666666666666666,\"#ed7953\"],[0.7777777777777778,\"#fb9f3a\"],[0.8888888888888888,\"#fdca26\"],[1.0,\"#f0f921\"]],\"sequentialminus\":[[0.0,\"#0d0887\"],[0.1111111111111111,\"#46039f\"],[0.2222222222222222,\"#7201a8\"],[0.3333333333333333,\"#9c179e\"],[0.4444444444444444,\"#bd3786\"],[0.5555555555555556,\"#d8576b\"],[0.6666666666666666,\"#ed7953\"],[0.7777777777777778,\"#fb9f3a\"],[0.8888888888888888,\"#fdca26\"],[1.0,\"#f0f921\"]]},\"colorway\":[\"#636efa\",\"#EF553B\",\"#00cc96\",\"#ab63fa\",\"#FFA15A\",\"#19d3f3\",\"#FF6692\",\"#B6E880\",\"#FF97FF\",\"#FECB52\"],\"font\":{\"color\":\"#2a3f5f\"},\"geo\":{\"bgcolor\":\"white\",\"lakecolor\":\"white\",\"landcolor\":\"#E5ECF6\",\"showlakes\":true,\"showland\":true,\"subunitcolor\":\"white\"},\"hoverlabel\":{\"align\":\"left\"},\"hovermode\":\"closest\",\"mapbox\":{\"style\":\"light\"},\"paper_bgcolor\":\"white\",\"plot_bgcolor\":\"#E5ECF6\",\"polar\":{\"angularaxis\":{\"gridcolor\":\"white\",\"linecolor\":\"white\",\"ticks\":\"\"},\"bgcolor\":\"#E5ECF6\",\"radialaxis\":{\"gridcolor\":\"white\",\"linecolor\":\"white\",\"ticks\":\"\"}},\"scene\":{\"xaxis\":{\"backgroundcolor\":\"#E5ECF6\",\"gridcolor\":\"white\",\"gridwidth\":2,\"linecolor\":\"white\",\"showbackground\":true,\"ticks\":\"\",\"zerolinecolor\":\"white\"},\"yaxis\":{\"backgroundcolor\":\"#E5ECF6\",\"gridcolor\":\"white\",\"gridwidth\":2,\"linecolor\":\"white\",\"showbackground\":true,\"ticks\":\"\",\"zerolinecolor\":\"white\"},\"zaxis\":{\"backgroundcolor\":\"#E5ECF6\",\"gridcolor\":\"white\",\"gridwidth\":2,\"linecolor\":\"white\",\"showbackground\":true,\"ticks\":\"\",\"zerolinecolor\":\"white\"}},\"shapedefaults\":{\"line\":{\"color\":\"#2a3f5f\"}},\"ternary\":{\"aaxis\":{\"gridcolor\":\"white\",\"linecolor\":\"white\",\"ticks\":\"\"},\"baxis\":{\"gridcolor\":\"white\",\"linecolor\":\"white\",\"ticks\":\"\"},\"bgcolor\":\"#E5ECF6\",\"caxis\":{\"gridcolor\":\"white\",\"linecolor\":\"white\",\"ticks\":\"\"}},\"title\":{\"x\":0.05},\"xaxis\":{\"automargin\":true,\"gridcolor\":\"white\",\"linecolor\":\"white\",\"ticks\":\"\",\"title\":{\"standoff\":15},\"zerolinecolor\":\"white\",\"zerolinewidth\":2},\"yaxis\":{\"automargin\":true,\"gridcolor\":\"white\",\"linecolor\":\"white\",\"ticks\":\"\",\"title\":{\"standoff\":15},\"zerolinecolor\":\"white\",\"zerolinewidth\":2}}},\"xaxis\":{\"anchor\":\"y\",\"domain\":[0.0,1.0],\"title\":{\"text\":\"Region\"}},\"yaxis\":{\"anchor\":\"x\",\"domain\":[0.0,1.0],\"title\":{\"text\":\"Average totalRent\"}},\"legend\":{\"title\":{\"text\":\"color\"},\"tracegroupgap\":0},\"margin\":{\"t\":60},\"barmode\":\"relative\"},                        {\"responsive\": true}                    ).then(function(){\n",
              "                            \n",
              "var gd = document.getElementById('c7090226-2679-40ce-b4f6-d15d27be09dd');\n",
              "var x = new MutationObserver(function (mutations, observer) {{\n",
              "        var display = window.getComputedStyle(gd).display;\n",
              "        if (!display || display === 'none') {{\n",
              "            console.log([gd, 'removed!']);\n",
              "            Plotly.purge(gd);\n",
              "            observer.disconnect();\n",
              "        }}\n",
              "}});\n",
              "\n",
              "// Listen for the removal of the full notebook cells\n",
              "var notebookContainer = gd.closest('#notebook-container');\n",
              "if (notebookContainer) {{\n",
              "    x.observe(notebookContainer, {childList: true});\n",
              "}}\n",
              "\n",
              "// Listen for the clearing of the current output cell\n",
              "var outputEl = gd.closest('.output');\n",
              "if (outputEl) {{\n",
              "    x.observe(outputEl, {childList: true});\n",
              "}}\n",
              "\n",
              "                        })                };                            </script>        </div>\n",
              "</body>\n",
              "</html>"
            ]
          },
          "metadata": {}
        }
      ],
      "source": [
        "fig = px.histogram(x = data['regio1'].value_counts().sort_index().index,\n",
        "                   y = rentmean_regio1,\n",
        "                   color= data['regio1'].value_counts().sort_index().index\n",
        "             )\n",
        "fig.update_xaxes(title=\"Region\")\n",
        "fig.update_yaxes(title = \"Average totalRent\")\n",
        "fig.show()"
      ]
    },
    {
      "cell_type": "code",
      "execution_count": 42,
      "metadata": {
        "colab": {
          "base_uri": "https://localhost:8080/",
          "height": 827
        },
        "id": "Oq1xOTPQ2vTD",
        "outputId": "10ba9953-44a0-46f4-9d4a-fc0dba8ab847"
      },
      "outputs": [
        {
          "output_type": "execute_result",
          "data": {
            "text/plain": [
              "<matplotlib.axes._subplots.AxesSubplot at 0x7f97fd251a90>"
            ]
          },
          "metadata": {},
          "execution_count": 42
        },
        {
          "output_type": "display_data",
          "data": {
            "text/plain": [
              "<Figure size 1296x864 with 2 Axes>"
            ],
            "image/png": "[encoded data removed]"
          },
          "metadata": {
            "needs_background": "light"
          }
        }
      ],
      "source": [
        "corr = data.corr()\n",
        "plt.figure(figsize=(18,12))\n",
        "sns.heatmap(corr, annot=True)"
      ]
    },
    {
      "cell_type": "markdown",
      "metadata": {
        "id": "hnrCRarJ2vTE"
      },
      "source": [
        "Some features have a high correlation with each other, so we can drop some features here."
      ]
    },
    {
      "cell_type": "code",
      "execution_count": 43,
      "metadata": {
        "colab": {
          "base_uri": "https://localhost:8080/",
          "height": 112
        },
        "id": "eu_VlYt02vTE",
        "outputId": "d9199e5c-37ee-4f7e-eb80-e236e332822e"
      },
      "outputs": [
        {
          "output_type": "execute_result",
          "data": {
            "text/plain": [
              "               baseRent  baseRentRange\n",
              "baseRent       1.000000       0.937255\n",
              "baseRentRange  0.937255       1.000000"
            ],
            "text/html": [
              "\n",
              "  <div id=\"df-95dd7ef3-1c9e-4149-a169-98c2b09782c4\">\n",
              "    <div class=\"colab-df-container\">\n",
              "      <div>\n",
              "<style scoped>\n",
              "    .dataframe tbody tr th:only-of-type {\n",
              "        vertical-align: middle;\n",
              "    }\n",
              "\n",
              "    .dataframe tbody tr th {\n",
              "        vertical-align: top;\n",
              "    }\n",
              "\n",
              "    .dataframe thead th {\n",
              "        text-align: right;\n",
              "    }\n",
              "</style>\n",
              "<table border=\"1\" class=\"dataframe\">\n",
              "  <thead>\n",
              "    <tr style=\"text-align: right;\">\n",
              "      <th></th>\n",
              "      <th>baseRent</th>\n",
              "      <th>baseRentRange</th>\n",
              "    </tr>\n",
              "  </thead>\n",
              "  <tbody>\n",
              "    <tr>\n",
              "      <th>baseRent</th>\n",
              "      <td>1.000000</td>\n",
              "      <td>0.937255</td>\n",
              "    </tr>\n",
              "    <tr>\n",
              "      <th>baseRentRange</th>\n",
              "      <td>0.937255</td>\n",
              "      <td>1.000000</td>\n",
              "    </tr>\n",
              "  </tbody>\n",
              "</table>\n",
              "</div>\n",
              "      <button class=\"colab-df-convert\" onclick=\"convertToInteractive('df-95dd7ef3-1c9e-4149-a169-98c2b09782c4')\"\n",
              "              title=\"Convert this dataframe to an interactive table.\"\n",
              "              style=\"display:none;\">\n",
              "        \n",
              "  <svg xmlns=\"http://www.w3.org/2000/svg\" height=\"24px\"viewBox=\"0 0 24 24\"\n",
              "       width=\"24px\">\n",
              "    <path d=\"M0 0h24v24H0V0z\" fill=\"none\"/>\n",
              "    <path d=\"M18.56 5.44l.94 2.06.94-2.06 2.06-.94-2.06-.94-.94-2.06-.94 2.06-2.06.94zm-11 1L8.5 8.5l.94-2.06 2.06-.94-2.06-.94L8.5 2.5l-.94 2.06-2.06.94zm10 10l.94 2.06.94-2.06 2.06-.94-2.06-.94-.94-2.06-.94 2.06-2.06.94z\"/><path d=\"M17.41 7.96l-1.37-1.37c-.4-.4-.92-.59-1.43-.59-.52 0-1.04.2-1.43.59L10.3 9.45l-7.72 7.72c-.78.78-.78 2.05 0 2.83L4 21.41c.39.39.9.59 1.41.59.51 0 1.02-.2 1.41-.59l7.78-7.78 2.81-2.81c.8-.78.8-2.07 0-2.86zM5.41 20L4 18.59l7.72-7.72 1.47 1.35L5.41 20z\"/>\n",
              "  </svg>\n",
              "      </button>\n",
              "      \n",
              "  <style>\n",
              "    .colab-df-container {\n",
              "      display:flex;\n",
              "      flex-wrap:wrap;\n",
              "      gap: 12px;\n",
              "    }\n",
              "\n",
              "    .colab-df-convert {\n",
              "      background-color: #E8F0FE;\n",
              "      border: none;\n",
              "      border-radius: 50%;\n",
              "      cursor: pointer;\n",
              "      display: none;\n",
              "      fill: #1967D2;\n",
              "      height: 32px;\n",
              "      padding: 0 0 0 0;\n",
              "      width: 32px;\n",
              "    }\n",
              "\n",
              "    .colab-df-convert:hover {\n",
              "      background-color: #E2EBFA;\n",
              "      box-shadow: 0px 1px 2px rgba(60, 64, 67, 0.3), 0px 1px 3px 1px rgba(60, 64, 67, 0.15);\n",
              "      fill: #174EA6;\n",
              "    }\n",
              "\n",
              "    [theme=dark] .colab-df-convert {\n",
              "      background-color: #3B4455;\n",
              "      fill: #D2E3FC;\n",
              "    }\n",
              "\n",
              "    [theme=dark] .colab-df-convert:hover {\n",
              "      background-color: #434B5C;\n",
              "      box-shadow: 0px 1px 3px 1px rgba(0, 0, 0, 0.15);\n",
              "      filter: drop-shadow(0px 1px 2px rgba(0, 0, 0, 0.3));\n",
              "      fill: #FFFFFF;\n",
              "    }\n",
              "  </style>\n",
              "\n",
              "      <script>\n",
              "        const buttonEl =\n",
              "          document.querySelector('#df-95dd7ef3-1c9e-4149-a169-98c2b09782c4 button.colab-df-convert');\n",
              "        buttonEl.style.display =\n",
              "          google.colab.kernel.accessAllowed ? 'block' : 'none';\n",
              "\n",
              "        async function convertToInteractive(key) {\n",
              "          const element = document.querySelector('#df-95dd7ef3-1c9e-4149-a169-98c2b09782c4');\n",
              "          const dataTable =\n",
              "            await google.colab.kernel.invokeFunction('convertToInteractive',\n",
              "                                                     [key], {});\n",
              "          if (!dataTable) return;\n",
              "\n",
              "          const docLinkHtml = 'Like what you see? Visit the ' +\n",
              "            '<a target=\"_blank\" href=https://colab.research.google.com/notebooks/data_table.ipynb>data table notebook</a>'\n",
              "            + ' to learn more about interactive tables.';\n",
              "          element.innerHTML = '';\n",
              "          dataTable['output_type'] = 'display_data';\n",
              "          await google.colab.output.renderOutput(dataTable, element);\n",
              "          const docLink = document.createElement('div');\n",
              "          docLink.innerHTML = docLinkHtml;\n",
              "          element.appendChild(docLink);\n",
              "        }\n",
              "      </script>\n",
              "    </div>\n",
              "  </div>\n",
              "  "
            ]
          },
          "metadata": {},
          "execution_count": 43
        }
      ],
      "source": [
        "data[['baseRent', 'baseRentRange']].corr()"
      ]
    },
    {
      "cell_type": "code",
      "execution_count": 44,
      "metadata": {
        "colab": {
          "base_uri": "https://localhost:8080/",
          "height": 112
        },
        "id": "NOSsQrQe2vTE",
        "outputId": "74b3df4a-8024-4778-9fdd-994b6102a852"
      },
      "outputs": [
        {
          "output_type": "execute_result",
          "data": {
            "text/plain": [
              "               noRooms  noRoomsRange\n",
              "noRooms       1.000000      0.985704\n",
              "noRoomsRange  0.985704      1.000000"
            ],
            "text/html": [
              "\n",
              "  <div id=\"df-88ff1789-cd8b-4d29-8e79-da17bd953571\">\n",
              "    <div class=\"colab-df-container\">\n",
              "      <div>\n",
              "<style scoped>\n",
              "    .dataframe tbody tr th:only-of-type {\n",
              "        vertical-align: middle;\n",
              "    }\n",
              "\n",
              "    .dataframe tbody tr th {\n",
              "        vertical-align: top;\n",
              "    }\n",
              "\n",
              "    .dataframe thead th {\n",
              "        text-align: right;\n",
              "    }\n",
              "</style>\n",
              "<table border=\"1\" class=\"dataframe\">\n",
              "  <thead>\n",
              "    <tr style=\"text-align: right;\">\n",
              "      <th></th>\n",
              "      <th>noRooms</th>\n",
              "      <th>noRoomsRange</th>\n",
              "    </tr>\n",
              "  </thead>\n",
              "  <tbody>\n",
              "    <tr>\n",
              "      <th>noRooms</th>\n",
              "      <td>1.000000</td>\n",
              "      <td>0.985704</td>\n",
              "    </tr>\n",
              "    <tr>\n",
              "      <th>noRoomsRange</th>\n",
              "      <td>0.985704</td>\n",
              "      <td>1.000000</td>\n",
              "    </tr>\n",
              "  </tbody>\n",
              "</table>\n",
              "</div>\n",
              "      <button class=\"colab-df-convert\" onclick=\"convertToInteractive('df-88ff1789-cd8b-4d29-8e79-da17bd953571')\"\n",
              "              title=\"Convert this dataframe to an interactive table.\"\n",
              "              style=\"display:none;\">\n",
              "        \n",
              "  <svg xmlns=\"http://www.w3.org/2000/svg\" height=\"24px\"viewBox=\"0 0 24 24\"\n",
              "       width=\"24px\">\n",
              "    <path d=\"M0 0h24v24H0V0z\" fill=\"none\"/>\n",
              "    <path d=\"M18.56 5.44l.94 2.06.94-2.06 2.06-.94-2.06-.94-.94-2.06-.94 2.06-2.06.94zm-11 1L8.5 8.5l.94-2.06 2.06-.94-2.06-.94L8.5 2.5l-.94 2.06-2.06.94zm10 10l.94 2.06.94-2.06 2.06-.94-2.06-.94-.94-2.06-.94 2.06-2.06.94z\"/><path d=\"M17.41 7.96l-1.37-1.37c-.4-.4-.92-.59-1.43-.59-.52 0-1.04.2-1.43.59L10.3 9.45l-7.72 7.72c-.78.78-.78 2.05 0 2.83L4 21.41c.39.39.9.59 1.41.59.51 0 1.02-.2 1.41-.59l7.78-7.78 2.81-2.81c.8-.78.8-2.07 0-2.86zM5.41 20L4 18.59l7.72-7.72 1.47 1.35L5.41 20z\"/>\n",
              "  </svg>\n",
              "      </button>\n",
              "      \n",
              "  <style>\n",
              "    .colab-df-container {\n",
              "      display:flex;\n",
              "      flex-wrap:wrap;\n",
              "      gap: 12px;\n",
              "    }\n",
              "\n",
              "    .colab-df-convert {\n",
              "      background-color: #E8F0FE;\n",
              "      border: none;\n",
              "      border-radius: 50%;\n",
              "      cursor: pointer;\n",
              "      display: none;\n",
              "      fill: #1967D2;\n",
              "      height: 32px;\n",
              "      padding: 0 0 0 0;\n",
              "      width: 32px;\n",
              "    }\n",
              "\n",
              "    .colab-df-convert:hover {\n",
              "      background-color: #E2EBFA;\n",
              "      box-shadow: 0px 1px 2px rgba(60, 64, 67, 0.3), 0px 1px 3px 1px rgba(60, 64, 67, 0.15);\n",
              "      fill: #174EA6;\n",
              "    }\n",
              "\n",
              "    [theme=dark] .colab-df-convert {\n",
              "      background-color: #3B4455;\n",
              "      fill: #D2E3FC;\n",
              "    }\n",
              "\n",
              "    [theme=dark] .colab-df-convert:hover {\n",
              "      background-color: #434B5C;\n",
              "      box-shadow: 0px 1px 3px 1px rgba(0, 0, 0, 0.15);\n",
              "      filter: drop-shadow(0px 1px 2px rgba(0, 0, 0, 0.3));\n",
              "      fill: #FFFFFF;\n",
              "    }\n",
              "  </style>\n",
              "\n",
              "      <script>\n",
              "        const buttonEl =\n",
              "          document.querySelector('#df-88ff1789-cd8b-4d29-8e79-da17bd953571 button.colab-df-convert');\n",
              "        buttonEl.style.display =\n",
              "          google.colab.kernel.accessAllowed ? 'block' : 'none';\n",
              "\n",
              "        async function convertToInteractive(key) {\n",
              "          const element = document.querySelector('#df-88ff1789-cd8b-4d29-8e79-da17bd953571');\n",
              "          const dataTable =\n",
              "            await google.colab.kernel.invokeFunction('convertToInteractive',\n",
              "                                                     [key], {});\n",
              "          if (!dataTable) return;\n",
              "\n",
              "          const docLinkHtml = 'Like what you see? Visit the ' +\n",
              "            '<a target=\"_blank\" href=https://colab.research.google.com/notebooks/data_table.ipynb>data table notebook</a>'\n",
              "            + ' to learn more about interactive tables.';\n",
              "          element.innerHTML = '';\n",
              "          dataTable['output_type'] = 'display_data';\n",
              "          await google.colab.output.renderOutput(dataTable, element);\n",
              "          const docLink = document.createElement('div');\n",
              "          docLink.innerHTML = docLinkHtml;\n",
              "          element.appendChild(docLink);\n",
              "        }\n",
              "      </script>\n",
              "    </div>\n",
              "  </div>\n",
              "  "
            ]
          },
          "metadata": {},
          "execution_count": 44
        }
      ],
      "source": [
        "data[['noRooms', 'noRoomsRange']].corr()"
      ]
    },
    {
      "cell_type": "code",
      "execution_count": 45,
      "metadata": {
        "colab": {
          "base_uri": "https://localhost:8080/",
          "height": 112
        },
        "id": "bX3A_SNR2vTE",
        "outputId": "e86dc465-8ab2-4d16-b6ae-996dcb68aa6f"
      },
      "outputs": [
        {
          "output_type": "execute_result",
          "data": {
            "text/plain": [
              "                      yearConstructed  yearConstructedRange\n",
              "yearConstructed              1.000000              0.870474\n",
              "yearConstructedRange         0.870474              1.000000"
            ],
            "text/html": [
              "\n",
              "  <div id=\"df-d80528fb-9c2e-48a2-a918-53fcbe6238a8\">\n",
              "    <div class=\"colab-df-container\">\n",
              "      <div>\n",
              "<style scoped>\n",
              "    .dataframe tbody tr th:only-of-type {\n",
              "        vertical-align: middle;\n",
              "    }\n",
              "\n",
              "    .dataframe tbody tr th {\n",
              "        vertical-align: top;\n",
              "    }\n",
              "\n",
              "    .dataframe thead th {\n",
              "        text-align: right;\n",
              "    }\n",
              "</style>\n",
              "<table border=\"1\" class=\"dataframe\">\n",
              "  <thead>\n",
              "    <tr style=\"text-align: right;\">\n",
              "      <th></th>\n",
              "      <th>yearConstructed</th>\n",
              "      <th>yearConstructedRange</th>\n",
              "    </tr>\n",
              "  </thead>\n",
              "  <tbody>\n",
              "    <tr>\n",
              "      <th>yearConstructed</th>\n",
              "      <td>1.000000</td>\n",
              "      <td>0.870474</td>\n",
              "    </tr>\n",
              "    <tr>\n",
              "      <th>yearConstructedRange</th>\n",
              "      <td>0.870474</td>\n",
              "      <td>1.000000</td>\n",
              "    </tr>\n",
              "  </tbody>\n",
              "</table>\n",
              "</div>\n",
              "      <button class=\"colab-df-convert\" onclick=\"convertToInteractive('df-d80528fb-9c2e-48a2-a918-53fcbe6238a8')\"\n",
              "              title=\"Convert this dataframe to an interactive table.\"\n",
              "              style=\"display:none;\">\n",
              "        \n",
              "  <svg xmlns=\"http://www.w3.org/2000/svg\" height=\"24px\"viewBox=\"0 0 24 24\"\n",
              "       width=\"24px\">\n",
              "    <path d=\"M0 0h24v24H0V0z\" fill=\"none\"/>\n",
              "    <path d=\"M18.56 5.44l.94 2.06.94-2.06 2.06-.94-2.06-.94-.94-2.06-.94 2.06-2.06.94zm-11 1L8.5 8.5l.94-2.06 2.06-.94-2.06-.94L8.5 2.5l-.94 2.06-2.06.94zm10 10l.94 2.06.94-2.06 2.06-.94-2.06-.94-.94-2.06-.94 2.06-2.06.94z\"/><path d=\"M17.41 7.96l-1.37-1.37c-.4-.4-.92-.59-1.43-.59-.52 0-1.04.2-1.43.59L10.3 9.45l-7.72 7.72c-.78.78-.78 2.05 0 2.83L4 21.41c.39.39.9.59 1.41.59.51 0 1.02-.2 1.41-.59l7.78-7.78 2.81-2.81c.8-.78.8-2.07 0-2.86zM5.41 20L4 18.59l7.72-7.72 1.47 1.35L5.41 20z\"/>\n",
              "  </svg>\n",
              "      </button>\n",
              "      \n",
              "  <style>\n",
              "    .colab-df-container {\n",
              "      display:flex;\n",
              "      flex-wrap:wrap;\n",
              "      gap: 12px;\n",
              "    }\n",
              "\n",
              "    .colab-df-convert {\n",
              "      background-color: #E8F0FE;\n",
              "      border: none;\n",
              "      border-radius: 50%;\n",
              "      cursor: pointer;\n",
              "      display: none;\n",
              "      fill: #1967D2;\n",
              "      height: 32px;\n",
              "      padding: 0 0 0 0;\n",
              "      width: 32px;\n",
              "    }\n",
              "\n",
              "    .colab-df-convert:hover {\n",
              "      background-color: #E2EBFA;\n",
              "      box-shadow: 0px 1px 2px rgba(60, 64, 67, 0.3), 0px 1px 3px 1px rgba(60, 64, 67, 0.15);\n",
              "      fill: #174EA6;\n",
              "    }\n",
              "\n",
              "    [theme=dark] .colab-df-convert {\n",
              "      background-color: #3B4455;\n",
              "      fill: #D2E3FC;\n",
              "    }\n",
              "\n",
              "    [theme=dark] .colab-df-convert:hover {\n",
              "      background-color: #434B5C;\n",
              "      box-shadow: 0px 1px 3px 1px rgba(0, 0, 0, 0.15);\n",
              "      filter: drop-shadow(0px 1px 2px rgba(0, 0, 0, 0.3));\n",
              "      fill: #FFFFFF;\n",
              "    }\n",
              "  </style>\n",
              "\n",
              "      <script>\n",
              "        const buttonEl =\n",
              "          document.querySelector('#df-d80528fb-9c2e-48a2-a918-53fcbe6238a8 button.colab-df-convert');\n",
              "        buttonEl.style.display =\n",
              "          google.colab.kernel.accessAllowed ? 'block' : 'none';\n",
              "\n",
              "        async function convertToInteractive(key) {\n",
              "          const element = document.querySelector('#df-d80528fb-9c2e-48a2-a918-53fcbe6238a8');\n",
              "          const dataTable =\n",
              "            await google.colab.kernel.invokeFunction('convertToInteractive',\n",
              "                                                     [key], {});\n",
              "          if (!dataTable) return;\n",
              "\n",
              "          const docLinkHtml = 'Like what you see? Visit the ' +\n",
              "            '<a target=\"_blank\" href=https://colab.research.google.com/notebooks/data_table.ipynb>data table notebook</a>'\n",
              "            + ' to learn more about interactive tables.';\n",
              "          element.innerHTML = '';\n",
              "          dataTable['output_type'] = 'display_data';\n",
              "          await google.colab.output.renderOutput(dataTable, element);\n",
              "          const docLink = document.createElement('div');\n",
              "          docLink.innerHTML = docLinkHtml;\n",
              "          element.appendChild(docLink);\n",
              "        }\n",
              "      </script>\n",
              "    </div>\n",
              "  </div>\n",
              "  "
            ]
          },
          "metadata": {},
          "execution_count": 45
        }
      ],
      "source": [
        "data[['yearConstructed', 'yearConstructedRange']].corr()"
      ]
    },
    {
      "cell_type": "code",
      "execution_count": 46,
      "metadata": {
        "colab": {
          "base_uri": "https://localhost:8080/",
          "height": 112
        },
        "id": "VNStEfmf2vTE",
        "outputId": "2116a6bb-b80f-464c-f0a5-14b20de18ce7"
      },
      "outputs": [
        {
          "output_type": "execute_result",
          "data": {
            "text/plain": [
              "                  livingSpace  livingSpaceRange\n",
              "livingSpace           1.00000           0.97269\n",
              "livingSpaceRange      0.97269           1.00000"
            ],
            "text/html": [
              "\n",
              "  <div id=\"df-772fa0b0-34b9-4cf2-8c13-97c9c25175c9\">\n",
              "    <div class=\"colab-df-container\">\n",
              "      <div>\n",
              "<style scoped>\n",
              "    .dataframe tbody tr th:only-of-type {\n",
              "        vertical-align: middle;\n",
              "    }\n",
              "\n",
              "    .dataframe tbody tr th {\n",
              "        vertical-align: top;\n",
              "    }\n",
              "\n",
              "    .dataframe thead th {\n",
              "        text-align: right;\n",
              "    }\n",
              "</style>\n",
              "<table border=\"1\" class=\"dataframe\">\n",
              "  <thead>\n",
              "    <tr style=\"text-align: right;\">\n",
              "      <th></th>\n",
              "      <th>livingSpace</th>\n",
              "      <th>livingSpaceRange</th>\n",
              "    </tr>\n",
              "  </thead>\n",
              "  <tbody>\n",
              "    <tr>\n",
              "      <th>livingSpace</th>\n",
              "      <td>1.00000</td>\n",
              "      <td>0.97269</td>\n",
              "    </tr>\n",
              "    <tr>\n",
              "      <th>livingSpaceRange</th>\n",
              "      <td>0.97269</td>\n",
              "      <td>1.00000</td>\n",
              "    </tr>\n",
              "  </tbody>\n",
              "</table>\n",
              "</div>\n",
              "      <button class=\"colab-df-convert\" onclick=\"convertToInteractive('df-772fa0b0-34b9-4cf2-8c13-97c9c25175c9')\"\n",
              "              title=\"Convert this dataframe to an interactive table.\"\n",
              "              style=\"display:none;\">\n",
              "        \n",
              "  <svg xmlns=\"http://www.w3.org/2000/svg\" height=\"24px\"viewBox=\"0 0 24 24\"\n",
              "       width=\"24px\">\n",
              "    <path d=\"M0 0h24v24H0V0z\" fill=\"none\"/>\n",
              "    <path d=\"M18.56 5.44l.94 2.06.94-2.06 2.06-.94-2.06-.94-.94-2.06-.94 2.06-2.06.94zm-11 1L8.5 8.5l.94-2.06 2.06-.94-2.06-.94L8.5 2.5l-.94 2.06-2.06.94zm10 10l.94 2.06.94-2.06 2.06-.94-2.06-.94-.94-2.06-.94 2.06-2.06.94z\"/><path d=\"M17.41 7.96l-1.37-1.37c-.4-.4-.92-.59-1.43-.59-.52 0-1.04.2-1.43.59L10.3 9.45l-7.72 7.72c-.78.78-.78 2.05 0 2.83L4 21.41c.39.39.9.59 1.41.59.51 0 1.02-.2 1.41-.59l7.78-7.78 2.81-2.81c.8-.78.8-2.07 0-2.86zM5.41 20L4 18.59l7.72-7.72 1.47 1.35L5.41 20z\"/>\n",
              "  </svg>\n",
              "      </button>\n",
              "      \n",
              "  <style>\n",
              "    .colab-df-container {\n",
              "      display:flex;\n",
              "      flex-wrap:wrap;\n",
              "      gap: 12px;\n",
              "    }\n",
              "\n",
              "    .colab-df-convert {\n",
              "      background-color: #E8F0FE;\n",
              "      border: none;\n",
              "      border-radius: 50%;\n",
              "      cursor: pointer;\n",
              "      display: none;\n",
              "      fill: #1967D2;\n",
              "      height: 32px;\n",
              "      padding: 0 0 0 0;\n",
              "      width: 32px;\n",
              "    }\n",
              "\n",
              "    .colab-df-convert:hover {\n",
              "      background-color: #E2EBFA;\n",
              "      box-shadow: 0px 1px 2px rgba(60, 64, 67, 0.3), 0px 1px 3px 1px rgba(60, 64, 67, 0.15);\n",
              "      fill: #174EA6;\n",
              "    }\n",
              "\n",
              "    [theme=dark] .colab-df-convert {\n",
              "      background-color: #3B4455;\n",
              "      fill: #D2E3FC;\n",
              "    }\n",
              "\n",
              "    [theme=dark] .colab-df-convert:hover {\n",
              "      background-color: #434B5C;\n",
              "      box-shadow: 0px 1px 3px 1px rgba(0, 0, 0, 0.15);\n",
              "      filter: drop-shadow(0px 1px 2px rgba(0, 0, 0, 0.3));\n",
              "      fill: #FFFFFF;\n",
              "    }\n",
              "  </style>\n",
              "\n",
              "      <script>\n",
              "        const buttonEl =\n",
              "          document.querySelector('#df-772fa0b0-34b9-4cf2-8c13-97c9c25175c9 button.colab-df-convert');\n",
              "        buttonEl.style.display =\n",
              "          google.colab.kernel.accessAllowed ? 'block' : 'none';\n",
              "\n",
              "        async function convertToInteractive(key) {\n",
              "          const element = document.querySelector('#df-772fa0b0-34b9-4cf2-8c13-97c9c25175c9');\n",
              "          const dataTable =\n",
              "            await google.colab.kernel.invokeFunction('convertToInteractive',\n",
              "                                                     [key], {});\n",
              "          if (!dataTable) return;\n",
              "\n",
              "          const docLinkHtml = 'Like what you see? Visit the ' +\n",
              "            '<a target=\"_blank\" href=https://colab.research.google.com/notebooks/data_table.ipynb>data table notebook</a>'\n",
              "            + ' to learn more about interactive tables.';\n",
              "          element.innerHTML = '';\n",
              "          dataTable['output_type'] = 'display_data';\n",
              "          await google.colab.output.renderOutput(dataTable, element);\n",
              "          const docLink = document.createElement('div');\n",
              "          docLink.innerHTML = docLinkHtml;\n",
              "          element.appendChild(docLink);\n",
              "        }\n",
              "      </script>\n",
              "    </div>\n",
              "  </div>\n",
              "  "
            ]
          },
          "metadata": {},
          "execution_count": 46
        }
      ],
      "source": [
        "data[['livingSpace', 'livingSpaceRange']].corr()"
      ]
    },
    {
      "cell_type": "markdown",
      "metadata": {
        "id": "JNmX3PXq2vTE"
      },
      "source": [
        "These pair features are highly correlated and nearly identical. So I will drop either one of them."
      ]
    },
    {
      "cell_type": "code",
      "execution_count": 47,
      "metadata": {
        "colab": {
          "base_uri": "https://localhost:8080/"
        },
        "id": "eSWMpaoL2vTE",
        "outputId": "00f9a158-5e91-4a6d-c0cf-ac8d605630ee"
      },
      "outputs": [
        {
          "output_type": "stream",
          "name": "stdout",
          "text": [
            "Features before drop: 30\n",
            "Features before drop: 26\n"
          ]
        }
      ],
      "source": [
        "print(f'Features before drop: {data.shape[1]}')\n",
        "data = data.drop(columns=['livingSpaceRange', 'yearConstructedRange', 'baseRentRange', 'noRoomsRange'])\n",
        "print(f'Features before drop: {data.shape[1]}')"
      ]
    },
    {
      "cell_type": "markdown",
      "metadata": {
        "id": "-Q-pjHlq2vTE"
      },
      "source": [
        "## 3.Model\n",
        "In this part I will train a model to predict `totalRent` after some data preprocessing. I will take 3 steps:\n",
        "1. Encoding Boolean and Categorical Features\n",
        "2. Data Split\n",
        "3. Data Normalization\n",
        "4. Training The Model\n",
        "\n",
        "I will not one-hot encode boolean features, you can see why [here](https://stackoverflow.com/questions/43515877/should-binary-features-be-one-hot-encoded)."
      ]
    },
    {
      "cell_type": "code",
      "execution_count": 48,
      "metadata": {
        "id": "cwgEGWKG2vTE"
      },
      "outputs": [],
      "source": [
        "for col in ['newlyConst', 'balcony', 'hasKitchen', 'cellar', 'lift', 'garden']:\n",
        "    data[col] = data[col].astype(int)"
      ]
    },
    {
      "cell_type": "code",
      "execution_count": 49,
      "metadata": {
        "colab": {
          "base_uri": "https://localhost:8080/"
        },
        "id": "__zHuHTU2vTF",
        "outputId": "fd61a2a2-e191-4f0c-8d55-1aace89bbe3a"
      },
      "outputs": [
        {
          "output_type": "stream",
          "name": "stdout",
          "text": [
            "Features before encoding: 26\n",
            "Features after encoding: 53\n"
          ]
        }
      ],
      "source": [
        "print(f'Features before encoding: {data.shape[1]}')\n",
        "categoricals = []\n",
        "for col in data.columns:\n",
        "    if data[col].dtype == 'object':\n",
        "        categoricals.append(col)\n",
        "\n",
        "dummies_feature = pd.get_dummies(data[categoricals])\n",
        "data = pd.concat([data, dummies_feature], axis=1)\n",
        "data = data.drop(columns=categoricals)\n",
        "print(f'Features after encoding: {data.shape[1]}')"
      ]
    },
    {
      "cell_type": "code",
      "execution_count": 50,
      "metadata": {
        "colab": {
          "base_uri": "https://localhost:8080/",
          "height": 487
        },
        "id": "1a2a0aP12vTF",
        "outputId": "89c0d892-ebc0-4efb-ffa4-44cff71a6150"
      },
      "outputs": [
        {
          "output_type": "execute_result",
          "data": {
            "text/plain": [
              "        serviceCharge  newlyConst  balcony  picturecount  pricetrend  \\\n",
              "0              245.00           0        0             6        4.62   \n",
              "1              134.00           0        1             8        3.47   \n",
              "2              255.00           1        1             8        2.72   \n",
              "3               58.15           0        1             9        1.53   \n",
              "4              138.00           0        1            19        2.46   \n",
              "...               ...         ...      ...           ...         ...   \n",
              "268844          80.00           0        0            12        2.58   \n",
              "268845          90.00           0        1             0        2.74   \n",
              "268846         220.00           0        1            12        6.49   \n",
              "268847         220.00           0        1            21        2.90   \n",
              "268848         175.00           1        1            16        4.39   \n",
              "\n",
              "        telekomUploadSpeed    totalRent  yearConstructed  hasKitchen  cellar  \\\n",
              "0                10.000000   840.000000      1965.000000           0       1   \n",
              "1                10.000000   954.440045      1871.000000           0       0   \n",
              "2                 2.400000  1300.000000      2019.000000           0       1   \n",
              "3                40.000000   423.695873      1964.000000           0       0   \n",
              "4                28.832614   903.000000      1950.000000           0       0   \n",
              "...                    ...          ...              ...         ...     ...   \n",
              "268844            2.400000   670.000000      1967.712068           0       0   \n",
              "268845           10.000000   910.000000      2016.000000           0       1   \n",
              "268846           28.832614  1150.000000      1983.000000           1       0   \n",
              "268847           40.000000   930.000000      1965.000000           0       1   \n",
              "268848           28.832614  1015.000000      2019.000000           0       1   \n",
              "\n",
              "        baseRent  livingSpace  lift  geo_plz  noRooms  thermalChar     floor  \\\n",
              "0          595.0        86.00     0    44269      4.0   181.400000  1.000000   \n",
              "1          800.0        89.00     0    67459      3.0   113.715498  1.960432   \n",
              "2          965.0        83.80     1     1097      3.0   113.715498  3.000000   \n",
              "3          343.0        58.15     0     9599      3.0    86.000000  3.000000   \n",
              "4          765.0        84.97     0    28213      3.0   188.900000  1.000000   \n",
              "...          ...          ...   ...      ...      ...          ...       ...   \n",
              "268844     590.0        85.00     0    45279      3.0   113.715498  3.000000   \n",
              "268845     820.0        90.00     0    82390      3.0   113.715498  1.960432   \n",
              "268846     930.0       115.00     0    68519      3.5   113.715498  1.000000   \n",
              "268847     650.0        95.00     0    65552      4.0   160.770000  1.000000   \n",
              "268848     840.0        70.00     1    51069      2.0    24.700000  1.960432   \n",
              "\n",
              "        numberOfFloors  garden  regio1_Baden_Württemberg  regio1_Bayern  \\\n",
              "0             3.000000       1                         0              0   \n",
              "1             3.305847       0                         0              0   \n",
              "2             4.000000       0                         0              0   \n",
              "3             3.305847       0                         0              0   \n",
              "4             3.305847       0                         0              0   \n",
              "...                ...     ...                       ...            ...   \n",
              "268844        3.000000       0                         0              0   \n",
              "268845        3.305847       0                         0              1   \n",
              "268846        1.000000       0                         0              0   \n",
              "268847        2.000000       1                         0              0   \n",
              "268848        5.000000       0                         0              0   \n",
              "\n",
              "        regio1_Berlin  regio1_Brandenburg  regio1_Bremen  regio1_Hamburg  ...  \\\n",
              "0                   0                   0              0               0  ...   \n",
              "1                   0                   0              0               0  ...   \n",
              "2                   0                   0              0               0  ...   \n",
              "3                   0                   0              0               0  ...   \n",
              "4                   0                   0              1               0  ...   \n",
              "...               ...                 ...            ...             ...  ...   \n",
              "268844              0                   0              0               0  ...   \n",
              "268845              0                   0              0               0  ...   \n",
              "268846              0                   0              0               0  ...   \n",
              "268847              0                   0              0               0  ...   \n",
              "268848              0                   0              0               0  ...   \n",
              "\n",
              "        regio1_Nordrhein_Westfalen  regio1_Rheinland_Pfalz  regio1_Saarland  \\\n",
              "0                                1                       0                0   \n",
              "1                                0                       1                0   \n",
              "2                                0                       0                0   \n",
              "3                                0                       0                0   \n",
              "4                                0                       0                0   \n",
              "...                            ...                     ...              ...   \n",
              "268844                           1                       0                0   \n",
              "268845                           0                       0                0   \n",
              "268846                           0                       0                0   \n",
              "268847                           0                       0                0   \n",
              "268848                           1                       0                0   \n",
              "\n",
              "        regio1_Sachsen  regio1_Sachsen_Anhalt  regio1_Schleswig_Holstein  \\\n",
              "0                    0                      0                          0   \n",
              "1                    0                      0                          0   \n",
              "2                    1                      0                          0   \n",
              "3                    1                      0                          0   \n",
              "4                    0                      0                          0   \n",
              "...                ...                    ...                        ...   \n",
              "268844               0                      0                          0   \n",
              "268845               0                      0                          0   \n",
              "268846               0                      0                          0   \n",
              "268847               0                      0                          0   \n",
              "268848               0                      0                          0   \n",
              "\n",
              "        regio1_Thüringen  heatingType_central_heating  heatingType_other  \\\n",
              "0                      0                            1                  0   \n",
              "1                      0                            0                  1   \n",
              "2                      0                            0                  1   \n",
              "3                      0                            0                  1   \n",
              "4                      0                            0                  1   \n",
              "...                  ...                          ...                ...   \n",
              "268844                 0                            0                  1   \n",
              "268845                 0                            0                  1   \n",
              "268846                 0                            0                  1   \n",
              "268847                 0                            1                  0   \n",
              "268848                 0                            0                  1   \n",
              "\n",
              "        telekomTvOffer_NONE  telekomTvOffer_ONE_YEAR_FREE  \\\n",
              "0                         0                             1   \n",
              "1                         0                             1   \n",
              "2                         0                             1   \n",
              "3                         0                             1   \n",
              "4                         0                             1   \n",
              "...                     ...                           ...   \n",
              "268844                    0                             1   \n",
              "268845                    0                             1   \n",
              "268846                    0                             1   \n",
              "268847                    0                             1   \n",
              "268848                    0                             1   \n",
              "\n",
              "        telekomTvOffer_ON_DEMAND  condition_other  condition_well_kept  \\\n",
              "0                              0                0                    1   \n",
              "1                              0                1                    0   \n",
              "2                              0                1                    0   \n",
              "3                              0                0                    1   \n",
              "4                              0                1                    0   \n",
              "...                          ...              ...                  ...   \n",
              "268844                         0                1                    0   \n",
              "268845                         0                1                    0   \n",
              "268846                         0                0                    1   \n",
              "268847                         0                0                    1   \n",
              "268848                         0                1                    0   \n",
              "\n",
              "        interiorQual_luxury  interiorQual_normal  interiorQual_simple  \\\n",
              "0                         0                    1                    0   \n",
              "1                         0                    1                    0   \n",
              "2                         0                    0                    0   \n",
              "3                         0                    1                    0   \n",
              "4                         0                    1                    0   \n",
              "...                     ...                  ...                  ...   \n",
              "268844                    0                    0                    0   \n",
              "268845                    0                    0                    0   \n",
              "268846                    0                    0                    0   \n",
              "268847                    0                    1                    0   \n",
              "268848                    0                    0                    0   \n",
              "\n",
              "        interiorQual_sophisticated  petsAllowed_negotiable  petsAllowed_no  \\\n",
              "0                                0                       1               0   \n",
              "1                                0                       0               1   \n",
              "2                                1                       1               0   \n",
              "3                                0                       1               0   \n",
              "4                                0                       1               0   \n",
              "...                            ...                     ...             ...   \n",
              "268844                           1                       1               0   \n",
              "268845                           1                       0               1   \n",
              "268846                           1                       1               0   \n",
              "268847                           0                       1               0   \n",
              "268848                           1                       0               1   \n",
              "\n",
              "        petsAllowed_yes  typeOfFlat_apartment  typeOfFlat_ground_floor  \\\n",
              "0                     0                     0                        1   \n",
              "1                     0                     0                        1   \n",
              "2                     0                     1                        0   \n",
              "3                     0                     0                        0   \n",
              "4                     0                     1                        0   \n",
              "...                 ...                   ...                      ...   \n",
              "268844                0                     0                        0   \n",
              "268845                0                     0                        0   \n",
              "268846                0                     1                        0   \n",
              "268847                0                     1                        0   \n",
              "268848                0                     1                        0   \n",
              "\n",
              "        typeOfFlat_other  typeOfFlat_roof_storey  \n",
              "0                      0                       0  \n",
              "1                      0                       0  \n",
              "2                      0                       0  \n",
              "3                      1                       0  \n",
              "4                      0                       0  \n",
              "...                  ...                     ...  \n",
              "268844                 0                       1  \n",
              "268845                 0                       1  \n",
              "268846                 0                       0  \n",
              "268847                 0                       0  \n",
              "268848                 0                       0  \n",
              "\n",
              "[221557 rows x 53 columns]"
            ],
            "text/html": [
              "\n",
              "  <div id=\"df-36d9dcfb-264c-42c2-88f8-2087bf730f52\">\n",
              "    <div class=\"colab-df-container\">\n",
              "      <div>\n",
              "<style scoped>\n",
              "    .dataframe tbody tr th:only-of-type {\n",
              "        vertical-align: middle;\n",
              "    }\n",
              "\n",
              "    .dataframe tbody tr th {\n",
              "        vertical-align: top;\n",
              "    }\n",
              "\n",
              "    .dataframe thead th {\n",
              "        text-align: right;\n",
              "    }\n",
              "</style>\n",
              "<table border=\"1\" class=\"dataframe\">\n",
              "  <thead>\n",
              "    <tr style=\"text-align: right;\">\n",
              "      <th></th>\n",
              "      <th>serviceCharge</th>\n",
              "      <th>newlyConst</th>\n",
              "      <th>balcony</th>\n",
              "      <th>picturecount</th>\n",
              "      <th>pricetrend</th>\n",
              "      <th>telekomUploadSpeed</th>\n",
              "      <th>totalRent</th>\n",
              "      <th>yearConstructed</th>\n",
              "      <th>hasKitchen</th>\n",
              "      <th>cellar</th>\n",
              "      <th>baseRent</th>\n",
              "      <th>livingSpace</th>\n",
              "      <th>lift</th>\n",
              "      <th>geo_plz</th>\n",
              "      <th>noRooms</th>\n",
              "      <th>thermalChar</th>\n",
              "      <th>floor</th>\n",
              "      <th>numberOfFloors</th>\n",
              "      <th>garden</th>\n",
              "      <th>regio1_Baden_Württemberg</th>\n",
              "      <th>regio1_Bayern</th>\n",
              "      <th>regio1_Berlin</th>\n",
              "      <th>regio1_Brandenburg</th>\n",
              "      <th>regio1_Bremen</th>\n",
              "      <th>regio1_Hamburg</th>\n",
              "      <th>...</th>\n",
              "      <th>regio1_Nordrhein_Westfalen</th>\n",
              "      <th>regio1_Rheinland_Pfalz</th>\n",
              "      <th>regio1_Saarland</th>\n",
              "      <th>regio1_Sachsen</th>\n",
              "      <th>regio1_Sachsen_Anhalt</th>\n",
              "      <th>regio1_Schleswig_Holstein</th>\n",
              "      <th>regio1_Thüringen</th>\n",
              "      <th>heatingType_central_heating</th>\n",
              "      <th>heatingType_other</th>\n",
              "      <th>telekomTvOffer_NONE</th>\n",
              "      <th>telekomTvOffer_ONE_YEAR_FREE</th>\n",
              "      <th>telekomTvOffer_ON_DEMAND</th>\n",
              "      <th>condition_other</th>\n",
              "      <th>condition_well_kept</th>\n",
              "      <th>interiorQual_luxury</th>\n",
              "      <th>interiorQual_normal</th>\n",
              "      <th>interiorQual_simple</th>\n",
              "      <th>interiorQual_sophisticated</th>\n",
              "      <th>petsAllowed_negotiable</th>\n",
              "      <th>petsAllowed_no</th>\n",
              "      <th>petsAllowed_yes</th>\n",
              "      <th>typeOfFlat_apartment</th>\n",
              "      <th>typeOfFlat_ground_floor</th>\n",
              "      <th>typeOfFlat_other</th>\n",
              "      <th>typeOfFlat_roof_storey</th>\n",
              "    </tr>\n",
              "  </thead>\n",
              "  <tbody>\n",
              "    <tr>\n",
              "      <th>0</th>\n",
              "      <td>245.00</td>\n",
              "      <td>0</td>\n",
              "      <td>0</td>\n",
              "      <td>6</td>\n",
              "      <td>4.62</td>\n",
              "      <td>10.000000</td>\n",
              "      <td>840.000000</td>\n",
              "      <td>1965.000000</td>\n",
              "      <td>0</td>\n",
              "      <td>1</td>\n",
              "      <td>595.0</td>\n",
              "      <td>86.00</td>\n",
              "      <td>0</td>\n",
              "      <td>44269</td>\n",
              "      <td>4.0</td>\n",
              "      <td>181.400000</td>\n",
              "      <td>1.000000</td>\n",
              "      <td>3.000000</td>\n",
              "      <td>1</td>\n",
              "      <td>0</td>\n",
              "      <td>0</td>\n",
              "      <td>0</td>\n",
              "      <td>0</td>\n",
              "      <td>0</td>\n",
              "      <td>0</td>\n",
              "      <td>...</td>\n",
              "      <td>1</td>\n",
              "      <td>0</td>\n",
              "      <td>0</td>\n",
              "      <td>0</td>\n",
              "      <td>0</td>\n",
              "      <td>0</td>\n",
              "      <td>0</td>\n",
              "      <td>1</td>\n",
              "      <td>0</td>\n",
              "      <td>0</td>\n",
              "      <td>1</td>\n",
              "      <td>0</td>\n",
              "      <td>0</td>\n",
              "      <td>1</td>\n",
              "      <td>0</td>\n",
              "      <td>1</td>\n",
              "      <td>0</td>\n",
              "      <td>0</td>\n",
              "      <td>1</td>\n",
              "      <td>0</td>\n",
              "      <td>0</td>\n",
              "      <td>0</td>\n",
              "      <td>1</td>\n",
              "      <td>0</td>\n",
              "      <td>0</td>\n",
              "    </tr>\n",
              "    <tr>\n",
              "      <th>1</th>\n",
              "      <td>134.00</td>\n",
              "      <td>0</td>\n",
              "      <td>1</td>\n",
              "      <td>8</td>\n",
              "      <td>3.47</td>\n",
              "      <td>10.000000</td>\n",
              "      <td>954.440045</td>\n",
              "      <td>1871.000000</td>\n",
              "      <td>0</td>\n",
              "      <td>0</td>\n",
              "      <td>800.0</td>\n",
              "      <td>89.00</td>\n",
              "      <td>0</td>\n",
              "      <td>67459</td>\n",
              "      <td>3.0</td>\n",
              "      <td>113.715498</td>\n",
              "      <td>1.960432</td>\n",
              "      <td>3.305847</td>\n",
              "      <td>0</td>\n",
              "      <td>0</td>\n",
              "      <td>0</td>\n",
              "      <td>0</td>\n",
              "      <td>0</td>\n",
              "      <td>0</td>\n",
              "      <td>0</td>\n",
              "      <td>...</td>\n",
              "      <td>0</td>\n",
              "      <td>1</td>\n",
              "      <td>0</td>\n",
              "      <td>0</td>\n",
              "      <td>0</td>\n",
              "      <td>0</td>\n",
              "      <td>0</td>\n",
              "      <td>0</td>\n",
              "      <td>1</td>\n",
              "      <td>0</td>\n",
              "      <td>1</td>\n",
              "      <td>0</td>\n",
              "      <td>1</td>\n",
              "      <td>0</td>\n",
              "      <td>0</td>\n",
              "      <td>1</td>\n",
              "      <td>0</td>\n",
              "      <td>0</td>\n",
              "      <td>0</td>\n",
              "      <td>1</td>\n",
              "      <td>0</td>\n",
              "      <td>0</td>\n",
              "      <td>1</td>\n",
              "      <td>0</td>\n",
              "      <td>0</td>\n",
              "    </tr>\n",
              "    <tr>\n",
              "      <th>2</th>\n",
              "      <td>255.00</td>\n",
              "      <td>1</td>\n",
              "      <td>1</td>\n",
              "      <td>8</td>\n",
              "      <td>2.72</td>\n",
              "      <td>2.400000</td>\n",
              "      <td>1300.000000</td>\n",
              "      <td>2019.000000</td>\n",
              "      <td>0</td>\n",
              "      <td>1</td>\n",
              "      <td>965.0</td>\n",
              "      <td>83.80</td>\n",
              "      <td>1</td>\n",
              "      <td>1097</td>\n",
              "      <td>3.0</td>\n",
              "      <td>113.715498</td>\n",
              "      <td>3.000000</td>\n",
              "      <td>4.000000</td>\n",
              "      <td>0</td>\n",
              "      <td>0</td>\n",
              "      <td>0</td>\n",
              "      <td>0</td>\n",
              "      <td>0</td>\n",
              "      <td>0</td>\n",
              "      <td>0</td>\n",
              "      <td>...</td>\n",
              "      <td>0</td>\n",
              "      <td>0</td>\n",
              "      <td>0</td>\n",
              "      <td>1</td>\n",
              "      <td>0</td>\n",
              "      <td>0</td>\n",
              "      <td>0</td>\n",
              "      <td>0</td>\n",
              "      <td>1</td>\n",
              "      <td>0</td>\n",
              "      <td>1</td>\n",
              "      <td>0</td>\n",
              "      <td>1</td>\n",
              "      <td>0</td>\n",
              "      <td>0</td>\n",
              "      <td>0</td>\n",
              "      <td>0</td>\n",
              "      <td>1</td>\n",
              "      <td>1</td>\n",
              "      <td>0</td>\n",
              "      <td>0</td>\n",
              "      <td>1</td>\n",
              "      <td>0</td>\n",
              "      <td>0</td>\n",
              "      <td>0</td>\n",
              "    </tr>\n",
              "    <tr>\n",
              "      <th>3</th>\n",
              "      <td>58.15</td>\n",
              "      <td>0</td>\n",
              "      <td>1</td>\n",
              "      <td>9</td>\n",
              "      <td>1.53</td>\n",
              "      <td>40.000000</td>\n",
              "      <td>423.695873</td>\n",
              "      <td>1964.000000</td>\n",
              "      <td>0</td>\n",
              "      <td>0</td>\n",
              "      <td>343.0</td>\n",
              "      <td>58.15</td>\n",
              "      <td>0</td>\n",
              "      <td>9599</td>\n",
              "      <td>3.0</td>\n",
              "      <td>86.000000</td>\n",
              "      <td>3.000000</td>\n",
              "      <td>3.305847</td>\n",
              "      <td>0</td>\n",
              "      <td>0</td>\n",
              "      <td>0</td>\n",
              "      <td>0</td>\n",
              "      <td>0</td>\n",
              "      <td>0</td>\n",
              "      <td>0</td>\n",
              "      <td>...</td>\n",
              "      <td>0</td>\n",
              "      <td>0</td>\n",
              "      <td>0</td>\n",
              "      <td>1</td>\n",
              "      <td>0</td>\n",
              "      <td>0</td>\n",
              "      <td>0</td>\n",
              "      <td>0</td>\n",
              "      <td>1</td>\n",
              "      <td>0</td>\n",
              "      <td>1</td>\n",
              "      <td>0</td>\n",
              "      <td>0</td>\n",
              "      <td>1</td>\n",
              "      <td>0</td>\n",
              "      <td>1</td>\n",
              "      <td>0</td>\n",
              "      <td>0</td>\n",
              "      <td>1</td>\n",
              "      <td>0</td>\n",
              "      <td>0</td>\n",
              "      <td>0</td>\n",
              "      <td>0</td>\n",
              "      <td>1</td>\n",
              "      <td>0</td>\n",
              "    </tr>\n",
              "    <tr>\n",
              "      <th>4</th>\n",
              "      <td>138.00</td>\n",
              "      <td>0</td>\n",
              "      <td>1</td>\n",
              "      <td>19</td>\n",
              "      <td>2.46</td>\n",
              "      <td>28.832614</td>\n",
              "      <td>903.000000</td>\n",
              "      <td>1950.000000</td>\n",
              "      <td>0</td>\n",
              "      <td>0</td>\n",
              "      <td>765.0</td>\n",
              "      <td>84.97</td>\n",
              "      <td>0</td>\n",
              "      <td>28213</td>\n",
              "      <td>3.0</td>\n",
              "      <td>188.900000</td>\n",
              "      <td>1.000000</td>\n",
              "      <td>3.305847</td>\n",
              "      <td>0</td>\n",
              "      <td>0</td>\n",
              "      <td>0</td>\n",
              "      <td>0</td>\n",
              "      <td>0</td>\n",
              "      <td>1</td>\n",
              "      <td>0</td>\n",
              "      <td>...</td>\n",
              "      <td>0</td>\n",
              "      <td>0</td>\n",
              "      <td>0</td>\n",
              "      <td>0</td>\n",
              "      <td>0</td>\n",
              "      <td>0</td>\n",
              "      <td>0</td>\n",
              "      <td>0</td>\n",
              "      <td>1</td>\n",
              "      <td>0</td>\n",
              "      <td>1</td>\n",
              "      <td>0</td>\n",
              "      <td>1</td>\n",
              "      <td>0</td>\n",
              "      <td>0</td>\n",
              "      <td>1</td>\n",
              "      <td>0</td>\n",
              "      <td>0</td>\n",
              "      <td>1</td>\n",
              "      <td>0</td>\n",
              "      <td>0</td>\n",
              "      <td>1</td>\n",
              "      <td>0</td>\n",
              "      <td>0</td>\n",
              "      <td>0</td>\n",
              "    </tr>\n",
              "    <tr>\n",
              "      <th>...</th>\n",
              "      <td>...</td>\n",
              "      <td>...</td>\n",
              "      <td>...</td>\n",
              "      <td>...</td>\n",
              "      <td>...</td>\n",
              "      <td>...</td>\n",
              "      <td>...</td>\n",
              "      <td>...</td>\n",
              "      <td>...</td>\n",
              "      <td>...</td>\n",
              "      <td>...</td>\n",
              "      <td>...</td>\n",
              "      <td>...</td>\n",
              "      <td>...</td>\n",
              "      <td>...</td>\n",
              "      <td>...</td>\n",
              "      <td>...</td>\n",
              "      <td>...</td>\n",
              "      <td>...</td>\n",
              "      <td>...</td>\n",
              "      <td>...</td>\n",
              "      <td>...</td>\n",
              "      <td>...</td>\n",
              "      <td>...</td>\n",
              "      <td>...</td>\n",
              "      <td>...</td>\n",
              "      <td>...</td>\n",
              "      <td>...</td>\n",
              "      <td>...</td>\n",
              "      <td>...</td>\n",
              "      <td>...</td>\n",
              "      <td>...</td>\n",
              "      <td>...</td>\n",
              "      <td>...</td>\n",
              "      <td>...</td>\n",
              "      <td>...</td>\n",
              "      <td>...</td>\n",
              "      <td>...</td>\n",
              "      <td>...</td>\n",
              "      <td>...</td>\n",
              "      <td>...</td>\n",
              "      <td>...</td>\n",
              "      <td>...</td>\n",
              "      <td>...</td>\n",
              "      <td>...</td>\n",
              "      <td>...</td>\n",
              "      <td>...</td>\n",
              "      <td>...</td>\n",
              "      <td>...</td>\n",
              "      <td>...</td>\n",
              "      <td>...</td>\n",
              "    </tr>\n",
              "    <tr>\n",
              "      <th>268844</th>\n",
              "      <td>80.00</td>\n",
              "      <td>0</td>\n",
              "      <td>0</td>\n",
              "      <td>12</td>\n",
              "      <td>2.58</td>\n",
              "      <td>2.400000</td>\n",
              "      <td>670.000000</td>\n",
              "      <td>1967.712068</td>\n",
              "      <td>0</td>\n",
              "      <td>0</td>\n",
              "      <td>590.0</td>\n",
              "      <td>85.00</td>\n",
              "      <td>0</td>\n",
              "      <td>45279</td>\n",
              "      <td>3.0</td>\n",
              "      <td>113.715498</td>\n",
              "      <td>3.000000</td>\n",
              "      <td>3.000000</td>\n",
              "      <td>0</td>\n",
              "      <td>0</td>\n",
              "      <td>0</td>\n",
              "      <td>0</td>\n",
              "      <td>0</td>\n",
              "      <td>0</td>\n",
              "      <td>0</td>\n",
              "      <td>...</td>\n",
              "      <td>1</td>\n",
              "      <td>0</td>\n",
              "      <td>0</td>\n",
              "      <td>0</td>\n",
              "      <td>0</td>\n",
              "      <td>0</td>\n",
              "      <td>0</td>\n",
              "      <td>0</td>\n",
              "      <td>1</td>\n",
              "      <td>0</td>\n",
              "      <td>1</td>\n",
              "      <td>0</td>\n",
              "      <td>1</td>\n",
              "      <td>0</td>\n",
              "      <td>0</td>\n",
              "      <td>0</td>\n",
              "      <td>0</td>\n",
              "      <td>1</td>\n",
              "      <td>1</td>\n",
              "      <td>0</td>\n",
              "      <td>0</td>\n",
              "      <td>0</td>\n",
              "      <td>0</td>\n",
              "      <td>0</td>\n",
              "      <td>1</td>\n",
              "    </tr>\n",
              "    <tr>\n",
              "      <th>268845</th>\n",
              "      <td>90.00</td>\n",
              "      <td>0</td>\n",
              "      <td>1</td>\n",
              "      <td>0</td>\n",
              "      <td>2.74</td>\n",
              "      <td>10.000000</td>\n",
              "      <td>910.000000</td>\n",
              "      <td>2016.000000</td>\n",
              "      <td>0</td>\n",
              "      <td>1</td>\n",
              "      <td>820.0</td>\n",
              "      <td>90.00</td>\n",
              "      <td>0</td>\n",
              "      <td>82390</td>\n",
              "      <td>3.0</td>\n",
              "      <td>113.715498</td>\n",
              "      <td>1.960432</td>\n",
              "      <td>3.305847</td>\n",
              "      <td>0</td>\n",
              "      <td>0</td>\n",
              "      <td>1</td>\n",
              "      <td>0</td>\n",
              "      <td>0</td>\n",
              "      <td>0</td>\n",
              "      <td>0</td>\n",
              "      <td>...</td>\n",
              "      <td>0</td>\n",
              "      <td>0</td>\n",
              "      <td>0</td>\n",
              "      <td>0</td>\n",
              "      <td>0</td>\n",
              "      <td>0</td>\n",
              "      <td>0</td>\n",
              "      <td>0</td>\n",
              "      <td>1</td>\n",
              "      <td>0</td>\n",
              "      <td>1</td>\n",
              "      <td>0</td>\n",
              "      <td>1</td>\n",
              "      <td>0</td>\n",
              "      <td>0</td>\n",
              "      <td>0</td>\n",
              "      <td>0</td>\n",
              "      <td>1</td>\n",
              "      <td>0</td>\n",
              "      <td>1</td>\n",
              "      <td>0</td>\n",
              "      <td>0</td>\n",
              "      <td>0</td>\n",
              "      <td>0</td>\n",
              "      <td>1</td>\n",
              "    </tr>\n",
              "    <tr>\n",
              "      <th>268846</th>\n",
              "      <td>220.00</td>\n",
              "      <td>0</td>\n",
              "      <td>1</td>\n",
              "      <td>12</td>\n",
              "      <td>6.49</td>\n",
              "      <td>28.832614</td>\n",
              "      <td>1150.000000</td>\n",
              "      <td>1983.000000</td>\n",
              "      <td>1</td>\n",
              "      <td>0</td>\n",
              "      <td>930.0</td>\n",
              "      <td>115.00</td>\n",
              "      <td>0</td>\n",
              "      <td>68519</td>\n",
              "      <td>3.5</td>\n",
              "      <td>113.715498</td>\n",
              "      <td>1.000000</td>\n",
              "      <td>1.000000</td>\n",
              "      <td>0</td>\n",
              "      <td>0</td>\n",
              "      <td>0</td>\n",
              "      <td>0</td>\n",
              "      <td>0</td>\n",
              "      <td>0</td>\n",
              "      <td>0</td>\n",
              "      <td>...</td>\n",
              "      <td>0</td>\n",
              "      <td>0</td>\n",
              "      <td>0</td>\n",
              "      <td>0</td>\n",
              "      <td>0</td>\n",
              "      <td>0</td>\n",
              "      <td>0</td>\n",
              "      <td>0</td>\n",
              "      <td>1</td>\n",
              "      <td>0</td>\n",
              "      <td>1</td>\n",
              "      <td>0</td>\n",
              "      <td>0</td>\n",
              "      <td>1</td>\n",
              "      <td>0</td>\n",
              "      <td>0</td>\n",
              "      <td>0</td>\n",
              "      <td>1</td>\n",
              "      <td>1</td>\n",
              "      <td>0</td>\n",
              "      <td>0</td>\n",
              "      <td>1</td>\n",
              "      <td>0</td>\n",
              "      <td>0</td>\n",
              "      <td>0</td>\n",
              "    </tr>\n",
              "    <tr>\n",
              "      <th>268847</th>\n",
              "      <td>220.00</td>\n",
              "      <td>0</td>\n",
              "      <td>1</td>\n",
              "      <td>21</td>\n",
              "      <td>2.90</td>\n",
              "      <td>40.000000</td>\n",
              "      <td>930.000000</td>\n",
              "      <td>1965.000000</td>\n",
              "      <td>0</td>\n",
              "      <td>1</td>\n",
              "      <td>650.0</td>\n",
              "      <td>95.00</td>\n",
              "      <td>0</td>\n",
              "      <td>65552</td>\n",
              "      <td>4.0</td>\n",
              "      <td>160.770000</td>\n",
              "      <td>1.000000</td>\n",
              "      <td>2.000000</td>\n",
              "      <td>1</td>\n",
              "      <td>0</td>\n",
              "      <td>0</td>\n",
              "      <td>0</td>\n",
              "      <td>0</td>\n",
              "      <td>0</td>\n",
              "      <td>0</td>\n",
              "      <td>...</td>\n",
              "      <td>0</td>\n",
              "      <td>0</td>\n",
              "      <td>0</td>\n",
              "      <td>0</td>\n",
              "      <td>0</td>\n",
              "      <td>0</td>\n",
              "      <td>0</td>\n",
              "      <td>1</td>\n",
              "      <td>0</td>\n",
              "      <td>0</td>\n",
              "      <td>1</td>\n",
              "      <td>0</td>\n",
              "      <td>0</td>\n",
              "      <td>1</td>\n",
              "      <td>0</td>\n",
              "      <td>1</td>\n",
              "      <td>0</td>\n",
              "      <td>0</td>\n",
              "      <td>1</td>\n",
              "      <td>0</td>\n",
              "      <td>0</td>\n",
              "      <td>1</td>\n",
              "      <td>0</td>\n",
              "      <td>0</td>\n",
              "      <td>0</td>\n",
              "    </tr>\n",
              "    <tr>\n",
              "      <th>268848</th>\n",
              "      <td>175.00</td>\n",
              "      <td>1</td>\n",
              "      <td>1</td>\n",
              "      <td>16</td>\n",
              "      <td>4.39</td>\n",
              "      <td>28.832614</td>\n",
              "      <td>1015.000000</td>\n",
              "      <td>2019.000000</td>\n",
              "      <td>0</td>\n",
              "      <td>1</td>\n",
              "      <td>840.0</td>\n",
              "      <td>70.00</td>\n",
              "      <td>1</td>\n",
              "      <td>51069</td>\n",
              "      <td>2.0</td>\n",
              "      <td>24.700000</td>\n",
              "      <td>1.960432</td>\n",
              "      <td>5.000000</td>\n",
              "      <td>0</td>\n",
              "      <td>0</td>\n",
              "      <td>0</td>\n",
              "      <td>0</td>\n",
              "      <td>0</td>\n",
              "      <td>0</td>\n",
              "      <td>0</td>\n",
              "      <td>...</td>\n",
              "      <td>1</td>\n",
              "      <td>0</td>\n",
              "      <td>0</td>\n",
              "      <td>0</td>\n",
              "      <td>0</td>\n",
              "      <td>0</td>\n",
              "      <td>0</td>\n",
              "      <td>0</td>\n",
              "      <td>1</td>\n",
              "      <td>0</td>\n",
              "      <td>1</td>\n",
              "      <td>0</td>\n",
              "      <td>1</td>\n",
              "      <td>0</td>\n",
              "      <td>0</td>\n",
              "      <td>0</td>\n",
              "      <td>0</td>\n",
              "      <td>1</td>\n",
              "      <td>0</td>\n",
              "      <td>1</td>\n",
              "      <td>0</td>\n",
              "      <td>1</td>\n",
              "      <td>0</td>\n",
              "      <td>0</td>\n",
              "      <td>0</td>\n",
              "    </tr>\n",
              "  </tbody>\n",
              "</table>\n",
              "<p>221557 rows × 53 columns</p>\n",
              "</div>\n",
              "      <button class=\"colab-df-convert\" onclick=\"convertToInteractive('df-36d9dcfb-264c-42c2-88f8-2087bf730f52')\"\n",
              "              title=\"Convert this dataframe to an interactive table.\"\n",
              "              style=\"display:none;\">\n",
              "        \n",
              "  <svg xmlns=\"http://www.w3.org/2000/svg\" height=\"24px\"viewBox=\"0 0 24 24\"\n",
              "       width=\"24px\">\n",
              "    <path d=\"M0 0h24v24H0V0z\" fill=\"none\"/>\n",
              "    <path d=\"M18.56 5.44l.94 2.06.94-2.06 2.06-.94-2.06-.94-.94-2.06-.94 2.06-2.06.94zm-11 1L8.5 8.5l.94-2.06 2.06-.94-2.06-.94L8.5 2.5l-.94 2.06-2.06.94zm10 10l.94 2.06.94-2.06 2.06-.94-2.06-.94-.94-2.06-.94 2.06-2.06.94z\"/><path d=\"M17.41 7.96l-1.37-1.37c-.4-.4-.92-.59-1.43-.59-.52 0-1.04.2-1.43.59L10.3 9.45l-7.72 7.72c-.78.78-.78 2.05 0 2.83L4 21.41c.39.39.9.59 1.41.59.51 0 1.02-.2 1.41-.59l7.78-7.78 2.81-2.81c.8-.78.8-2.07 0-2.86zM5.41 20L4 18.59l7.72-7.72 1.47 1.35L5.41 20z\"/>\n",
              "  </svg>\n",
              "      </button>\n",
              "      \n",
              "  <style>\n",
              "    .colab-df-container {\n",
              "      display:flex;\n",
              "      flex-wrap:wrap;\n",
              "      gap: 12px;\n",
              "    }\n",
              "\n",
              "    .colab-df-convert {\n",
              "      background-color: #E8F0FE;\n",
              "      border: none;\n",
              "      border-radius: 50%;\n",
              "      cursor: pointer;\n",
              "      display: none;\n",
              "      fill: #1967D2;\n",
              "      height: 32px;\n",
              "      padding: 0 0 0 0;\n",
              "      width: 32px;\n",
              "    }\n",
              "\n",
              "    .colab-df-convert:hover {\n",
              "      background-color: #E2EBFA;\n",
              "      box-shadow: 0px 1px 2px rgba(60, 64, 67, 0.3), 0px 1px 3px 1px rgba(60, 64, 67, 0.15);\n",
              "      fill: #174EA6;\n",
              "    }\n",
              "\n",
              "    [theme=dark] .colab-df-convert {\n",
              "      background-color: #3B4455;\n",
              "      fill: #D2E3FC;\n",
              "    }\n",
              "\n",
              "    [theme=dark] .colab-df-convert:hover {\n",
              "      background-color: #434B5C;\n",
              "      box-shadow: 0px 1px 3px 1px rgba(0, 0, 0, 0.15);\n",
              "      filter: drop-shadow(0px 1px 2px rgba(0, 0, 0, 0.3));\n",
              "      fill: #FFFFFF;\n",
              "    }\n",
              "  </style>\n",
              "\n",
              "      <script>\n",
              "        const buttonEl =\n",
              "          document.querySelector('#df-36d9dcfb-264c-42c2-88f8-2087bf730f52 button.colab-df-convert');\n",
              "        buttonEl.style.display =\n",
              "          google.colab.kernel.accessAllowed ? 'block' : 'none';\n",
              "\n",
              "        async function convertToInteractive(key) {\n",
              "          const element = document.querySelector('#df-36d9dcfb-264c-42c2-88f8-2087bf730f52');\n",
              "          const dataTable =\n",
              "            await google.colab.kernel.invokeFunction('convertToInteractive',\n",
              "                                                     [key], {});\n",
              "          if (!dataTable) return;\n",
              "\n",
              "          const docLinkHtml = 'Like what you see? Visit the ' +\n",
              "            '<a target=\"_blank\" href=https://colab.research.google.com/notebooks/data_table.ipynb>data table notebook</a>'\n",
              "            + ' to learn more about interactive tables.';\n",
              "          element.innerHTML = '';\n",
              "          dataTable['output_type'] = 'display_data';\n",
              "          await google.colab.output.renderOutput(dataTable, element);\n",
              "          const docLink = document.createElement('div');\n",
              "          docLink.innerHTML = docLinkHtml;\n",
              "          element.appendChild(docLink);\n",
              "        }\n",
              "      </script>\n",
              "    </div>\n",
              "  </div>\n",
              "  "
            ]
          },
          "metadata": {},
          "execution_count": 50
        }
      ],
      "source": [
        "data"
      ]
    },
    {
      "cell_type": "code",
      "execution_count": 51,
      "metadata": {
        "id": "Ptpfe3pq2vTF"
      },
      "outputs": [],
      "source": [
        "y = data['totalRent']\n",
        "x = data.drop(columns = ['totalRent'])"
      ]
    },
    {
      "cell_type": "code",
      "execution_count": 52,
      "metadata": {
        "colab": {
          "base_uri": "https://localhost:8080/"
        },
        "id": "CiArUVz62vTF",
        "outputId": "5629bcf5-91c9-49b1-ec1f-0592223bcfef"
      },
      "outputs": [
        {
          "output_type": "stream",
          "name": "stdout",
          "text": [
            "(221557, 52)\n",
            "(221557,)\n"
          ]
        }
      ],
      "source": [
        "print(x.shape)\n",
        "print(y.shape)"
      ]
    },
    {
      "cell_type": "code",
      "execution_count": 53,
      "metadata": {
        "id": "_GQHLWfF2vTF"
      },
      "outputs": [],
      "source": [
        "x_train, x_test, y_train, y_test = train_test_split(x, y, test_size=0.1, random_state=42)"
      ]
    },
    {
      "cell_type": "code",
      "execution_count": 54,
      "metadata": {
        "colab": {
          "base_uri": "https://localhost:8080/"
        },
        "id": "lP1Q9AfS2vTF",
        "outputId": "c208683c-3d15-41e6-9146-3cecfa0541da"
      },
      "outputs": [
        {
          "output_type": "execute_result",
          "data": {
            "text/plain": [
              "StandardScaler()"
            ]
          },
          "metadata": {},
          "execution_count": 54
        }
      ],
      "source": [
        "scaler = StandardScaler()\n",
        "scaler.fit(x_train)"
      ]
    },
    {
      "cell_type": "code",
      "execution_count": 55,
      "metadata": {
        "id": "j7ApI7FE2vTF"
      },
      "outputs": [],
      "source": [
        "x_train = scaler.transform(x_train)\n",
        "x_test = scaler.transform(x_test)"
      ]
    },
    {
      "cell_type": "code",
      "execution_count": 56,
      "metadata": {
        "id": "PxwsxdfB2vTF"
      },
      "outputs": [],
      "source": [
        "pca = PCA(0.80)\n",
        "x_train_pca = pca.fit_transform(x_train)\n",
        "x_test_pca = pca.transform(x_test)"
      ]
    },
    {
      "cell_type": "code",
      "execution_count": 57,
      "metadata": {
        "colab": {
          "base_uri": "https://localhost:8080/"
        },
        "id": "dpHGgOcS2vTF",
        "outputId": "4b34bee5-918b-45d1-ab87-6400f9a49909"
      },
      "outputs": [
        {
          "output_type": "stream",
          "name": "stdout",
          "text": [
            "(199401, 28)\n",
            "(22156, 28)\n"
          ]
        }
      ],
      "source": [
        "print(x_train_pca.shape)\n",
        "print(x_test_pca.shape)"
      ]
    },
    {
      "cell_type": "code",
      "execution_count": 58,
      "metadata": {
        "id": "Ef2CJsh22vTF"
      },
      "outputs": [],
      "source": [
        "lr = LinearRegression()"
      ]
    },
    {
      "cell_type": "markdown",
      "source": [
        "I will normalize the target values in a way that they reside in the range(0,1) [link](https://stats.stackexchange.com/questions/70801/how-to-normalize-data-to-0-1-range). I will use min and max values from training targets to normalize test targets, since we don't know how they look like in real life."
      ],
      "metadata": {
        "id": "m0Gg1JkS9Fy-"
      }
    },
    {
      "cell_type": "code",
      "source": [
        "y_train = np.array(y_train)\n",
        "y_min = y_train.min()\n",
        "y_max = y_train.max()\n",
        "Y_train = (y_train - y_min) / (y_max - y_min)\n",
        "Y_test = (y_test - y_min) / (y_max - y_min)"
      ],
      "metadata": {
        "id": "XvFvm-sE632q"
      },
      "execution_count": 59,
      "outputs": []
    },
    {
      "cell_type": "code",
      "execution_count": 60,
      "metadata": {
        "colab": {
          "base_uri": "https://localhost:8080/"
        },
        "id": "3UCGX6o12vTF",
        "outputId": "62e0545a-1668-42b5-9783-63f4d1d620bf"
      },
      "outputs": [
        {
          "output_type": "execute_result",
          "data": {
            "text/plain": [
              "LinearRegression()"
            ]
          },
          "metadata": {},
          "execution_count": 60
        }
      ],
      "source": [
        "lr.fit(x_train_pca, Y_train)"
      ]
    },
    {
      "cell_type": "code",
      "execution_count": 61,
      "metadata": {
        "colab": {
          "base_uri": "https://localhost:8080/"
        },
        "id": "rPolatYc2vTG",
        "outputId": "7ac8a037-c3ca-4eab-bf70-d36b95818ee7"
      },
      "outputs": [
        {
          "output_type": "execute_result",
          "data": {
            "text/plain": [
              "0.002946634894696876"
            ]
          },
          "metadata": {},
          "execution_count": 61
        }
      ],
      "source": [
        "y_predicted = lr.predict(x_test_pca)\n",
        "mean_squared_error(y_predicted, Y_test)"
      ]
    },
    {
      "cell_type": "markdown",
      "source": [
        "## 4.Multiprocessing"
      ],
      "metadata": {
        "id": "ihunRBghfJx1"
      }
    },
    {
      "cell_type": "code",
      "source": [
        "def outlier_delete(col_name, dataframe=DF):\n",
        "  if dataframe[col_name].dtype == 'int64' or dataframe[col_name].dtype == 'float64':\n",
        "    upper_range = dataframe[col_name].mean() + 3 * dataframe[col_name].std()\n",
        "    lower_range = dataframe[col_name].mean() - 3 * dataframe[col_name].std()         \n",
        "    indexs = dataframe[(dataframe[col_name] > upper_range) | (dataframe[col_name] < lower_range)].index\n",
        "    dataframe.drop(indexs)"
      ],
      "metadata": {
        "id": "nPA504ul6jSy"
      },
      "execution_count": 62,
      "outputs": []
    },
    {
      "cell_type": "code",
      "source": [
        "s_time = time.time()\n",
        "for col in COLS:\n",
        "  outlier_delete(col)\n",
        "print(f'Elapsed time: {time.time()-s_time}s.')"
      ],
      "metadata": {
        "colab": {
          "base_uri": "https://localhost:8080/"
        },
        "id": "pjLrn340fQrU",
        "outputId": "e88e9727-2e14-496c-a96d-1c8da3ace231"
      },
      "execution_count": 63,
      "outputs": [
        {
          "output_type": "stream",
          "name": "stdout",
          "text": [
            "Elapsed time: 3.296907424926758s.\n"
          ]
        }
      ]
    },
    {
      "cell_type": "code",
      "source": [
        "s_time = time.time()\n",
        "with Pool(cpu_count()) as p:\n",
        "  p.imap(outlier_delete, COLS)\n",
        "print(f'Elapsed time: {time.time()-s_time}s.')"
      ],
      "metadata": {
        "colab": {
          "base_uri": "https://localhost:8080/"
        },
        "id": "0yJE2zLyfVzh",
        "outputId": "b055fcda-bb8d-40e8-aa89-540f479f56c7"
      },
      "execution_count": 64,
      "outputs": [
        {
          "output_type": "stream",
          "name": "stdout",
          "text": [
            "Elapsed time: 0.2060871124267578s.\n"
          ]
        }
      ]
    },
    {
      "cell_type": "code",
      "source": [
        "def fill_na(col_name, dataframe=DF):\n",
        "    if dataframe[col_name].dtype == 'object' or dataframe[col_name].dtype == 'bool':\n",
        "      dataframe[col_name].fillna(dataframe[col_name].value_counts().head(1).index[0])\n",
        "    elif dataframe[col_name].dtype == 'int64' or dataframe[col_name].dtype == 'float64':\n",
        "      dataframe[col_name].fillna(dataframe[col_name].mean())"
      ],
      "metadata": {
        "id": "2AXCNNbkfrAh"
      },
      "execution_count": 65,
      "outputs": []
    },
    {
      "cell_type": "code",
      "source": [
        "s_time = time.time()\n",
        "for col in COLS:\n",
        "  fill_na(col)\n",
        "print(f'Elapsed time: {time.time()-s_time}s.')"
      ],
      "metadata": {
        "colab": {
          "base_uri": "https://localhost:8080/"
        },
        "id": "-BwcJyMni6qB",
        "outputId": "dfa3b124-e2ec-463a-8f1b-1e7748c6c3e8"
      },
      "execution_count": 66,
      "outputs": [
        {
          "output_type": "stream",
          "name": "stdout",
          "text": [
            "Elapsed time: 3.3570950031280518s.\n"
          ]
        }
      ]
    },
    {
      "cell_type": "code",
      "source": [
        "s_time = time.time()\n",
        "with Pool(cpu_count()) as p:\n",
        "  p.imap(fill_na, COLS)\n",
        "print(f'Elapsed time: {time.time()-s_time}s.')"
      ],
      "metadata": {
        "colab": {
          "base_uri": "https://localhost:8080/"
        },
        "id": "MtHlkrM9i6sK",
        "outputId": "bcbf3e85-0d0a-4d95-d805-0f0372fe6a82"
      },
      "execution_count": 67,
      "outputs": [
        {
          "output_type": "stream",
          "name": "stdout",
          "text": [
            "Elapsed time: 0.20204472541809082s.\n"
          ]
        }
      ]
    },
    {
      "cell_type": "markdown",
      "source": [
        "## 5. Dask"
      ],
      "metadata": {
        "id": "UPF58D_50Bth"
      }
    },
    {
      "cell_type": "code",
      "source": [
        "ddf = dd.from_pandas(DF, npartitions=1)"
      ],
      "metadata": {
        "id": "Do2xNo6GwK7H"
      },
      "execution_count": 68,
      "outputs": []
    },
    {
      "cell_type": "code",
      "source": [
        "%%time\n",
        "monthly_total = ddf.groupby(['regio1'])['totalRent'].mean().compute()"
      ],
      "metadata": {
        "colab": {
          "base_uri": "https://localhost:8080/"
        },
        "id": "GY0d2_kir-r8",
        "outputId": "91a4454e-92e7-4e72-f062-934273ef10e2"
      },
      "execution_count": 69,
      "outputs": [
        {
          "output_type": "stream",
          "name": "stdout",
          "text": [
            "CPU times: user 117 ms, sys: 4.8 ms, total: 122 ms\n",
            "Wall time: 167 ms\n"
          ]
        }
      ]
    },
    {
      "cell_type": "code",
      "source": [
        "%%time\n",
        "monthly_total = ddf.groupby(['regio1'])['totalRent'].mean()"
      ],
      "metadata": {
        "colab": {
          "base_uri": "https://localhost:8080/"
        },
        "id": "_scutmcN0uN7",
        "outputId": "6229a836-bfe5-46ff-fbba-0263d1c7ba19"
      },
      "execution_count": 70,
      "outputs": [
        {
          "output_type": "stream",
          "name": "stdout",
          "text": [
            "CPU times: user 33 ms, sys: 81 µs, total: 33.1 ms\n",
            "Wall time: 67 ms\n"
          ]
        }
      ]
    },
    {
      "cell_type": "code",
      "source": [
        "%%time\n",
        "monthly_total = DF.groupby(['regio1'])['totalRent'].mean()"
      ],
      "metadata": {
        "colab": {
          "base_uri": "https://localhost:8080/"
        },
        "id": "p4SVPJSYstqJ",
        "outputId": "fcb9a266-393a-463b-d019-ace0bbaf07e3"
      },
      "execution_count": 71,
      "outputs": [
        {
          "output_type": "stream",
          "name": "stdout",
          "text": [
            "CPU times: user 34.9 ms, sys: 1.72 ms, total: 36.6 ms\n",
            "Wall time: 50.8 ms\n"
          ]
        }
      ]
    },
    {
      "cell_type": "markdown",
      "source": [
        "Why this happened? Dask documentation under [Best Practices](https://docs.dask.org/en/stable/dataframe-best-practices.html) suggests that:\n",
        "\n",
        "For data that fits into RAM, Pandas can often be faster and easier to use than Dask DataFrame. "
      ],
      "metadata": {
        "id": "efpg7gz70d8z"
      }
    },
    {
      "cell_type": "code",
      "source": [
        "ddf = dd.from_pandas(DF, npartitions=2)"
      ],
      "metadata": {
        "id": "n-kuth4YxAW7"
      },
      "execution_count": 72,
      "outputs": []
    },
    {
      "cell_type": "code",
      "source": [
        "def outlier_delete_whole(dataframe):\n",
        "  for col_name in dataframe.columns:\n",
        "    if dataframe[col_name].dtype == 'int64' or dataframe[col_name].dtype == 'float64':\n",
        "      upper_range = dataframe[col_name].mean() + 3 * dataframe[col_name].std()\n",
        "      lower_range = dataframe[col_name].mean() - 3 * dataframe[col_name].std()         \n",
        "      indexs = dataframe[(dataframe[col_name] > upper_range) | (dataframe[col_name] < lower_range)].index\n",
        "      dataframe.drop(indexs)"
      ],
      "metadata": {
        "id": "NLe1t7kD1VwZ"
      },
      "execution_count": 73,
      "outputs": []
    },
    {
      "cell_type": "code",
      "source": [
        "s_time = time.time()\n",
        "outlier_delete_whole(DF)\n",
        "print(f'Elapsed time: {time.time()-s_time}s.')"
      ],
      "metadata": {
        "colab": {
          "base_uri": "https://localhost:8080/"
        },
        "id": "FLuPS1sy2BpI",
        "outputId": "6ac5c729-c2d2-46f8-8b3f-d9fd3ca19ccb"
      },
      "execution_count": 74,
      "outputs": [
        {
          "output_type": "stream",
          "name": "stdout",
          "text": [
            "Elapsed time: 5.5979719161987305s.\n"
          ]
        }
      ]
    },
    {
      "cell_type": "code",
      "source": [
        "s_time = time.time()\n",
        "with Pool(cpu_count()) as p:\n",
        "  p.imap(outlier_delete_whole, [ddf.partitions[0], ddf.partitions[1]])\n",
        "print(f'Elapsed time: {time.time()-s_time}s.')"
      ],
      "metadata": {
        "colab": {
          "base_uri": "https://localhost:8080/"
        },
        "id": "TaVSBjip10fU",
        "outputId": "bb5865bc-8638-44c9-a3b2-85d42c7b440a"
      },
      "execution_count": 75,
      "outputs": [
        {
          "output_type": "stream",
          "name": "stdout",
          "text": [
            "Elapsed time: 0.22002625465393066s.\n"
          ]
        }
      ]
    },
    {
      "cell_type": "code",
      "source": [
        ""
      ],
      "metadata": {
        "id": "UzkOwmE914o7"
      },
      "execution_count": 75,
      "outputs": []
    }
  ],
  "metadata": {
    "interpreter": {
      "hash": "1baa965d5efe3ac65b79dfc60c0d706280b1da80fedb7760faf2759126c4f253"
    },
    "kernelspec": {
      "display_name": "Python 3.8.10 64-bit",
      "language": "python",
      "name": "python3"
    },
    "language_info": {
      "codemirror_mode": {
        "name": "ipython",
        "version": 3
      },
      "file_extension": ".py",
      "mimetype": "text/x-python",
      "name": "python",
      "nbconvert_exporter": "python",
      "pygments_lexer": "ipython3",
      "version": "3.8.10"
    },
    "orig_nbformat": 4,
    "colab": {
      "name": "Apartment.ipynb",
      "provenance": [],
      "collapsed_sections": []
    }
  },
  "nbformat": 4,
  "nbformat_minor": 0
}