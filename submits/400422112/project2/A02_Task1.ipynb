{
  "cells": [
    {
      "cell_type": "code",
      "execution_count": 1,
      "metadata": {
        "id": "mUAkRj3nTsUm"
      },
      "outputs": [],
      "source": [
        "import matplotlib.pyplot as plt\n",
        "import seaborn as sns\n",
        "import pandas as pd\n",
        "import numpy as np\n",
        "from tqdm import tqdm\n",
        "\n",
        "from sklearn.model_selection import train_test_split, GridSearchCV, cross_validate, cross_val_score\n",
        "from sklearn.preprocessing import StandardScaler\n",
        "from sklearn.linear_model import LogisticRegression\n",
        "from sklearn.metrics import classification_report, roc_auc_score\n",
        "from sklearn.ensemble import RandomForestClassifier\n",
        "from sklearn.utils import shuffle\n",
        "from sklearn.decomposition import PCA\n",
        "from sklearn.svm import SVC\n",
        "from sklearn.pipeline import make_pipeline, Pipeline\n",
        "from sklearn.tree import DecisionTreeClassifier\n",
        "from sklearn.preprocessing import PowerTransformer"
      ]
    },
    {
      "cell_type": "markdown",
      "metadata": {},
      "source": [
        "### Ali Shiraee - 400422112"
      ]
    },
    {
      "cell_type": "code",
      "execution_count": 2,
      "metadata": {
        "id": "IonBcxfRgR8-"
      },
      "outputs": [],
      "source": [
        "# os.chdir('drive/MyDrive/Datasets/DM-A02')"
      ]
    },
    {
      "cell_type": "markdown",
      "metadata": {
        "id": "ZdOwLQbygXum"
      },
      "source": [
        "## Loading the data"
      ]
    },
    {
      "cell_type": "code",
      "execution_count": 3,
      "metadata": {
        "id": "fo1fkJrYgVj8"
      },
      "outputs": [],
      "source": [
        "train = pd.read_csv('mobile/train.csv')\n",
        "test = pd.read_csv('mobile/test.csv')"
      ]
    },
    {
      "cell_type": "code",
      "execution_count": 4,
      "metadata": {
        "colab": {
          "base_uri": "https://localhost:8080/"
        },
        "id": "4bD0StsW77Sk",
        "outputId": "09a48c50-49bd-4e07-fc3f-7ffd1e5a1205"
      },
      "outputs": [
        {
          "name": "stdout",
          "output_type": "stream",
          "text": [
            "<class 'pandas.core.frame.DataFrame'>\n",
            "RangeIndex: 2000 entries, 0 to 1999\n",
            "Data columns (total 21 columns):\n",
            " #   Column         Non-Null Count  Dtype  \n",
            "---  ------         --------------  -----  \n",
            " 0   battery_power  2000 non-null   int64  \n",
            " 1   blue           2000 non-null   int64  \n",
            " 2   clock_speed    2000 non-null   float64\n",
            " 3   dual_sim       2000 non-null   int64  \n",
            " 4   fc             2000 non-null   int64  \n",
            " 5   four_g         2000 non-null   int64  \n",
            " 6   int_memory     2000 non-null   int64  \n",
            " 7   m_dep          2000 non-null   float64\n",
            " 8   mobile_wt      2000 non-null   int64  \n",
            " 9   n_cores        2000 non-null   int64  \n",
            " 10  pc             2000 non-null   int64  \n",
            " 11  px_height      2000 non-null   int64  \n",
            " 12  px_width       2000 non-null   int64  \n",
            " 13  ram            2000 non-null   int64  \n",
            " 14  sc_h           2000 non-null   int64  \n",
            " 15  sc_w           2000 non-null   int64  \n",
            " 16  talk_time      2000 non-null   int64  \n",
            " 17  three_g        2000 non-null   int64  \n",
            " 18  touch_screen   2000 non-null   int64  \n",
            " 19  wifi           2000 non-null   int64  \n",
            " 20  price_range    2000 non-null   int64  \n",
            "dtypes: float64(2), int64(19)\n",
            "memory usage: 328.2 KB\n"
          ]
        }
      ],
      "source": [
        "train.info()"
      ]
    },
    {
      "cell_type": "code",
      "execution_count": 5,
      "metadata": {
        "colab": {
          "base_uri": "https://localhost:8080/",
          "height": 299
        },
        "id": "C_d3GUKFtGmY",
        "outputId": "a56e3451-0571-47f4-8305-942cc74796c2"
      },
      "outputs": [
        {
          "data": {
            "text/html": [
              "<div>\n",
              "<style scoped>\n",
              "    .dataframe tbody tr th:only-of-type {\n",
              "        vertical-align: middle;\n",
              "    }\n",
              "\n",
              "    .dataframe tbody tr th {\n",
              "        vertical-align: top;\n",
              "    }\n",
              "\n",
              "    .dataframe thead th {\n",
              "        text-align: right;\n",
              "    }\n",
              "</style>\n",
              "<table border=\"1\" class=\"dataframe\">\n",
              "  <thead>\n",
              "    <tr style=\"text-align: right;\">\n",
              "      <th></th>\n",
              "      <th>battery_power</th>\n",
              "      <th>blue</th>\n",
              "      <th>clock_speed</th>\n",
              "      <th>dual_sim</th>\n",
              "      <th>fc</th>\n",
              "      <th>four_g</th>\n",
              "      <th>int_memory</th>\n",
              "      <th>m_dep</th>\n",
              "      <th>mobile_wt</th>\n",
              "      <th>n_cores</th>\n",
              "      <th>...</th>\n",
              "      <th>px_height</th>\n",
              "      <th>px_width</th>\n",
              "      <th>ram</th>\n",
              "      <th>sc_h</th>\n",
              "      <th>sc_w</th>\n",
              "      <th>talk_time</th>\n",
              "      <th>three_g</th>\n",
              "      <th>touch_screen</th>\n",
              "      <th>wifi</th>\n",
              "      <th>price_range</th>\n",
              "    </tr>\n",
              "  </thead>\n",
              "  <tbody>\n",
              "    <tr>\n",
              "      <th>0</th>\n",
              "      <td>842</td>\n",
              "      <td>0</td>\n",
              "      <td>2.2</td>\n",
              "      <td>0</td>\n",
              "      <td>1</td>\n",
              "      <td>0</td>\n",
              "      <td>7</td>\n",
              "      <td>0.6</td>\n",
              "      <td>188</td>\n",
              "      <td>2</td>\n",
              "      <td>...</td>\n",
              "      <td>20</td>\n",
              "      <td>756</td>\n",
              "      <td>2549</td>\n",
              "      <td>9</td>\n",
              "      <td>7</td>\n",
              "      <td>19</td>\n",
              "      <td>0</td>\n",
              "      <td>0</td>\n",
              "      <td>1</td>\n",
              "      <td>1</td>\n",
              "    </tr>\n",
              "    <tr>\n",
              "      <th>1</th>\n",
              "      <td>1021</td>\n",
              "      <td>1</td>\n",
              "      <td>0.5</td>\n",
              "      <td>1</td>\n",
              "      <td>0</td>\n",
              "      <td>1</td>\n",
              "      <td>53</td>\n",
              "      <td>0.7</td>\n",
              "      <td>136</td>\n",
              "      <td>3</td>\n",
              "      <td>...</td>\n",
              "      <td>905</td>\n",
              "      <td>1988</td>\n",
              "      <td>2631</td>\n",
              "      <td>17</td>\n",
              "      <td>3</td>\n",
              "      <td>7</td>\n",
              "      <td>1</td>\n",
              "      <td>1</td>\n",
              "      <td>0</td>\n",
              "      <td>2</td>\n",
              "    </tr>\n",
              "    <tr>\n",
              "      <th>2</th>\n",
              "      <td>563</td>\n",
              "      <td>1</td>\n",
              "      <td>0.5</td>\n",
              "      <td>1</td>\n",
              "      <td>2</td>\n",
              "      <td>1</td>\n",
              "      <td>41</td>\n",
              "      <td>0.9</td>\n",
              "      <td>145</td>\n",
              "      <td>5</td>\n",
              "      <td>...</td>\n",
              "      <td>1263</td>\n",
              "      <td>1716</td>\n",
              "      <td>2603</td>\n",
              "      <td>11</td>\n",
              "      <td>2</td>\n",
              "      <td>9</td>\n",
              "      <td>1</td>\n",
              "      <td>1</td>\n",
              "      <td>0</td>\n",
              "      <td>2</td>\n",
              "    </tr>\n",
              "    <tr>\n",
              "      <th>3</th>\n",
              "      <td>615</td>\n",
              "      <td>1</td>\n",
              "      <td>2.5</td>\n",
              "      <td>0</td>\n",
              "      <td>0</td>\n",
              "      <td>0</td>\n",
              "      <td>10</td>\n",
              "      <td>0.8</td>\n",
              "      <td>131</td>\n",
              "      <td>6</td>\n",
              "      <td>...</td>\n",
              "      <td>1216</td>\n",
              "      <td>1786</td>\n",
              "      <td>2769</td>\n",
              "      <td>16</td>\n",
              "      <td>8</td>\n",
              "      <td>11</td>\n",
              "      <td>1</td>\n",
              "      <td>0</td>\n",
              "      <td>0</td>\n",
              "      <td>2</td>\n",
              "    </tr>\n",
              "    <tr>\n",
              "      <th>4</th>\n",
              "      <td>1821</td>\n",
              "      <td>1</td>\n",
              "      <td>1.2</td>\n",
              "      <td>0</td>\n",
              "      <td>13</td>\n",
              "      <td>1</td>\n",
              "      <td>44</td>\n",
              "      <td>0.6</td>\n",
              "      <td>141</td>\n",
              "      <td>2</td>\n",
              "      <td>...</td>\n",
              "      <td>1208</td>\n",
              "      <td>1212</td>\n",
              "      <td>1411</td>\n",
              "      <td>8</td>\n",
              "      <td>2</td>\n",
              "      <td>15</td>\n",
              "      <td>1</td>\n",
              "      <td>1</td>\n",
              "      <td>0</td>\n",
              "      <td>1</td>\n",
              "    </tr>\n",
              "  </tbody>\n",
              "</table>\n",
              "<p>5 rows × 21 columns</p>\n",
              "</div>"
            ],
            "text/plain": [
              "   battery_power  blue  clock_speed  dual_sim  fc  four_g  int_memory  m_dep  \\\n",
              "0            842     0          2.2         0   1       0           7    0.6   \n",
              "1           1021     1          0.5         1   0       1          53    0.7   \n",
              "2            563     1          0.5         1   2       1          41    0.9   \n",
              "3            615     1          2.5         0   0       0          10    0.8   \n",
              "4           1821     1          1.2         0  13       1          44    0.6   \n",
              "\n",
              "   mobile_wt  n_cores  ...  px_height  px_width   ram  sc_h  sc_w  talk_time  \\\n",
              "0        188        2  ...         20       756  2549     9     7         19   \n",
              "1        136        3  ...        905      1988  2631    17     3          7   \n",
              "2        145        5  ...       1263      1716  2603    11     2          9   \n",
              "3        131        6  ...       1216      1786  2769    16     8         11   \n",
              "4        141        2  ...       1208      1212  1411     8     2         15   \n",
              "\n",
              "   three_g  touch_screen  wifi  price_range  \n",
              "0        0             0     1            1  \n",
              "1        1             1     0            2  \n",
              "2        1             1     0            2  \n",
              "3        1             0     0            2  \n",
              "4        1             1     0            1  \n",
              "\n",
              "[5 rows x 21 columns]"
            ]
          },
          "execution_count": 5,
          "metadata": {},
          "output_type": "execute_result"
        }
      ],
      "source": [
        "train.head()"
      ]
    },
    {
      "cell_type": "code",
      "execution_count": 6,
      "metadata": {
        "colab": {
          "base_uri": "https://localhost:8080/",
          "height": 206
        },
        "id": "pIUlFzau7O85",
        "outputId": "d3931a4e-a9bb-479b-eb00-4e31ecc1885e"
      },
      "outputs": [
        {
          "data": {
            "text/html": [
              "<div>\n",
              "<style scoped>\n",
              "    .dataframe tbody tr th:only-of-type {\n",
              "        vertical-align: middle;\n",
              "    }\n",
              "\n",
              "    .dataframe tbody tr th {\n",
              "        vertical-align: top;\n",
              "    }\n",
              "\n",
              "    .dataframe thead th {\n",
              "        text-align: right;\n",
              "    }\n",
              "</style>\n",
              "<table border=\"1\" class=\"dataframe\">\n",
              "  <thead>\n",
              "    <tr style=\"text-align: right;\">\n",
              "      <th></th>\n",
              "      <th>id</th>\n",
              "      <th>battery_power</th>\n",
              "      <th>blue</th>\n",
              "      <th>clock_speed</th>\n",
              "      <th>dual_sim</th>\n",
              "      <th>fc</th>\n",
              "      <th>four_g</th>\n",
              "      <th>int_memory</th>\n",
              "      <th>m_dep</th>\n",
              "      <th>mobile_wt</th>\n",
              "      <th>...</th>\n",
              "      <th>pc</th>\n",
              "      <th>px_height</th>\n",
              "      <th>px_width</th>\n",
              "      <th>ram</th>\n",
              "      <th>sc_h</th>\n",
              "      <th>sc_w</th>\n",
              "      <th>talk_time</th>\n",
              "      <th>three_g</th>\n",
              "      <th>touch_screen</th>\n",
              "      <th>wifi</th>\n",
              "    </tr>\n",
              "  </thead>\n",
              "  <tbody>\n",
              "    <tr>\n",
              "      <th>0</th>\n",
              "      <td>1</td>\n",
              "      <td>1043</td>\n",
              "      <td>1</td>\n",
              "      <td>1.8</td>\n",
              "      <td>1</td>\n",
              "      <td>14</td>\n",
              "      <td>0</td>\n",
              "      <td>5</td>\n",
              "      <td>0.1</td>\n",
              "      <td>193</td>\n",
              "      <td>...</td>\n",
              "      <td>16</td>\n",
              "      <td>226</td>\n",
              "      <td>1412</td>\n",
              "      <td>3476</td>\n",
              "      <td>12</td>\n",
              "      <td>7</td>\n",
              "      <td>2</td>\n",
              "      <td>0</td>\n",
              "      <td>1</td>\n",
              "      <td>0</td>\n",
              "    </tr>\n",
              "    <tr>\n",
              "      <th>1</th>\n",
              "      <td>2</td>\n",
              "      <td>841</td>\n",
              "      <td>1</td>\n",
              "      <td>0.5</td>\n",
              "      <td>1</td>\n",
              "      <td>4</td>\n",
              "      <td>1</td>\n",
              "      <td>61</td>\n",
              "      <td>0.8</td>\n",
              "      <td>191</td>\n",
              "      <td>...</td>\n",
              "      <td>12</td>\n",
              "      <td>746</td>\n",
              "      <td>857</td>\n",
              "      <td>3895</td>\n",
              "      <td>6</td>\n",
              "      <td>0</td>\n",
              "      <td>7</td>\n",
              "      <td>1</td>\n",
              "      <td>0</td>\n",
              "      <td>0</td>\n",
              "    </tr>\n",
              "    <tr>\n",
              "      <th>2</th>\n",
              "      <td>3</td>\n",
              "      <td>1807</td>\n",
              "      <td>1</td>\n",
              "      <td>2.8</td>\n",
              "      <td>0</td>\n",
              "      <td>1</td>\n",
              "      <td>0</td>\n",
              "      <td>27</td>\n",
              "      <td>0.9</td>\n",
              "      <td>186</td>\n",
              "      <td>...</td>\n",
              "      <td>4</td>\n",
              "      <td>1270</td>\n",
              "      <td>1366</td>\n",
              "      <td>2396</td>\n",
              "      <td>17</td>\n",
              "      <td>10</td>\n",
              "      <td>10</td>\n",
              "      <td>0</td>\n",
              "      <td>1</td>\n",
              "      <td>1</td>\n",
              "    </tr>\n",
              "    <tr>\n",
              "      <th>3</th>\n",
              "      <td>4</td>\n",
              "      <td>1546</td>\n",
              "      <td>0</td>\n",
              "      <td>0.5</td>\n",
              "      <td>1</td>\n",
              "      <td>18</td>\n",
              "      <td>1</td>\n",
              "      <td>25</td>\n",
              "      <td>0.5</td>\n",
              "      <td>96</td>\n",
              "      <td>...</td>\n",
              "      <td>20</td>\n",
              "      <td>295</td>\n",
              "      <td>1752</td>\n",
              "      <td>3893</td>\n",
              "      <td>10</td>\n",
              "      <td>0</td>\n",
              "      <td>7</td>\n",
              "      <td>1</td>\n",
              "      <td>1</td>\n",
              "      <td>0</td>\n",
              "    </tr>\n",
              "    <tr>\n",
              "      <th>4</th>\n",
              "      <td>5</td>\n",
              "      <td>1434</td>\n",
              "      <td>0</td>\n",
              "      <td>1.4</td>\n",
              "      <td>0</td>\n",
              "      <td>11</td>\n",
              "      <td>1</td>\n",
              "      <td>49</td>\n",
              "      <td>0.5</td>\n",
              "      <td>108</td>\n",
              "      <td>...</td>\n",
              "      <td>18</td>\n",
              "      <td>749</td>\n",
              "      <td>810</td>\n",
              "      <td>1773</td>\n",
              "      <td>15</td>\n",
              "      <td>8</td>\n",
              "      <td>7</td>\n",
              "      <td>1</td>\n",
              "      <td>0</td>\n",
              "      <td>1</td>\n",
              "    </tr>\n",
              "  </tbody>\n",
              "</table>\n",
              "<p>5 rows × 21 columns</p>\n",
              "</div>"
            ],
            "text/plain": [
              "   id  battery_power  blue  clock_speed  dual_sim  fc  four_g  int_memory  \\\n",
              "0   1           1043     1          1.8         1  14       0           5   \n",
              "1   2            841     1          0.5         1   4       1          61   \n",
              "2   3           1807     1          2.8         0   1       0          27   \n",
              "3   4           1546     0          0.5         1  18       1          25   \n",
              "4   5           1434     0          1.4         0  11       1          49   \n",
              "\n",
              "   m_dep  mobile_wt  ...  pc  px_height  px_width   ram  sc_h  sc_w  \\\n",
              "0    0.1        193  ...  16        226      1412  3476    12     7   \n",
              "1    0.8        191  ...  12        746       857  3895     6     0   \n",
              "2    0.9        186  ...   4       1270      1366  2396    17    10   \n",
              "3    0.5         96  ...  20        295      1752  3893    10     0   \n",
              "4    0.5        108  ...  18        749       810  1773    15     8   \n",
              "\n",
              "   talk_time  three_g  touch_screen  wifi  \n",
              "0          2        0             1     0  \n",
              "1          7        1             0     0  \n",
              "2         10        0             1     1  \n",
              "3          7        1             1     0  \n",
              "4          7        1             0     1  \n",
              "\n",
              "[5 rows x 21 columns]"
            ]
          },
          "execution_count": 6,
          "metadata": {},
          "output_type": "execute_result"
        }
      ],
      "source": [
        "test.head()"
      ]
    },
    {
      "cell_type": "code",
      "execution_count": 7,
      "metadata": {
        "id": "QkWcfzwT7Slt"
      },
      "outputs": [],
      "source": [
        "test.drop(columns='id', inplace=True)"
      ]
    },
    {
      "cell_type": "markdown",
      "metadata": {
        "id": "DNQJJD7P7tcc"
      },
      "source": [
        "Let's check null values for two dataframes:"
      ]
    },
    {
      "cell_type": "code",
      "execution_count": 8,
      "metadata": {
        "colab": {
          "base_uri": "https://localhost:8080/"
        },
        "id": "er8keEoetYhD",
        "outputId": "b08e52b0-bf79-486f-d092-06d645cec942"
      },
      "outputs": [
        {
          "name": "stdout",
          "output_type": "stream",
          "text": [
            "There are 0 null values in train set.\n",
            "There are 0 null values in test set.\n"
          ]
        }
      ],
      "source": [
        "print(f'There are {train.isna().sum().sum()} null values in train set.')\n",
        "print(f'There are {test.isna().sum().sum()} null values in test set.')"
      ]
    },
    {
      "cell_type": "code",
      "execution_count": 9,
      "metadata": {},
      "outputs": [
        {
          "data": {
            "text/plain": [
              "1    500\n",
              "2    500\n",
              "3    500\n",
              "0    500\n",
              "Name: price_range, dtype: int64"
            ]
          },
          "execution_count": 9,
          "metadata": {},
          "output_type": "execute_result"
        }
      ],
      "source": [
        "train['price_range'].value_counts()"
      ]
    },
    {
      "cell_type": "code",
      "execution_count": 10,
      "metadata": {},
      "outputs": [],
      "source": [
        "def wrapper(clf, X, y, cv=5, scoring='accuracy', scaler=True):\n",
        "    if scaler:\n",
        "        clf = make_pipeline(StandardScaler(), clf)\n",
        "    scores = cross_val_score(clf, X, y, cv=cv, scoring=scoring)\n",
        "    return scores.mean()"
      ]
    },
    {
      "cell_type": "markdown",
      "metadata": {
        "id": "ceWQ246fD2Ks"
      },
      "source": [
        "## Part 1: Forward Selection"
      ]
    },
    {
      "cell_type": "code",
      "execution_count": 11,
      "metadata": {
        "id": "ZI3xD32L9KOR"
      },
      "outputs": [],
      "source": [
        "def fit_calculate(features, target, test_split):\n",
        "  X_train, X_test, y_train, y_test = train_test_split(features, target, test_size=test_split, random_state=42)\n",
        "  model = LogisticRegression(max_iter=2000)\n",
        "\n",
        "  scaler = StandardScaler()\n",
        "  X_train = scaler.fit_transform(X_train)\n",
        "  X_test = scaler.transform(X_test)\n",
        "\n",
        "  model.fit(X_train, y_train)\n",
        "  y_pred = model.predict_proba(X_test)[:, 1]\n",
        "  return roc_auc_score(y_test, y_pred)"
      ]
    },
    {
      "cell_type": "code",
      "execution_count": 12,
      "metadata": {},
      "outputs": [],
      "source": [
        "def forward_selection(data, test_split):\n",
        "    data = data.copy()\n",
        "    best_auc = 0\n",
        "    best_cols = []\n",
        "    target = data.pop('price_range')\n",
        "    cols = list(data.columns)\n",
        "    for i in tqdm(range(len(cols))):\n",
        "        mi_auc = 0\n",
        "        mi_best_col = ''\n",
        "        for j in cols:\n",
        "            auc_ = fit_calculate(data[best_cols + [j]], target, test_split)\n",
        "            if auc_ > mi_auc:\n",
        "                mi_auc = auc_\n",
        "                mi_best_col = j\n",
        "        if mi_auc > best_auc:\n",
        "            best_auc = mi_auc\n",
        "            cols.remove(mi_best_col)\n",
        "            best_cols.append(mi_best_col)\n",
        "\n",
        "    print(f'Best columns: {best_cols}, Best AUC: {best_auc}')\n",
        "    return best_cols"
      ]
    },
    {
      "cell_type": "code",
      "execution_count": 13,
      "metadata": {},
      "outputs": [],
      "source": [
        "new_train = shuffle(train)\n",
        "new_train['price_range'] = train['price_range'].map({0:0, 1:0, 2:1, 3:1})"
      ]
    },
    {
      "cell_type": "code",
      "execution_count": 14,
      "metadata": {},
      "outputs": [
        {
          "name": "stderr",
          "output_type": "stream",
          "text": [
            "100%|██████████| 20/20 [00:03<00:00,  6.47it/s]"
          ]
        },
        {
          "name": "stdout",
          "output_type": "stream",
          "text": [
            "Best columns: ['ram', 'battery_power', 'px_height', 'fc', 'four_g'], Best AUC: 0.9995980303487086\n"
          ]
        },
        {
          "name": "stderr",
          "output_type": "stream",
          "text": [
            "\n"
          ]
        }
      ],
      "source": [
        "best_cols = forward_selection(new_train, test_split=0.1)"
      ]
    },
    {
      "cell_type": "markdown",
      "metadata": {},
      "source": [
        "## Part 2: Logisitic Regression"
      ]
    },
    {
      "cell_type": "code",
      "execution_count": 15,
      "metadata": {},
      "outputs": [
        {
          "name": "stdout",
          "output_type": "stream",
          "text": [
            "              precision    recall  f1-score   support\n",
            "\n",
            "           0     0.9907    0.9725    0.9815       109\n",
            "           1     0.9677    0.9890    0.9783        91\n",
            "\n",
            "    accuracy                         0.9800       200\n",
            "   macro avg     0.9792    0.9807    0.9799       200\n",
            "weighted avg     0.9802    0.9800    0.9800       200\n",
            "\n"
          ]
        }
      ],
      "source": [
        "X_best = new_train[best_cols]\n",
        "y_best = new_train['price_range']\n",
        "X_train, X_test, y_train, y_test = train_test_split(X_best, y_best, test_size=0.1)\n",
        "\n",
        "scaler = StandardScaler()\n",
        "X_train = scaler.fit_transform(X_train)\n",
        "X_test = scaler.transform(X_test)\n",
        "\n",
        "lr = LogisticRegression(max_iter=2000)\n",
        "lr.fit(X_train, y_train)\n",
        "y_pred = lr.predict(X_test)\n",
        "print(classification_report(y_test, y_pred, digits=4))"
      ]
    },
    {
      "cell_type": "markdown",
      "metadata": {},
      "source": [
        "## Part 3: PCA"
      ]
    },
    {
      "cell_type": "code",
      "execution_count": 16,
      "metadata": {},
      "outputs": [],
      "source": [
        "X = new_train.drop('price_range', axis=1)\n",
        "y = new_train['price_range']\n",
        "X_train, X_test, y_train, y_test = train_test_split(X, y, test_size=0.1)\n",
        "\n",
        "scaler = StandardScaler()\n",
        "X_train = scaler.fit_transform(X_train)\n",
        "X_test = scaler.transform(X_test)\n",
        "\n",
        "pca = PCA(n_components=len(best_cols))\n",
        "X_train_pca = pca.fit_transform(X_train)\n",
        "X_test_pca = pca.transform(X_test)"
      ]
    },
    {
      "cell_type": "code",
      "execution_count": 17,
      "metadata": {},
      "outputs": [
        {
          "data": {
            "text/html": [
              "<div>\n",
              "<style scoped>\n",
              "    .dataframe tbody tr th:only-of-type {\n",
              "        vertical-align: middle;\n",
              "    }\n",
              "\n",
              "    .dataframe tbody tr th {\n",
              "        vertical-align: top;\n",
              "    }\n",
              "\n",
              "    .dataframe thead th {\n",
              "        text-align: right;\n",
              "    }\n",
              "</style>\n",
              "<table border=\"1\" class=\"dataframe\">\n",
              "  <thead>\n",
              "    <tr style=\"text-align: right;\">\n",
              "      <th></th>\n",
              "      <th>0</th>\n",
              "      <th>1</th>\n",
              "      <th>2</th>\n",
              "      <th>3</th>\n",
              "      <th>4</th>\n",
              "    </tr>\n",
              "  </thead>\n",
              "  <tbody>\n",
              "    <tr>\n",
              "      <th>0</th>\n",
              "      <td>1.736574</td>\n",
              "      <td>1.568787</td>\n",
              "      <td>-2.165436</td>\n",
              "      <td>0.311695</td>\n",
              "      <td>-0.333480</td>\n",
              "    </tr>\n",
              "    <tr>\n",
              "      <th>1</th>\n",
              "      <td>-0.243828</td>\n",
              "      <td>2.148172</td>\n",
              "      <td>2.218541</td>\n",
              "      <td>0.027243</td>\n",
              "      <td>0.045252</td>\n",
              "    </tr>\n",
              "    <tr>\n",
              "      <th>2</th>\n",
              "      <td>0.861178</td>\n",
              "      <td>2.015818</td>\n",
              "      <td>0.528037</td>\n",
              "      <td>0.426953</td>\n",
              "      <td>-0.101953</td>\n",
              "    </tr>\n",
              "    <tr>\n",
              "      <th>3</th>\n",
              "      <td>2.076701</td>\n",
              "      <td>-1.463867</td>\n",
              "      <td>2.466416</td>\n",
              "      <td>0.419870</td>\n",
              "      <td>-0.299189</td>\n",
              "    </tr>\n",
              "    <tr>\n",
              "      <th>4</th>\n",
              "      <td>2.003800</td>\n",
              "      <td>-1.782657</td>\n",
              "      <td>0.422702</td>\n",
              "      <td>0.075806</td>\n",
              "      <td>1.426965</td>\n",
              "    </tr>\n",
              "    <tr>\n",
              "      <th>...</th>\n",
              "      <td>...</td>\n",
              "      <td>...</td>\n",
              "      <td>...</td>\n",
              "      <td>...</td>\n",
              "      <td>...</td>\n",
              "    </tr>\n",
              "    <tr>\n",
              "      <th>1795</th>\n",
              "      <td>-0.403540</td>\n",
              "      <td>0.920518</td>\n",
              "      <td>1.008308</td>\n",
              "      <td>-0.131663</td>\n",
              "      <td>0.678649</td>\n",
              "    </tr>\n",
              "    <tr>\n",
              "      <th>1796</th>\n",
              "      <td>0.270281</td>\n",
              "      <td>-0.533947</td>\n",
              "      <td>0.417910</td>\n",
              "      <td>-1.485517</td>\n",
              "      <td>0.892475</td>\n",
              "    </tr>\n",
              "    <tr>\n",
              "      <th>1797</th>\n",
              "      <td>-0.172662</td>\n",
              "      <td>-1.667158</td>\n",
              "      <td>1.216843</td>\n",
              "      <td>-1.694926</td>\n",
              "      <td>-0.875094</td>\n",
              "    </tr>\n",
              "    <tr>\n",
              "      <th>1798</th>\n",
              "      <td>-0.057301</td>\n",
              "      <td>2.609681</td>\n",
              "      <td>0.701766</td>\n",
              "      <td>1.121024</td>\n",
              "      <td>0.282172</td>\n",
              "    </tr>\n",
              "    <tr>\n",
              "      <th>1799</th>\n",
              "      <td>0.274251</td>\n",
              "      <td>1.173887</td>\n",
              "      <td>-1.046723</td>\n",
              "      <td>-2.389521</td>\n",
              "      <td>-0.507328</td>\n",
              "    </tr>\n",
              "  </tbody>\n",
              "</table>\n",
              "<p>1800 rows × 5 columns</p>\n",
              "</div>"
            ],
            "text/plain": [
              "             0         1         2         3         4\n",
              "0     1.736574  1.568787 -2.165436  0.311695 -0.333480\n",
              "1    -0.243828  2.148172  2.218541  0.027243  0.045252\n",
              "2     0.861178  2.015818  0.528037  0.426953 -0.101953\n",
              "3     2.076701 -1.463867  2.466416  0.419870 -0.299189\n",
              "4     2.003800 -1.782657  0.422702  0.075806  1.426965\n",
              "...        ...       ...       ...       ...       ...\n",
              "1795 -0.403540  0.920518  1.008308 -0.131663  0.678649\n",
              "1796  0.270281 -0.533947  0.417910 -1.485517  0.892475\n",
              "1797 -0.172662 -1.667158  1.216843 -1.694926 -0.875094\n",
              "1798 -0.057301  2.609681  0.701766  1.121024  0.282172\n",
              "1799  0.274251  1.173887 -1.046723 -2.389521 -0.507328\n",
              "\n",
              "[1800 rows x 5 columns]"
            ]
          },
          "execution_count": 17,
          "metadata": {},
          "output_type": "execute_result"
        }
      ],
      "source": [
        "pd.DataFrame(X_train_pca)"
      ]
    },
    {
      "cell_type": "markdown",
      "metadata": {},
      "source": [
        "## Part 4: LogisticRegression on PCA data"
      ]
    },
    {
      "cell_type": "code",
      "execution_count": 18,
      "metadata": {},
      "outputs": [
        {
          "name": "stdout",
          "output_type": "stream",
          "text": [
            "              precision    recall  f1-score   support\n",
            "\n",
            "           0     0.5701    0.6354    0.6010        96\n",
            "           1     0.6237    0.5577    0.5888       104\n",
            "\n",
            "    accuracy                         0.5950       200\n",
            "   macro avg     0.5969    0.5966    0.5949       200\n",
            "weighted avg     0.5979    0.5950    0.5947       200\n",
            "\n"
          ]
        }
      ],
      "source": [
        "lr = LogisticRegression(max_iter=2000)\n",
        "lr.fit(X_train_pca, y_train)\n",
        "y_pred_pca = lr.predict(X_test_pca)\n",
        "\n",
        "print(classification_report(y_test, y_pred_pca, digits=4))"
      ]
    },
    {
      "cell_type": "code",
      "execution_count": 19,
      "metadata": {},
      "outputs": [
        {
          "data": {
            "image/png": "[encoded data removed]",
            "text/plain": [
              "<Figure size 432x288 with 1 Axes>"
            ]
          },
          "metadata": {
            "needs_background": "light"
          },
          "output_type": "display_data"
        }
      ],
      "source": [
        "plt.plot(np.arange(pca.n_components_) + 1, pca.explained_variance_ratio_, 'o-', linewidth=2, color='blue')\n",
        "plt.title('Scree Plot')\n",
        "plt.xlabel('Principal Component')\n",
        "plt.ylabel('Variance Explained')\n",
        "plt.show()"
      ]
    },
    {
      "cell_type": "markdown",
      "metadata": {},
      "source": [
        "## Part 6,7,8: SVM, Kernels and Margins"
      ]
    },
    {
      "cell_type": "code",
      "execution_count": 20,
      "metadata": {},
      "outputs": [
        {
          "name": "stdout",
          "output_type": "stream",
          "text": [
            "              precision    recall  f1-score   support\n",
            "\n",
            "           0     0.9694    0.9896    0.9794        96\n",
            "           1     0.9902    0.9712    0.9806       104\n",
            "\n",
            "    accuracy                         0.9800       200\n",
            "   macro avg     0.9798    0.9804    0.9800       200\n",
            "weighted avg     0.9802    0.9800    0.9800       200\n",
            "\n"
          ]
        }
      ],
      "source": [
        "svc = SVC(kernel='linear')\n",
        "svc.fit(X_train, y_train)\n",
        "\n",
        "y_pred = svc.predict(X_test)\n",
        "print(classification_report(y_test, y_pred, digits=4))"
      ]
    },
    {
      "cell_type": "code",
      "execution_count": 21,
      "metadata": {},
      "outputs": [],
      "source": [
        "def evaluate_svm_setting(X, y, kernel, degree, C=1):\n",
        "    if kernel == 'poly':\n",
        "        svm = SVC(kernel=kernel, degree=degree, C=C)\n",
        "    else:\n",
        "        svm = SVC(kernel=kernel, C=C)\n",
        "\n",
        "    scores = wrapper(svm, X, y, cv=5, scoring='accuracy')\n",
        "    if kernel == 'poly':\n",
        "        print(f'kernel:{kernel}, degree:{degree}, C:{C}, ACC: {scores.mean()*100:.2f}%')\n",
        "    else:\n",
        "        print(f'kernel:{kernel}, C:{C}, ACC: {scores.mean()*100:.2f}%')\n",
        "    print(30*'-')"
      ]
    },
    {
      "cell_type": "code",
      "execution_count": 22,
      "metadata": {},
      "outputs": [
        {
          "name": "stdout",
          "output_type": "stream",
          "text": [
            "kernel:linear, C:1, ACC: 98.40%\n",
            "------------------------------\n",
            "kernel:poly, degree:2, C:1, ACC: 52.80%\n",
            "------------------------------\n",
            "kernel:poly, degree:3, C:1, ACC: 93.00%\n",
            "------------------------------\n",
            "kernel:poly, degree:5, C:1, ACC: 92.25%\n",
            "------------------------------\n",
            "kernel:rbf, C:1, ACC: 95.55%\n",
            "------------------------------\n",
            "kernel:sigmoid, C:1, ACC: 97.25%\n",
            "------------------------------\n"
          ]
        }
      ],
      "source": [
        "evaluate_svm_setting(X, y, kernel='linear', degree=2)\n",
        "evaluate_svm_setting(X, y, kernel='poly', degree=2)\n",
        "evaluate_svm_setting(X, y, kernel='poly', degree=3)\n",
        "evaluate_svm_setting(X, y, kernel='poly', degree=5)\n",
        "evaluate_svm_setting(X, y, kernel='rbf', degree=None)\n",
        "evaluate_svm_setting(X, y, kernel='sigmoid', degree=None)"
      ]
    },
    {
      "cell_type": "code",
      "execution_count": 23,
      "metadata": {},
      "outputs": [
        {
          "name": "stdout",
          "output_type": "stream",
          "text": [
            "kernel:linear, C:1, ACC: 96.90%\n",
            "------------------------------\n",
            "kernel:poly, degree:2, C:1, ACC: 54.90%\n",
            "------------------------------\n",
            "kernel:poly, degree:3, C:1, ACC: 96.65%\n",
            "------------------------------\n",
            "kernel:poly, degree:5, C:1, ACC: 96.25%\n",
            "------------------------------\n",
            "kernel:rbf, C:1, ACC: 96.40%\n",
            "------------------------------\n",
            "kernel:sigmoid, C:1, ACC: 92.70%\n",
            "------------------------------\n"
          ]
        }
      ],
      "source": [
        "evaluate_svm_setting(X_best, y_best, kernel='linear', degree=None)\n",
        "evaluate_svm_setting(X_best, y_best, kernel='poly', degree=2)\n",
        "evaluate_svm_setting(X_best, y_best, kernel='poly', degree=3)\n",
        "evaluate_svm_setting(X_best, y_best, kernel='poly', degree=5)\n",
        "evaluate_svm_setting(X_best, y_best, kernel='rbf', degree=None)\n",
        "evaluate_svm_setting(X_best, y_best, kernel='sigmoid', degree=None)"
      ]
    },
    {
      "cell_type": "code",
      "execution_count": 24,
      "metadata": {},
      "outputs": [
        {
          "name": "stdout",
          "output_type": "stream",
          "text": [
            "kernel:linear, C:0.0001, ACC: 95.10%\n",
            "------------------------------\n",
            "kernel:linear, C:1, ACC: 98.40%\n",
            "------------------------------\n",
            "kernel:linear, C:10, ACC: 98.65%\n",
            "------------------------------\n",
            "kernel:linear, C:100, ACC: 98.85%\n",
            "------------------------------\n",
            "kernel:linear, C:1000, ACC: 98.95%\n",
            "------------------------------\n"
          ]
        }
      ],
      "source": [
        "evaluate_svm_setting(X, y, kernel='linear', degree=None, C=0.0001)\n",
        "evaluate_svm_setting(X, y, kernel='linear', degree=None, C=1)\n",
        "evaluate_svm_setting(X, y, kernel='linear', degree=None, C=10)\n",
        "evaluate_svm_setting(X, y, kernel='linear', degree=None, C=100)\n",
        "evaluate_svm_setting(X, y, kernel='linear', degree=None, C=1000)"
      ]
    },
    {
      "cell_type": "code",
      "execution_count": 25,
      "metadata": {},
      "outputs": [
        {
          "name": "stdout",
          "output_type": "stream",
          "text": [
            "Fitting 5 folds for each of 64 candidates, totalling 320 fits\n"
          ]
        },
        {
          "data": {
            "text/plain": [
              "GridSearchCV(estimator=SVC(), n_jobs=-1,\n",
              "             param_grid={'C': [0.0001, 1, 100, 1000], 'degree': [2, 3, 5, 7],\n",
              "                         'kernel': ['rbf', 'poly', 'sigmoid', 'linear']},\n",
              "             scoring='accuracy', verbose=1)"
            ]
          },
          "execution_count": 25,
          "metadata": {},
          "output_type": "execute_result"
        }
      ],
      "source": [
        "param_grid = {\n",
        "              'C': [0.0001, 1, 100, 1000],\n",
        "              'degree': [2, 3, 5, 7],\n",
        "              'kernel': ['rbf', 'poly', 'sigmoid', 'linear']\n",
        "            }\n",
        "\n",
        "grid = GridSearchCV(SVC(), param_grid, scoring='accuracy', refit=True, verbose=1, n_jobs=-1)\n",
        "grid.fit(StandardScaler().fit_transform(X), y)"
      ]
    },
    {
      "cell_type": "code",
      "execution_count": 26,
      "metadata": {},
      "outputs": [
        {
          "name": "stdout",
          "output_type": "stream",
          "text": [
            "SVC(C=1000, degree=2, kernel='linear')\n"
          ]
        }
      ],
      "source": [
        "print(grid.best_estimator_)"
      ]
    },
    {
      "cell_type": "markdown",
      "metadata": {},
      "source": [
        "## Part 9,10 : Feature Engineering"
      ]
    },
    {
      "cell_type": "code",
      "execution_count": 27,
      "metadata": {},
      "outputs": [],
      "source": [
        "def svm_train(X, y):\n",
        "    svm = SVC(kernel='linear', C=1000)\n",
        "    scores = wrapper(svm, X, y, cv=5, scoring='accuracy')\n",
        "    print(f'Accuracy: {scores.mean()*100:.2f}%')\n",
        "    print(30*'-')"
      ]
    },
    {
      "cell_type": "code",
      "execution_count": 28,
      "metadata": {},
      "outputs": [
        {
          "name": "stdout",
          "output_type": "stream",
          "text": [
            "Accuracy: 98.85%\n",
            "------------------------------\n"
          ]
        }
      ],
      "source": [
        "svm_train(X, y)"
      ]
    },
    {
      "cell_type": "code",
      "execution_count": 29,
      "metadata": {},
      "outputs": [],
      "source": [
        "X_bin = X.copy()\n",
        "X_bin['battery_power_3'] = pd.cut(X['battery_power'], 3, labels=range(1,4))\n",
        "X_bin['battery_power_5'] = pd.cut(X['battery_power'], 5, labels=range(1,6))\n",
        "X_bin['battery_power_10'] = pd.cut(X['battery_power'], 10, labels=range(1,11))\n",
        "X_bin['battery_power_neq5'] = pd.qcut(X['battery_power'], q=[0, 0.1, 0.3, 0.7, 0.9, 1], labels=range(1,6))"
      ]
    },
    {
      "cell_type": "code",
      "execution_count": 30,
      "metadata": {},
      "outputs": [
        {
          "name": "stdout",
          "output_type": "stream",
          "text": [
            "results for battery_power_3\n",
            "Accuracy: 97.45%\n",
            "------------------------------\n",
            "results for battery_power_5\n",
            "Accuracy: 98.30%\n",
            "------------------------------\n",
            "results for battery_power_10\n",
            "Accuracy: 98.55%\n",
            "------------------------------\n",
            "results for battery_power_neq5\n",
            "Accuracy: 97.70%\n",
            "------------------------------\n"
          ]
        }
      ],
      "source": [
        "print(f'results for battery_power_3')\n",
        "svm_train(X_bin.drop(columns=['battery_power_10', 'battery_power_5', 'battery_power', 'battery_power_neq5']), y)\n",
        "print(f'results for battery_power_5')\n",
        "svm_train(X_bin.drop(columns=['battery_power_3', 'battery_power_10', 'battery_power', 'battery_power_neq5']), y)\n",
        "print(f'results for battery_power_10')\n",
        "svm_train(X_bin.drop(columns=['battery_power_3', 'battery_power_5', 'battery_power', 'battery_power_neq5']), y)\n",
        "print(f'results for battery_power_neq5')\n",
        "svm_train(X_bin.drop(columns=['battery_power_3', 'battery_power_5', 'battery_power_10', 'battery_power']), y)"
      ]
    },
    {
      "cell_type": "code",
      "execution_count": 31,
      "metadata": {},
      "outputs": [
        {
          "name": "stdout",
          "output_type": "stream",
          "text": [
            "Accuracy: 96.75%\n",
            "------------------------------\n"
          ]
        }
      ],
      "source": [
        "X_log = X.copy()\n",
        "cols = ['battery_power', 'ram', 'px_height', 'px_width', 'mobile_wt']\n",
        "for col in cols:\n",
        "    X_log[col] = X_log[col].apply(lambda x: 1 if x <= 0 else x)\n",
        "    X_log[col+'_log'] = np.log(X_log[col])\n",
        "\n",
        "X_log.drop(columns=cols, inplace=True)\n",
        "svm_train(X_log, y)"
      ]
    },
    {
      "cell_type": "code",
      "execution_count": 32,
      "metadata": {},
      "outputs": [
        {
          "name": "stdout",
          "output_type": "stream",
          "text": [
            "Accuracy: 98.30%\n",
            "------------------------------\n"
          ]
        }
      ],
      "source": [
        "X_boxcox = X.copy()\n",
        "scaler = PowerTransformer(method = 'box-cox')\n",
        "\n",
        "for col in cols:\n",
        "    X_boxcox[col] = X_boxcox[col].apply(lambda x: 1 if x <= 0 else x)\n",
        "    X_boxcox[col+'_boxcox'] = scaler.fit_transform(X_boxcox[col].values.reshape(-1, 1))\n",
        "X_boxcox.drop(columns=cols, inplace=True)\n",
        "svm_train(X_boxcox, y)"
      ]
    },
    {
      "cell_type": "code",
      "execution_count": 33,
      "metadata": {},
      "outputs": [],
      "source": [
        "X_area_vol = X.copy()\n",
        "X_area_vol['area'] = X['px_height'] * X['px_width']\n",
        "X_area_vol['vol'] = X['sc_h'] * X['sc_w'] * X['m_dep']"
      ]
    },
    {
      "cell_type": "code",
      "execution_count": 34,
      "metadata": {},
      "outputs": [
        {
          "name": "stdout",
          "output_type": "stream",
          "text": [
            "Results after adding area\n",
            "Accuracy: 97.50%\n",
            "------------------------------\n",
            "Results after adding vol\n",
            "Accuracy: 98.70%\n",
            "------------------------------\n",
            "Results after adding area and vol\n",
            "Accuracy: 97.35%\n",
            "------------------------------\n"
          ]
        }
      ],
      "source": [
        "print(f'Results after adding area')\n",
        "svm_train(X_area_vol.drop(columns=['vol', 'px_width', 'px_height']), y)\n",
        "print(f'Results after adding vol')\n",
        "svm_train(X_area_vol.drop(columns=['area', 'sc_h', 'sc_w', 'm_dep']), y)\n",
        "print(f'Results after adding area and vol')\n",
        "svm_train(X_area_vol.drop(columns=['px_width', 'px_height', 'sc_h', 'sc_w', 'm_dep']), y)"
      ]
    },
    {
      "cell_type": "code",
      "execution_count": 35,
      "metadata": {},
      "outputs": [
        {
          "name": "stdout",
          "output_type": "stream",
          "text": [
            "Accuracy: 98.40%\n",
            "------------------------------\n"
          ]
        }
      ],
      "source": [
        "X_last = X.copy()\n",
        "X_last['vol'] = X_last['sc_h'] * X_last['sc_w'] * X_last['m_dep']\n",
        "for col in cols:\n",
        "    X_last[col] = X_last[col].apply(lambda x: 1 if x <= 0 else x)\n",
        "    X_last[col+'_boxcox'] = scaler.fit_transform(X_last[col].values.reshape(-1, 1))\n",
        "X_last['battery_power_10'] = pd.cut(X['battery_power'], 10, labels=range(1,11))\n",
        "X_last.drop(columns=[*cols, 'sc_h', 'sc_w', 'm_dep', 'battery_power'], inplace=True)\n",
        "svm_train(X_last, y)"
      ]
    },
    {
      "cell_type": "markdown",
      "metadata": {},
      "source": [
        "## Part 11,12: Decision Trees"
      ]
    },
    {
      "cell_type": "markdown",
      "metadata": {},
      "source": [
        "Let's Train a Vanilla Decision Tree Classifier on the data."
      ]
    },
    {
      "cell_type": "code",
      "execution_count": 36,
      "metadata": {},
      "outputs": [
        {
          "name": "stdout",
          "output_type": "stream",
          "text": [
            "Decision Tree Vanilla: 95.00%\n",
            "Decision Tree with depth 3: 92.10%\n",
            "Decision Tree with depth 5: 94.80%\n",
            "Decision Tree with depth 10: 95.15%\n",
            "Decision Tree with depth 50: 94.20%\n",
            "Decision Tree with depth 200: 94.80%\n"
          ]
        }
      ],
      "source": [
        "print(f'Decision Tree Vanilla: {wrapper(DecisionTreeClassifier(), X, y, scaler=False)*100:.2f}%')\n",
        "print(f'Decision Tree with depth 3: {wrapper(DecisionTreeClassifier(max_depth=3), X, y, scaler=False)*100:.2f}%')\n",
        "print(f'Decision Tree with depth 5: {wrapper(DecisionTreeClassifier(max_depth=5), X, y, scaler=False)*100:.2f}%')\n",
        "print(f'Decision Tree with depth 10: {wrapper(DecisionTreeClassifier(max_depth=10), X, y, scaler=False)*100:.2f}%')\n",
        "print(f'Decision Tree with depth 50: {wrapper(DecisionTreeClassifier(max_depth=50), X, y, scaler=False)*100:.2f}%')\n",
        "print(f'Decision Tree with depth 200: {wrapper(DecisionTreeClassifier(max_depth=500), X, y, scaler=False)*100:.2f}%')"
      ]
    },
    {
      "cell_type": "code",
      "execution_count": 37,
      "metadata": {},
      "outputs": [
        {
          "name": "stdout",
          "output_type": "stream",
          "text": [
            "Decision Tree, min_samples_leaf 1: 94.85%\n",
            "Decision Tree, min_samples_leaf 2: 94.75%\n",
            "Decision Tree, min_samples_leaf 4: 95.10%\n",
            "Decision Tree, min_samples_leaf 8: 94.80%\n",
            "Decision Tree, min_samples_leaf 10: 94.30%\n"
          ]
        }
      ],
      "source": [
        "print(f'Decision Tree, min_samples_leaf 1: {wrapper(DecisionTreeClassifier(min_samples_leaf=1), X, y, scaler=False)*100:.2f}%')\n",
        "print(f'Decision Tree, min_samples_leaf 2: {wrapper(DecisionTreeClassifier(min_samples_leaf=2), X, y, scaler=False)*100:.2f}%')\n",
        "print(f'Decision Tree, min_samples_leaf 4: {wrapper(DecisionTreeClassifier(min_samples_leaf=4), X, y, scaler=False)*100:.2f}%')\n",
        "print(f'Decision Tree, min_samples_leaf 8: {wrapper(DecisionTreeClassifier(min_samples_leaf=8), X, y, scaler=False)*100:.2f}%')\n",
        "print(f'Decision Tree, min_samples_leaf 10: {wrapper(DecisionTreeClassifier(min_samples_leaf=10), X, y, scaler=False)*100:.2f}%')"
      ]
    },
    {
      "cell_type": "code",
      "execution_count": 38,
      "metadata": {},
      "outputs": [
        {
          "name": "stdout",
          "output_type": "stream",
          "text": [
            "Fitting 5 folds for each of 396 candidates, totalling 1980 fits\n"
          ]
        },
        {
          "data": {
            "text/plain": [
              "GridSearchCV(estimator=Pipeline(steps=[('scale', StandardScaler()),\n",
              "                                       ('clf', DecisionTreeClassifier())]),\n",
              "             n_jobs=-1,\n",
              "             param_grid={'clf__criterion': ['gini', 'entropy'],\n",
              "                         'clf__max_depth': [1, 2, 5, 10, 20, 30, 40, 50, 100,\n",
              "                                            200, None],\n",
              "                         'clf__min_samples_leaf': range(2, 20)},\n",
              "             scoring='accuracy', verbose=1)"
            ]
          },
          "execution_count": 38,
          "metadata": {},
          "output_type": "execute_result"
        }
      ],
      "source": [
        "param_grid = {\n",
        "              'clf__criterion': ['gini', 'entropy'],\n",
        "              'clf__max_depth': [1, 2, 5, 10, 20, 30, 40, 50, 100, 200, None],\n",
        "              'clf__min_samples_leaf': range(2, 20)\n",
        "            }\n",
        "pipe = Pipeline([\n",
        "    ('scale', StandardScaler()),\n",
        "    ('clf', DecisionTreeClassifier())\n",
        "])\n",
        "grid = GridSearchCV(pipe, param_grid, scoring='accuracy', refit=True, verbose=1, n_jobs=-1)\n",
        "grid.fit(X, y)"
      ]
    },
    {
      "cell_type": "code",
      "execution_count": 39,
      "metadata": {},
      "outputs": [
        {
          "name": "stdout",
          "output_type": "stream",
          "text": [
            "Pipeline(steps=[('scale', StandardScaler()),\n",
            "                ('clf',\n",
            "                 DecisionTreeClassifier(max_depth=50, min_samples_leaf=4))])\n",
            "Best DecisionTree Accuracy: 95.55%\n"
          ]
        }
      ],
      "source": [
        "print(grid.best_estimator_)\n",
        "print(f'Best DecisionTree Accuracy: {grid.best_score_*100:.2f}%')"
      ]
    },
    {
      "cell_type": "code",
      "execution_count": null,
      "metadata": {},
      "outputs": [],
      "source": []
    }
  ],
  "metadata": {
    "colab": {
      "name": "A02-Task1.ipynb",
      "provenance": []
    },
    "interpreter": {
      "hash": "570feb405e2e27c949193ac68f46852414290d515b0ba6e5d90d076ed2284471"
    },
    "kernelspec": {
      "display_name": "Python 3.8.10 64-bit",
      "language": "python",
      "name": "python3"
    },
    "language_info": {
      "codemirror_mode": {
        "name": "ipython",
        "version": 3
      },
      "file_extension": ".py",
      "mimetype": "text/x-python",
      "name": "python",
      "nbconvert_exporter": "python",
      "pygments_lexer": "ipython3",
      "version": "3.8.10"
    }
  },
  "nbformat": 4,
  "nbformat_minor": 0
}
