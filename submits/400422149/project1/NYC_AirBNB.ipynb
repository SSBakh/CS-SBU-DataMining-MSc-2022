{
  "nbformat": 4,
  "nbformat_minor": 0,
  "metadata": {
    "colab": {
      "name": "NYC-AirBNB.ipynb",
      "provenance": [],
      "collapsed_sections": []
    },
    "kernelspec": {
      "name": "python3",
      "display_name": "Python 3"
    },
    "language_info": {
      "name": "python"
    }
  },
  "cells": [
    {
      "cell_type": "code",
      "source": [
        "import os\n",
        "os.chdir('drive/MyDrive/Datasets/NYC-AirBNB')"
      ],
      "metadata": {
        "id": "x_oUc4VdjmkD"
      },
      "execution_count": 1,
      "outputs": []
    },
    {
      "cell_type": "code",
      "source": [
        "import numpy as np\n",
        "import pandas as pd\n",
        "import seaborn as sns\n",
        "import time\n",
        "import matplotlib.pyplot as plt\n",
        "from scipy import stats\n",
        "from sklearn.model_selection import train_test_split\n",
        "from sklearn.preprocessing import StandardScaler\n",
        "from sklearn.compose import ColumnTransformer\n",
        "from sklearn.decomposition import PCA\n",
        "from sklearn.ensemble import RandomForestRegressor\n",
        "from sklearn.linear_model import LinearRegression\n",
        "from sklearn.metrics import mean_squared_error"
      ],
      "metadata": {
        "id": "d4otOsEOkO0S"
      },
      "execution_count": 2,
      "outputs": []
    },
    {
      "cell_type": "code",
      "source": [
        "airbnb = pd.read_csv('AB_NYC_2019.csv', parse_dates=['last_review'])"
      ],
      "metadata": {
        "id": "fer36SnAkdEB"
      },
      "execution_count": 3,
      "outputs": []
    },
    {
      "cell_type": "code",
      "source": [
        "airbnb.head()"
      ],
      "metadata": {
        "colab": {
          "base_uri": "https://localhost:8080/",
          "height": 461
        },
        "id": "fI6s0sz0k2gc",
        "outputId": "8df2d444-10f1-4eea-a16a-d45f5a2d862f"
      },
      "execution_count": 4,
      "outputs": [
        {
          "output_type": "execute_result",
          "data": {
            "text/plain": [
              "     id                                              name  host_id  \\\n",
              "0  2539                Clean & quiet apt home by the park     2787   \n",
              "1  2595                             Skylit Midtown Castle     2845   \n",
              "2  3647               THE VILLAGE OF HARLEM....NEW YORK !     4632   \n",
              "3  3831                   Cozy Entire Floor of Brownstone     4869   \n",
              "4  5022  Entire Apt: Spacious Studio/Loft by central park     7192   \n",
              "\n",
              "     host_name neighbourhood_group neighbourhood  latitude  longitude  \\\n",
              "0         John            Brooklyn    Kensington  40.64749  -73.97237   \n",
              "1     Jennifer           Manhattan       Midtown  40.75362  -73.98377   \n",
              "2    Elisabeth           Manhattan        Harlem  40.80902  -73.94190   \n",
              "3  LisaRoxanne            Brooklyn  Clinton Hill  40.68514  -73.95976   \n",
              "4        Laura           Manhattan   East Harlem  40.79851  -73.94399   \n",
              "\n",
              "         room_type  price  minimum_nights  number_of_reviews last_review  \\\n",
              "0     Private room    149               1                  9  2018-10-19   \n",
              "1  Entire home/apt    225               1                 45  2019-05-21   \n",
              "2     Private room    150               3                  0         NaT   \n",
              "3  Entire home/apt     89               1                270  2019-07-05   \n",
              "4  Entire home/apt     80              10                  9  2018-11-19   \n",
              "\n",
              "   reviews_per_month  calculated_host_listings_count  availability_365  \n",
              "0               0.21                               6               365  \n",
              "1               0.38                               2               355  \n",
              "2                NaN                               1               365  \n",
              "3               4.64                               1               194  \n",
              "4               0.10                               1                 0  "
            ],
            "text/html": [
              "\n",
              "  <div id=\"df-e19f3406-f65e-4f6c-8d0e-7b1798218538\">\n",
              "    <div class=\"colab-df-container\">\n",
              "      <div>\n",
              "<style scoped>\n",
              "    .dataframe tbody tr th:only-of-type {\n",
              "        vertical-align: middle;\n",
              "    }\n",
              "\n",
              "    .dataframe tbody tr th {\n",
              "        vertical-align: top;\n",
              "    }\n",
              "\n",
              "    .dataframe thead th {\n",
              "        text-align: right;\n",
              "    }\n",
              "</style>\n",
              "<table border=\"1\" class=\"dataframe\">\n",
              "  <thead>\n",
              "    <tr style=\"text-align: right;\">\n",
              "      <th></th>\n",
              "      <th>id</th>\n",
              "      <th>name</th>\n",
              "      <th>host_id</th>\n",
              "      <th>host_name</th>\n",
              "      <th>neighbourhood_group</th>\n",
              "      <th>neighbourhood</th>\n",
              "      <th>latitude</th>\n",
              "      <th>longitude</th>\n",
              "      <th>room_type</th>\n",
              "      <th>price</th>\n",
              "      <th>minimum_nights</th>\n",
              "      <th>number_of_reviews</th>\n",
              "      <th>last_review</th>\n",
              "      <th>reviews_per_month</th>\n",
              "      <th>calculated_host_listings_count</th>\n",
              "      <th>availability_365</th>\n",
              "    </tr>\n",
              "  </thead>\n",
              "  <tbody>\n",
              "    <tr>\n",
              "      <th>0</th>\n",
              "      <td>2539</td>\n",
              "      <td>Clean &amp; quiet apt home by the park</td>\n",
              "      <td>2787</td>\n",
              "      <td>John</td>\n",
              "      <td>Brooklyn</td>\n",
              "      <td>Kensington</td>\n",
              "      <td>40.64749</td>\n",
              "      <td>-73.97237</td>\n",
              "      <td>Private room</td>\n",
              "      <td>149</td>\n",
              "      <td>1</td>\n",
              "      <td>9</td>\n",
              "      <td>2018-10-19</td>\n",
              "      <td>0.21</td>\n",
              "      <td>6</td>\n",
              "      <td>365</td>\n",
              "    </tr>\n",
              "    <tr>\n",
              "      <th>1</th>\n",
              "      <td>2595</td>\n",
              "      <td>Skylit Midtown Castle</td>\n",
              "      <td>2845</td>\n",
              "      <td>Jennifer</td>\n",
              "      <td>Manhattan</td>\n",
              "      <td>Midtown</td>\n",
              "      <td>40.75362</td>\n",
              "      <td>-73.98377</td>\n",
              "      <td>Entire home/apt</td>\n",
              "      <td>225</td>\n",
              "      <td>1</td>\n",
              "      <td>45</td>\n",
              "      <td>2019-05-21</td>\n",
              "      <td>0.38</td>\n",
              "      <td>2</td>\n",
              "      <td>355</td>\n",
              "    </tr>\n",
              "    <tr>\n",
              "      <th>2</th>\n",
              "      <td>3647</td>\n",
              "      <td>THE VILLAGE OF HARLEM....NEW YORK !</td>\n",
              "      <td>4632</td>\n",
              "      <td>Elisabeth</td>\n",
              "      <td>Manhattan</td>\n",
              "      <td>Harlem</td>\n",
              "      <td>40.80902</td>\n",
              "      <td>-73.94190</td>\n",
              "      <td>Private room</td>\n",
              "      <td>150</td>\n",
              "      <td>3</td>\n",
              "      <td>0</td>\n",
              "      <td>NaT</td>\n",
              "      <td>NaN</td>\n",
              "      <td>1</td>\n",
              "      <td>365</td>\n",
              "    </tr>\n",
              "    <tr>\n",
              "      <th>3</th>\n",
              "      <td>3831</td>\n",
              "      <td>Cozy Entire Floor of Brownstone</td>\n",
              "      <td>4869</td>\n",
              "      <td>LisaRoxanne</td>\n",
              "      <td>Brooklyn</td>\n",
              "      <td>Clinton Hill</td>\n",
              "      <td>40.68514</td>\n",
              "      <td>-73.95976</td>\n",
              "      <td>Entire home/apt</td>\n",
              "      <td>89</td>\n",
              "      <td>1</td>\n",
              "      <td>270</td>\n",
              "      <td>2019-07-05</td>\n",
              "      <td>4.64</td>\n",
              "      <td>1</td>\n",
              "      <td>194</td>\n",
              "    </tr>\n",
              "    <tr>\n",
              "      <th>4</th>\n",
              "      <td>5022</td>\n",
              "      <td>Entire Apt: Spacious Studio/Loft by central park</td>\n",
              "      <td>7192</td>\n",
              "      <td>Laura</td>\n",
              "      <td>Manhattan</td>\n",
              "      <td>East Harlem</td>\n",
              "      <td>40.79851</td>\n",
              "      <td>-73.94399</td>\n",
              "      <td>Entire home/apt</td>\n",
              "      <td>80</td>\n",
              "      <td>10</td>\n",
              "      <td>9</td>\n",
              "      <td>2018-11-19</td>\n",
              "      <td>0.10</td>\n",
              "      <td>1</td>\n",
              "      <td>0</td>\n",
              "    </tr>\n",
              "  </tbody>\n",
              "</table>\n",
              "</div>\n",
              "      <button class=\"colab-df-convert\" onclick=\"convertToInteractive('df-e19f3406-f65e-4f6c-8d0e-7b1798218538')\"\n",
              "              title=\"Convert this dataframe to an interactive table.\"\n",
              "              style=\"display:none;\">\n",
              "        \n",
              "  <svg xmlns=\"http://www.w3.org/2000/svg\" height=\"24px\"viewBox=\"0 0 24 24\"\n",
              "       width=\"24px\">\n",
              "    <path d=\"M0 0h24v24H0V0z\" fill=\"none\"/>\n",
              "    <path d=\"M18.56 5.44l.94 2.06.94-2.06 2.06-.94-2.06-.94-.94-2.06-.94 2.06-2.06.94zm-11 1L8.5 8.5l.94-2.06 2.06-.94-2.06-.94L8.5 2.5l-.94 2.06-2.06.94zm10 10l.94 2.06.94-2.06 2.06-.94-2.06-.94-.94-2.06-.94 2.06-2.06.94z\"/><path d=\"M17.41 7.96l-1.37-1.37c-.4-.4-.92-.59-1.43-.59-.52 0-1.04.2-1.43.59L10.3 9.45l-7.72 7.72c-.78.78-.78 2.05 0 2.83L4 21.41c.39.39.9.59 1.41.59.51 0 1.02-.2 1.41-.59l7.78-7.78 2.81-2.81c.8-.78.8-2.07 0-2.86zM5.41 20L4 18.59l7.72-7.72 1.47 1.35L5.41 20z\"/>\n",
              "  </svg>\n",
              "      </button>\n",
              "      \n",
              "  <style>\n",
              "    .colab-df-container {\n",
              "      display:flex;\n",
              "      flex-wrap:wrap;\n",
              "      gap: 12px;\n",
              "    }\n",
              "\n",
              "    .colab-df-convert {\n",
              "      background-color: #E8F0FE;\n",
              "      border: none;\n",
              "      border-radius: 50%;\n",
              "      cursor: pointer;\n",
              "      display: none;\n",
              "      fill: #1967D2;\n",
              "      height: 32px;\n",
              "      padding: 0 0 0 0;\n",
              "      width: 32px;\n",
              "    }\n",
              "\n",
              "    .colab-df-convert:hover {\n",
              "      background-color: #E2EBFA;\n",
              "      box-shadow: 0px 1px 2px rgba(60, 64, 67, 0.3), 0px 1px 3px 1px rgba(60, 64, 67, 0.15);\n",
              "      fill: #174EA6;\n",
              "    }\n",
              "\n",
              "    [theme=dark] .colab-df-convert {\n",
              "      background-color: #3B4455;\n",
              "      fill: #D2E3FC;\n",
              "    }\n",
              "\n",
              "    [theme=dark] .colab-df-convert:hover {\n",
              "      background-color: #434B5C;\n",
              "      box-shadow: 0px 1px 3px 1px rgba(0, 0, 0, 0.15);\n",
              "      filter: drop-shadow(0px 1px 2px rgba(0, 0, 0, 0.3));\n",
              "      fill: #FFFFFF;\n",
              "    }\n",
              "  </style>\n",
              "\n",
              "      <script>\n",
              "        const buttonEl =\n",
              "          document.querySelector('#df-e19f3406-f65e-4f6c-8d0e-7b1798218538 button.colab-df-convert');\n",
              "        buttonEl.style.display =\n",
              "          google.colab.kernel.accessAllowed ? 'block' : 'none';\n",
              "\n",
              "        async function convertToInteractive(key) {\n",
              "          const element = document.querySelector('#df-e19f3406-f65e-4f6c-8d0e-7b1798218538');\n",
              "          const dataTable =\n",
              "            await google.colab.kernel.invokeFunction('convertToInteractive',\n",
              "                                                     [key], {});\n",
              "          if (!dataTable) return;\n",
              "\n",
              "          const docLinkHtml = 'Like what you see? Visit the ' +\n",
              "            '<a target=\"_blank\" href=https://colab.research.google.com/notebooks/data_table.ipynb>data table notebook</a>'\n",
              "            + ' to learn more about interactive tables.';\n",
              "          element.innerHTML = '';\n",
              "          dataTable['output_type'] = 'display_data';\n",
              "          await google.colab.output.renderOutput(dataTable, element);\n",
              "          const docLink = document.createElement('div');\n",
              "          docLink.innerHTML = docLinkHtml;\n",
              "          element.appendChild(docLink);\n",
              "        }\n",
              "      </script>\n",
              "    </div>\n",
              "  </div>\n",
              "  "
            ]
          },
          "metadata": {},
          "execution_count": 4
        }
      ]
    },
    {
      "cell_type": "code",
      "source": [
        "airbnb.info()"
      ],
      "metadata": {
        "colab": {
          "base_uri": "https://localhost:8080/"
        },
        "id": "ccTNpxFDl9kG",
        "outputId": "c930e499-f24f-4e81-da28-b9974780b1dc"
      },
      "execution_count": 5,
      "outputs": [
        {
          "output_type": "stream",
          "name": "stdout",
          "text": [
            "<class 'pandas.core.frame.DataFrame'>\n",
            "RangeIndex: 48895 entries, 0 to 48894\n",
            "Data columns (total 16 columns):\n",
            " #   Column                          Non-Null Count  Dtype         \n",
            "---  ------                          --------------  -----         \n",
            " 0   id                              48895 non-null  int64         \n",
            " 1   name                            48879 non-null  object        \n",
            " 2   host_id                         48895 non-null  int64         \n",
            " 3   host_name                       48874 non-null  object        \n",
            " 4   neighbourhood_group             48895 non-null  object        \n",
            " 5   neighbourhood                   48895 non-null  object        \n",
            " 6   latitude                        48895 non-null  float64       \n",
            " 7   longitude                       48895 non-null  float64       \n",
            " 8   room_type                       48895 non-null  object        \n",
            " 9   price                           48895 non-null  int64         \n",
            " 10  minimum_nights                  48895 non-null  int64         \n",
            " 11  number_of_reviews               48895 non-null  int64         \n",
            " 12  last_review                     38843 non-null  datetime64[ns]\n",
            " 13  reviews_per_month               38843 non-null  float64       \n",
            " 14  calculated_host_listings_count  48895 non-null  int64         \n",
            " 15  availability_365                48895 non-null  int64         \n",
            "dtypes: datetime64[ns](1), float64(3), int64(7), object(5)\n",
            "memory usage: 6.0+ MB\n"
          ]
        }
      ]
    },
    {
      "cell_type": "code",
      "source": [
        "airbnb.describe()"
      ],
      "metadata": {
        "colab": {
          "base_uri": "https://localhost:8080/",
          "height": 300
        },
        "id": "G2VGAvmhP-LO",
        "outputId": "a09052ee-3fa5-4ad4-b658-cd9acbb4fb12"
      },
      "execution_count": 6,
      "outputs": [
        {
          "output_type": "execute_result",
          "data": {
            "text/plain": [
              "                 id       host_id      latitude     longitude         price  \\\n",
              "count  4.889500e+04  4.889500e+04  48895.000000  48895.000000  48895.000000   \n",
              "mean   1.901714e+07  6.762001e+07     40.728949    -73.952170    152.720687   \n",
              "std    1.098311e+07  7.861097e+07      0.054530      0.046157    240.154170   \n",
              "min    2.539000e+03  2.438000e+03     40.499790    -74.244420      0.000000   \n",
              "25%    9.471945e+06  7.822033e+06     40.690100    -73.983070     69.000000   \n",
              "50%    1.967728e+07  3.079382e+07     40.723070    -73.955680    106.000000   \n",
              "75%    2.915218e+07  1.074344e+08     40.763115    -73.936275    175.000000   \n",
              "max    3.648724e+07  2.743213e+08     40.913060    -73.712990  10000.000000   \n",
              "\n",
              "       minimum_nights  number_of_reviews  reviews_per_month  \\\n",
              "count    48895.000000       48895.000000       38843.000000   \n",
              "mean         7.029962          23.274466           1.373221   \n",
              "std         20.510550          44.550582           1.680442   \n",
              "min          1.000000           0.000000           0.010000   \n",
              "25%          1.000000           1.000000           0.190000   \n",
              "50%          3.000000           5.000000           0.720000   \n",
              "75%          5.000000          24.000000           2.020000   \n",
              "max       1250.000000         629.000000          58.500000   \n",
              "\n",
              "       calculated_host_listings_count  availability_365  \n",
              "count                    48895.000000      48895.000000  \n",
              "mean                         7.143982        112.781327  \n",
              "std                         32.952519        131.622289  \n",
              "min                          1.000000          0.000000  \n",
              "25%                          1.000000          0.000000  \n",
              "50%                          1.000000         45.000000  \n",
              "75%                          2.000000        227.000000  \n",
              "max                        327.000000        365.000000  "
            ],
            "text/html": [
              "\n",
              "  <div id=\"df-02502831-60f5-4e1d-9ee3-b8b977fec212\">\n",
              "    <div class=\"colab-df-container\">\n",
              "      <div>\n",
              "<style scoped>\n",
              "    .dataframe tbody tr th:only-of-type {\n",
              "        vertical-align: middle;\n",
              "    }\n",
              "\n",
              "    .dataframe tbody tr th {\n",
              "        vertical-align: top;\n",
              "    }\n",
              "\n",
              "    .dataframe thead th {\n",
              "        text-align: right;\n",
              "    }\n",
              "</style>\n",
              "<table border=\"1\" class=\"dataframe\">\n",
              "  <thead>\n",
              "    <tr style=\"text-align: right;\">\n",
              "      <th></th>\n",
              "      <th>id</th>\n",
              "      <th>host_id</th>\n",
              "      <th>latitude</th>\n",
              "      <th>longitude</th>\n",
              "      <th>price</th>\n",
              "      <th>minimum_nights</th>\n",
              "      <th>number_of_reviews</th>\n",
              "      <th>reviews_per_month</th>\n",
              "      <th>calculated_host_listings_count</th>\n",
              "      <th>availability_365</th>\n",
              "    </tr>\n",
              "  </thead>\n",
              "  <tbody>\n",
              "    <tr>\n",
              "      <th>count</th>\n",
              "      <td>4.889500e+04</td>\n",
              "      <td>4.889500e+04</td>\n",
              "      <td>48895.000000</td>\n",
              "      <td>48895.000000</td>\n",
              "      <td>48895.000000</td>\n",
              "      <td>48895.000000</td>\n",
              "      <td>48895.000000</td>\n",
              "      <td>38843.000000</td>\n",
              "      <td>48895.000000</td>\n",
              "      <td>48895.000000</td>\n",
              "    </tr>\n",
              "    <tr>\n",
              "      <th>mean</th>\n",
              "      <td>1.901714e+07</td>\n",
              "      <td>6.762001e+07</td>\n",
              "      <td>40.728949</td>\n",
              "      <td>-73.952170</td>\n",
              "      <td>152.720687</td>\n",
              "      <td>7.029962</td>\n",
              "      <td>23.274466</td>\n",
              "      <td>1.373221</td>\n",
              "      <td>7.143982</td>\n",
              "      <td>112.781327</td>\n",
              "    </tr>\n",
              "    <tr>\n",
              "      <th>std</th>\n",
              "      <td>1.098311e+07</td>\n",
              "      <td>7.861097e+07</td>\n",
              "      <td>0.054530</td>\n",
              "      <td>0.046157</td>\n",
              "      <td>240.154170</td>\n",
              "      <td>20.510550</td>\n",
              "      <td>44.550582</td>\n",
              "      <td>1.680442</td>\n",
              "      <td>32.952519</td>\n",
              "      <td>131.622289</td>\n",
              "    </tr>\n",
              "    <tr>\n",
              "      <th>min</th>\n",
              "      <td>2.539000e+03</td>\n",
              "      <td>2.438000e+03</td>\n",
              "      <td>40.499790</td>\n",
              "      <td>-74.244420</td>\n",
              "      <td>0.000000</td>\n",
              "      <td>1.000000</td>\n",
              "      <td>0.000000</td>\n",
              "      <td>0.010000</td>\n",
              "      <td>1.000000</td>\n",
              "      <td>0.000000</td>\n",
              "    </tr>\n",
              "    <tr>\n",
              "      <th>25%</th>\n",
              "      <td>9.471945e+06</td>\n",
              "      <td>7.822033e+06</td>\n",
              "      <td>40.690100</td>\n",
              "      <td>-73.983070</td>\n",
              "      <td>69.000000</td>\n",
              "      <td>1.000000</td>\n",
              "      <td>1.000000</td>\n",
              "      <td>0.190000</td>\n",
              "      <td>1.000000</td>\n",
              "      <td>0.000000</td>\n",
              "    </tr>\n",
              "    <tr>\n",
              "      <th>50%</th>\n",
              "      <td>1.967728e+07</td>\n",
              "      <td>3.079382e+07</td>\n",
              "      <td>40.723070</td>\n",
              "      <td>-73.955680</td>\n",
              "      <td>106.000000</td>\n",
              "      <td>3.000000</td>\n",
              "      <td>5.000000</td>\n",
              "      <td>0.720000</td>\n",
              "      <td>1.000000</td>\n",
              "      <td>45.000000</td>\n",
              "    </tr>\n",
              "    <tr>\n",
              "      <th>75%</th>\n",
              "      <td>2.915218e+07</td>\n",
              "      <td>1.074344e+08</td>\n",
              "      <td>40.763115</td>\n",
              "      <td>-73.936275</td>\n",
              "      <td>175.000000</td>\n",
              "      <td>5.000000</td>\n",
              "      <td>24.000000</td>\n",
              "      <td>2.020000</td>\n",
              "      <td>2.000000</td>\n",
              "      <td>227.000000</td>\n",
              "    </tr>\n",
              "    <tr>\n",
              "      <th>max</th>\n",
              "      <td>3.648724e+07</td>\n",
              "      <td>2.743213e+08</td>\n",
              "      <td>40.913060</td>\n",
              "      <td>-73.712990</td>\n",
              "      <td>10000.000000</td>\n",
              "      <td>1250.000000</td>\n",
              "      <td>629.000000</td>\n",
              "      <td>58.500000</td>\n",
              "      <td>327.000000</td>\n",
              "      <td>365.000000</td>\n",
              "    </tr>\n",
              "  </tbody>\n",
              "</table>\n",
              "</div>\n",
              "      <button class=\"colab-df-convert\" onclick=\"convertToInteractive('df-02502831-60f5-4e1d-9ee3-b8b977fec212')\"\n",
              "              title=\"Convert this dataframe to an interactive table.\"\n",
              "              style=\"display:none;\">\n",
              "        \n",
              "  <svg xmlns=\"http://www.w3.org/2000/svg\" height=\"24px\"viewBox=\"0 0 24 24\"\n",
              "       width=\"24px\">\n",
              "    <path d=\"M0 0h24v24H0V0z\" fill=\"none\"/>\n",
              "    <path d=\"M18.56 5.44l.94 2.06.94-2.06 2.06-.94-2.06-.94-.94-2.06-.94 2.06-2.06.94zm-11 1L8.5 8.5l.94-2.06 2.06-.94-2.06-.94L8.5 2.5l-.94 2.06-2.06.94zm10 10l.94 2.06.94-2.06 2.06-.94-2.06-.94-.94-2.06-.94 2.06-2.06.94z\"/><path d=\"M17.41 7.96l-1.37-1.37c-.4-.4-.92-.59-1.43-.59-.52 0-1.04.2-1.43.59L10.3 9.45l-7.72 7.72c-.78.78-.78 2.05 0 2.83L4 21.41c.39.39.9.59 1.41.59.51 0 1.02-.2 1.41-.59l7.78-7.78 2.81-2.81c.8-.78.8-2.07 0-2.86zM5.41 20L4 18.59l7.72-7.72 1.47 1.35L5.41 20z\"/>\n",
              "  </svg>\n",
              "      </button>\n",
              "      \n",
              "  <style>\n",
              "    .colab-df-container {\n",
              "      display:flex;\n",
              "      flex-wrap:wrap;\n",
              "      gap: 12px;\n",
              "    }\n",
              "\n",
              "    .colab-df-convert {\n",
              "      background-color: #E8F0FE;\n",
              "      border: none;\n",
              "      border-radius: 50%;\n",
              "      cursor: pointer;\n",
              "      display: none;\n",
              "      fill: #1967D2;\n",
              "      height: 32px;\n",
              "      padding: 0 0 0 0;\n",
              "      width: 32px;\n",
              "    }\n",
              "\n",
              "    .colab-df-convert:hover {\n",
              "      background-color: #E2EBFA;\n",
              "      box-shadow: 0px 1px 2px rgba(60, 64, 67, 0.3), 0px 1px 3px 1px rgba(60, 64, 67, 0.15);\n",
              "      fill: #174EA6;\n",
              "    }\n",
              "\n",
              "    [theme=dark] .colab-df-convert {\n",
              "      background-color: #3B4455;\n",
              "      fill: #D2E3FC;\n",
              "    }\n",
              "\n",
              "    [theme=dark] .colab-df-convert:hover {\n",
              "      background-color: #434B5C;\n",
              "      box-shadow: 0px 1px 3px 1px rgba(0, 0, 0, 0.15);\n",
              "      filter: drop-shadow(0px 1px 2px rgba(0, 0, 0, 0.3));\n",
              "      fill: #FFFFFF;\n",
              "    }\n",
              "  </style>\n",
              "\n",
              "      <script>\n",
              "        const buttonEl =\n",
              "          document.querySelector('#df-02502831-60f5-4e1d-9ee3-b8b977fec212 button.colab-df-convert');\n",
              "        buttonEl.style.display =\n",
              "          google.colab.kernel.accessAllowed ? 'block' : 'none';\n",
              "\n",
              "        async function convertToInteractive(key) {\n",
              "          const element = document.querySelector('#df-02502831-60f5-4e1d-9ee3-b8b977fec212');\n",
              "          const dataTable =\n",
              "            await google.colab.kernel.invokeFunction('convertToInteractive',\n",
              "                                                     [key], {});\n",
              "          if (!dataTable) return;\n",
              "\n",
              "          const docLinkHtml = 'Like what you see? Visit the ' +\n",
              "            '<a target=\"_blank\" href=https://colab.research.google.com/notebooks/data_table.ipynb>data table notebook</a>'\n",
              "            + ' to learn more about interactive tables.';\n",
              "          element.innerHTML = '';\n",
              "          dataTable['output_type'] = 'display_data';\n",
              "          await google.colab.output.renderOutput(dataTable, element);\n",
              "          const docLink = document.createElement('div');\n",
              "          docLink.innerHTML = docLinkHtml;\n",
              "          element.appendChild(docLink);\n",
              "        }\n",
              "      </script>\n",
              "    </div>\n",
              "  </div>\n",
              "  "
            ]
          },
          "metadata": {},
          "execution_count": 6
        }
      ]
    },
    {
      "cell_type": "markdown",
      "source": [
        "## 1.Data Cleaning"
      ],
      "metadata": {
        "id": "nQVcXtg2PMXc"
      }
    },
    {
      "cell_type": "code",
      "source": [
        "airbnb.isnull().sum()"
      ],
      "metadata": {
        "colab": {
          "base_uri": "https://localhost:8080/"
        },
        "id": "4KgR5SrQmKJH",
        "outputId": "314044b8-4dff-4c3b-9090-5cfc6fed9c53"
      },
      "execution_count": 7,
      "outputs": [
        {
          "output_type": "execute_result",
          "data": {
            "text/plain": [
              "id                                    0\n",
              "name                                 16\n",
              "host_id                               0\n",
              "host_name                            21\n",
              "neighbourhood_group                   0\n",
              "neighbourhood                         0\n",
              "latitude                              0\n",
              "longitude                             0\n",
              "room_type                             0\n",
              "price                                 0\n",
              "minimum_nights                        0\n",
              "number_of_reviews                     0\n",
              "last_review                       10052\n",
              "reviews_per_month                 10052\n",
              "calculated_host_listings_count        0\n",
              "availability_365                      0\n",
              "dtype: int64"
            ]
          },
          "metadata": {},
          "execution_count": 7
        }
      ]
    },
    {
      "cell_type": "markdown",
      "source": [
        "### Handling Datetime\n",
        "`last_review` column has around 10K missing values, we can divide it to year, month and day and then fill each one separately."
      ],
      "metadata": {
        "id": "tKbTxkkEpeoP"
      }
    },
    {
      "cell_type": "code",
      "source": [
        "airbnb['last_review_year'] = airbnb['last_review'].dt.year\n",
        "airbnb['last_review_month'] = airbnb['last_review'].dt.month\n",
        "airbnb['last_review_day'] = airbnb['last_review'].dt.day"
      ],
      "metadata": {
        "id": "WOA21BJYqVWy"
      },
      "execution_count": 8,
      "outputs": []
    },
    {
      "cell_type": "code",
      "source": [
        "airbnb['last_review_year'].fillna(airbnb['last_review_year'].value_counts().index[0], inplace = True)\n",
        "airbnb['last_review_month'].fillna(airbnb['last_review_month'].value_counts().index[0], inplace = True)\n",
        "airbnb['last_review_day'].fillna(int(airbnb['last_review_day'].mean()), inplace = True)"
      ],
      "metadata": {
        "id": "bFSCrh5quSyO"
      },
      "execution_count": 9,
      "outputs": []
    },
    {
      "cell_type": "code",
      "source": [
        "airbnb = airbnb.astype({'last_review_year': 'int32', 'last_review_month':'int32', 'last_review_day':'int32'})"
      ],
      "metadata": {
        "id": "ryTNexEDPlES"
      },
      "execution_count": 10,
      "outputs": []
    },
    {
      "cell_type": "code",
      "source": [
        "airbnb.dtypes"
      ],
      "metadata": {
        "colab": {
          "base_uri": "https://localhost:8080/"
        },
        "id": "2HZ-n2f1QM0C",
        "outputId": "26be9ea2-e494-465d-dc2c-719d1a25644c"
      },
      "execution_count": 11,
      "outputs": [
        {
          "output_type": "execute_result",
          "data": {
            "text/plain": [
              "id                                         int64\n",
              "name                                      object\n",
              "host_id                                    int64\n",
              "host_name                                 object\n",
              "neighbourhood_group                       object\n",
              "neighbourhood                             object\n",
              "latitude                                 float64\n",
              "longitude                                float64\n",
              "room_type                                 object\n",
              "price                                      int64\n",
              "minimum_nights                             int64\n",
              "number_of_reviews                          int64\n",
              "last_review                       datetime64[ns]\n",
              "reviews_per_month                        float64\n",
              "calculated_host_listings_count             int64\n",
              "availability_365                           int64\n",
              "last_review_year                           int32\n",
              "last_review_month                          int32\n",
              "last_review_day                            int32\n",
              "dtype: object"
            ]
          },
          "metadata": {},
          "execution_count": 11
        }
      ]
    },
    {
      "cell_type": "markdown",
      "source": [
        "### Invalid Prices"
      ],
      "metadata": {
        "id": "o-IQC8iPwt1i"
      }
    },
    {
      "cell_type": "code",
      "source": [
        "airbnb.price.describe()"
      ],
      "metadata": {
        "colab": {
          "base_uri": "https://localhost:8080/"
        },
        "id": "3uhtNxgJ35vp",
        "outputId": "224badc6-b893-4299-e43d-700ac1e0bfe0"
      },
      "execution_count": 12,
      "outputs": [
        {
          "output_type": "execute_result",
          "data": {
            "text/plain": [
              "count    48895.000000\n",
              "mean       152.720687\n",
              "std        240.154170\n",
              "min          0.000000\n",
              "25%         69.000000\n",
              "50%        106.000000\n",
              "75%        175.000000\n",
              "max      10000.000000\n",
              "Name: price, dtype: float64"
            ]
          },
          "metadata": {},
          "execution_count": 12
        }
      ]
    },
    {
      "cell_type": "code",
      "source": [
        "airbnb.price.value_counts()[0]"
      ],
      "metadata": {
        "colab": {
          "base_uri": "https://localhost:8080/"
        },
        "id": "uCoEb7zpQb2t",
        "outputId": "370a94d9-16ae-47ef-aeea-cac6bbf0c516"
      },
      "execution_count": 13,
      "outputs": [
        {
          "output_type": "execute_result",
          "data": {
            "text/plain": [
              "11"
            ]
          },
          "metadata": {},
          "execution_count": 13
        }
      ]
    },
    {
      "cell_type": "markdown",
      "source": [
        "11 records has a price of 0, which makes no sense, so we drop these records."
      ],
      "metadata": {
        "id": "OLdOb_yyU_pF"
      }
    },
    {
      "cell_type": "code",
      "source": [
        "airbnb = airbnb[airbnb['price'] > 0]"
      ],
      "metadata": {
        "id": "2MRWgr4eUrhb"
      },
      "execution_count": 14,
      "outputs": []
    },
    {
      "cell_type": "markdown",
      "source": [
        "It seems some of hosts share the same name, and since `host_name` column has some NaN values, we can drop this column and identify hosts with their IDs. We won't need other features like `name`, `id` and `last_review` too, so it doesn't harm to drop them."
      ],
      "metadata": {
        "id": "MobMH-RMVwTG"
      }
    },
    {
      "cell_type": "code",
      "source": [
        "print(f'We have {airbnb.host_id.nunique()} unique host ids and {airbnb.host_name.nunique()} unique host names.')"
      ],
      "metadata": {
        "colab": {
          "base_uri": "https://localhost:8080/"
        },
        "id": "xAzxxWlhQtnn",
        "outputId": "71e7093c-8d2f-4676-91b2-43f5f45b5b93"
      },
      "execution_count": 15,
      "outputs": [
        {
          "output_type": "stream",
          "name": "stdout",
          "text": [
            "We have 37455 unique host ids and 11450 unique host names.\n"
          ]
        }
      ]
    },
    {
      "cell_type": "code",
      "source": [
        "airbnb = airbnb.drop(['id', 'name', 'host_name', 'last_review'], axis=1)"
      ],
      "metadata": {
        "id": "OhUZJXTgznMo"
      },
      "execution_count": 16,
      "outputs": []
    },
    {
      "cell_type": "code",
      "source": [
        "airbnb.info()"
      ],
      "metadata": {
        "colab": {
          "base_uri": "https://localhost:8080/"
        },
        "id": "Q-5rQi3vXQ55",
        "outputId": "f685b592-d521-4785-aab1-7c0dd339c0ea"
      },
      "execution_count": 17,
      "outputs": [
        {
          "output_type": "stream",
          "name": "stdout",
          "text": [
            "<class 'pandas.core.frame.DataFrame'>\n",
            "Int64Index: 48884 entries, 0 to 48894\n",
            "Data columns (total 15 columns):\n",
            " #   Column                          Non-Null Count  Dtype  \n",
            "---  ------                          --------------  -----  \n",
            " 0   host_id                         48884 non-null  int64  \n",
            " 1   neighbourhood_group             48884 non-null  object \n",
            " 2   neighbourhood                   48884 non-null  object \n",
            " 3   latitude                        48884 non-null  float64\n",
            " 4   longitude                       48884 non-null  float64\n",
            " 5   room_type                       48884 non-null  object \n",
            " 6   price                           48884 non-null  int64  \n",
            " 7   minimum_nights                  48884 non-null  int64  \n",
            " 8   number_of_reviews               48884 non-null  int64  \n",
            " 9   reviews_per_month               38833 non-null  float64\n",
            " 10  calculated_host_listings_count  48884 non-null  int64  \n",
            " 11  availability_365                48884 non-null  int64  \n",
            " 12  last_review_year                48884 non-null  int32  \n",
            " 13  last_review_month               48884 non-null  int32  \n",
            " 14  last_review_day                 48884 non-null  int32  \n",
            "dtypes: float64(3), int32(3), int64(6), object(3)\n",
            "memory usage: 5.4+ MB\n"
          ]
        }
      ]
    },
    {
      "cell_type": "code",
      "source": [
        "airbnb[['reviews_per_month', 'number_of_reviews']]"
      ],
      "metadata": {
        "colab": {
          "base_uri": "https://localhost:8080/",
          "height": 423
        },
        "id": "fVTsh5evK8RT",
        "outputId": "cafa75e7-68c4-491d-d0be-800e30baf344"
      },
      "execution_count": 18,
      "outputs": [
        {
          "output_type": "execute_result",
          "data": {
            "text/plain": [
              "       reviews_per_month  number_of_reviews\n",
              "0                   0.21                  9\n",
              "1                   0.38                 45\n",
              "2                    NaN                  0\n",
              "3                   4.64                270\n",
              "4                   0.10                  9\n",
              "...                  ...                ...\n",
              "48890                NaN                  0\n",
              "48891                NaN                  0\n",
              "48892                NaN                  0\n",
              "48893                NaN                  0\n",
              "48894                NaN                  0\n",
              "\n",
              "[48884 rows x 2 columns]"
            ],
            "text/html": [
              "\n",
              "  <div id=\"df-c8232894-de19-4ec9-8b09-f322dca27993\">\n",
              "    <div class=\"colab-df-container\">\n",
              "      <div>\n",
              "<style scoped>\n",
              "    .dataframe tbody tr th:only-of-type {\n",
              "        vertical-align: middle;\n",
              "    }\n",
              "\n",
              "    .dataframe tbody tr th {\n",
              "        vertical-align: top;\n",
              "    }\n",
              "\n",
              "    .dataframe thead th {\n",
              "        text-align: right;\n",
              "    }\n",
              "</style>\n",
              "<table border=\"1\" class=\"dataframe\">\n",
              "  <thead>\n",
              "    <tr style=\"text-align: right;\">\n",
              "      <th></th>\n",
              "      <th>reviews_per_month</th>\n",
              "      <th>number_of_reviews</th>\n",
              "    </tr>\n",
              "  </thead>\n",
              "  <tbody>\n",
              "    <tr>\n",
              "      <th>0</th>\n",
              "      <td>0.21</td>\n",
              "      <td>9</td>\n",
              "    </tr>\n",
              "    <tr>\n",
              "      <th>1</th>\n",
              "      <td>0.38</td>\n",
              "      <td>45</td>\n",
              "    </tr>\n",
              "    <tr>\n",
              "      <th>2</th>\n",
              "      <td>NaN</td>\n",
              "      <td>0</td>\n",
              "    </tr>\n",
              "    <tr>\n",
              "      <th>3</th>\n",
              "      <td>4.64</td>\n",
              "      <td>270</td>\n",
              "    </tr>\n",
              "    <tr>\n",
              "      <th>4</th>\n",
              "      <td>0.10</td>\n",
              "      <td>9</td>\n",
              "    </tr>\n",
              "    <tr>\n",
              "      <th>...</th>\n",
              "      <td>...</td>\n",
              "      <td>...</td>\n",
              "    </tr>\n",
              "    <tr>\n",
              "      <th>48890</th>\n",
              "      <td>NaN</td>\n",
              "      <td>0</td>\n",
              "    </tr>\n",
              "    <tr>\n",
              "      <th>48891</th>\n",
              "      <td>NaN</td>\n",
              "      <td>0</td>\n",
              "    </tr>\n",
              "    <tr>\n",
              "      <th>48892</th>\n",
              "      <td>NaN</td>\n",
              "      <td>0</td>\n",
              "    </tr>\n",
              "    <tr>\n",
              "      <th>48893</th>\n",
              "      <td>NaN</td>\n",
              "      <td>0</td>\n",
              "    </tr>\n",
              "    <tr>\n",
              "      <th>48894</th>\n",
              "      <td>NaN</td>\n",
              "      <td>0</td>\n",
              "    </tr>\n",
              "  </tbody>\n",
              "</table>\n",
              "<p>48884 rows × 2 columns</p>\n",
              "</div>\n",
              "      <button class=\"colab-df-convert\" onclick=\"convertToInteractive('df-c8232894-de19-4ec9-8b09-f322dca27993')\"\n",
              "              title=\"Convert this dataframe to an interactive table.\"\n",
              "              style=\"display:none;\">\n",
              "        \n",
              "  <svg xmlns=\"http://www.w3.org/2000/svg\" height=\"24px\"viewBox=\"0 0 24 24\"\n",
              "       width=\"24px\">\n",
              "    <path d=\"M0 0h24v24H0V0z\" fill=\"none\"/>\n",
              "    <path d=\"M18.56 5.44l.94 2.06.94-2.06 2.06-.94-2.06-.94-.94-2.06-.94 2.06-2.06.94zm-11 1L8.5 8.5l.94-2.06 2.06-.94-2.06-.94L8.5 2.5l-.94 2.06-2.06.94zm10 10l.94 2.06.94-2.06 2.06-.94-2.06-.94-.94-2.06-.94 2.06-2.06.94z\"/><path d=\"M17.41 7.96l-1.37-1.37c-.4-.4-.92-.59-1.43-.59-.52 0-1.04.2-1.43.59L10.3 9.45l-7.72 7.72c-.78.78-.78 2.05 0 2.83L4 21.41c.39.39.9.59 1.41.59.51 0 1.02-.2 1.41-.59l7.78-7.78 2.81-2.81c.8-.78.8-2.07 0-2.86zM5.41 20L4 18.59l7.72-7.72 1.47 1.35L5.41 20z\"/>\n",
              "  </svg>\n",
              "      </button>\n",
              "      \n",
              "  <style>\n",
              "    .colab-df-container {\n",
              "      display:flex;\n",
              "      flex-wrap:wrap;\n",
              "      gap: 12px;\n",
              "    }\n",
              "\n",
              "    .colab-df-convert {\n",
              "      background-color: #E8F0FE;\n",
              "      border: none;\n",
              "      border-radius: 50%;\n",
              "      cursor: pointer;\n",
              "      display: none;\n",
              "      fill: #1967D2;\n",
              "      height: 32px;\n",
              "      padding: 0 0 0 0;\n",
              "      width: 32px;\n",
              "    }\n",
              "\n",
              "    .colab-df-convert:hover {\n",
              "      background-color: #E2EBFA;\n",
              "      box-shadow: 0px 1px 2px rgba(60, 64, 67, 0.3), 0px 1px 3px 1px rgba(60, 64, 67, 0.15);\n",
              "      fill: #174EA6;\n",
              "    }\n",
              "\n",
              "    [theme=dark] .colab-df-convert {\n",
              "      background-color: #3B4455;\n",
              "      fill: #D2E3FC;\n",
              "    }\n",
              "\n",
              "    [theme=dark] .colab-df-convert:hover {\n",
              "      background-color: #434B5C;\n",
              "      box-shadow: 0px 1px 3px 1px rgba(0, 0, 0, 0.15);\n",
              "      filter: drop-shadow(0px 1px 2px rgba(0, 0, 0, 0.3));\n",
              "      fill: #FFFFFF;\n",
              "    }\n",
              "  </style>\n",
              "\n",
              "      <script>\n",
              "        const buttonEl =\n",
              "          document.querySelector('#df-c8232894-de19-4ec9-8b09-f322dca27993 button.colab-df-convert');\n",
              "        buttonEl.style.display =\n",
              "          google.colab.kernel.accessAllowed ? 'block' : 'none';\n",
              "\n",
              "        async function convertToInteractive(key) {\n",
              "          const element = document.querySelector('#df-c8232894-de19-4ec9-8b09-f322dca27993');\n",
              "          const dataTable =\n",
              "            await google.colab.kernel.invokeFunction('convertToInteractive',\n",
              "                                                     [key], {});\n",
              "          if (!dataTable) return;\n",
              "\n",
              "          const docLinkHtml = 'Like what you see? Visit the ' +\n",
              "            '<a target=\"_blank\" href=https://colab.research.google.com/notebooks/data_table.ipynb>data table notebook</a>'\n",
              "            + ' to learn more about interactive tables.';\n",
              "          element.innerHTML = '';\n",
              "          dataTable['output_type'] = 'display_data';\n",
              "          await google.colab.output.renderOutput(dataTable, element);\n",
              "          const docLink = document.createElement('div');\n",
              "          docLink.innerHTML = docLinkHtml;\n",
              "          element.appendChild(docLink);\n",
              "        }\n",
              "      </script>\n",
              "    </div>\n",
              "  </div>\n",
              "  "
            ]
          },
          "metadata": {},
          "execution_count": 18
        }
      ]
    },
    {
      "cell_type": "markdown",
      "source": [
        "### Filling Missing Values\n",
        "Let's fill the NaN values for `reviews_per_month` column with 0.\n"
      ],
      "metadata": {
        "id": "_RZPY1EkuUG8"
      }
    },
    {
      "cell_type": "code",
      "source": [
        "airbnb.reviews_per_month.fillna(0, inplace=True)"
      ],
      "metadata": {
        "id": "tyQWyX9bvoob"
      },
      "execution_count": 19,
      "outputs": []
    },
    {
      "cell_type": "code",
      "source": [
        "print(f'There are {airbnb.isnull().sum().values.sum()} missing values left in dataset.')"
      ],
      "metadata": {
        "colab": {
          "base_uri": "https://localhost:8080/"
        },
        "id": "oZhpa7gZzDLN",
        "outputId": "ecd87e09-8d96-4ec0-fdf9-1acb045a6489"
      },
      "execution_count": 20,
      "outputs": [
        {
          "output_type": "stream",
          "name": "stdout",
          "text": [
            "There are 0 missing values left in dataset.\n"
          ]
        }
      ]
    },
    {
      "cell_type": "markdown",
      "source": [
        "### Deleting Outliers\n"
      ],
      "metadata": {
        "id": "87nM8nZfYnJh"
      }
    },
    {
      "cell_type": "code",
      "source": [
        "airbnb['price'].plot()"
      ],
      "metadata": {
        "colab": {
          "base_uri": "https://localhost:8080/",
          "height": 283
        },
        "id": "WzTqvlPJP3e6",
        "outputId": "0f2b4e67-8b02-4b9a-d4db-99689f04b071"
      },
      "execution_count": 21,
      "outputs": [
        {
          "output_type": "execute_result",
          "data": {
            "text/plain": [
              "<matplotlib.axes._subplots.AxesSubplot at 0x7ff523ea0d90>"
            ]
          },
          "metadata": {},
          "execution_count": 21
        },
        {
          "output_type": "display_data",
          "data": {
            "text/plain": [
              "<Figure size 432x288 with 1 Axes>"
            ],
            "image/png": "[encoded data removed]"
          },
          "metadata": {
            "needs_background": "light"
          }
        }
      ]
    },
    {
      "cell_type": "code",
      "source": [
        "all_len = len(airbnb)\n",
        "for cols in airbnb.columns:\n",
        "    if airbnb[cols].dtype == 'int64' or airbnb[cols].dtype == 'float64':\n",
        "        upper_range = airbnb[cols].mean() + 3 * airbnb[cols].std()\n",
        "        lower_range = airbnb[cols].mean() - 3 * airbnb[cols].std()\n",
        "        \n",
        "        indexs = airbnb[(airbnb[cols] > upper_range) | (airbnb[cols] < lower_range)].index\n",
        "        airbnb = airbnb.drop(indexs)\n",
        "print(f'{all_len - len(airbnb)} records where dropped. Now we have {len(airbnb)} records.')"
      ],
      "metadata": {
        "colab": {
          "base_uri": "https://localhost:8080/"
        },
        "id": "5aiUtKI0XVWQ",
        "outputId": "05895a75-d67a-4d8b-a9a1-f443a3a6a755"
      },
      "execution_count": 22,
      "outputs": [
        {
          "output_type": "stream",
          "name": "stdout",
          "text": [
            "4772 records where dropped. Now we have 44112 records.\n"
          ]
        }
      ]
    },
    {
      "cell_type": "code",
      "source": [
        "airbnb['price'].plot()"
      ],
      "metadata": {
        "colab": {
          "base_uri": "https://localhost:8080/",
          "height": 283
        },
        "id": "8n6951oqP7R-",
        "outputId": "dc89c3b9-80b2-4adb-c43d-4827cd5e683a"
      },
      "execution_count": 23,
      "outputs": [
        {
          "output_type": "execute_result",
          "data": {
            "text/plain": [
              "<matplotlib.axes._subplots.AxesSubplot at 0x7ff523de8190>"
            ]
          },
          "metadata": {},
          "execution_count": 23
        },
        {
          "output_type": "display_data",
          "data": {
            "text/plain": [
              "<Figure size 432x288 with 1 Axes>"
            ],
            "image/png": "[encoded data removed]"
          },
          "metadata": {
            "needs_background": "light"
          }
        }
      ]
    },
    {
      "cell_type": "markdown",
      "source": [
        "## 2.Visualizations"
      ],
      "metadata": {
        "id": "gFZl-uJLPDQk"
      }
    },
    {
      "cell_type": "markdown",
      "source": [
        "Let's see the number of ads by `neighbourhood_group`. We can see that most of the ads belong to **Manhattan** & **Brooklyn**. So during one-hot encoding we can consider **Queens**, **Bronx** & **Staten Island** as **Others** to reduce features. On the other hand, `neighbourhood` feature has much more unique values, with One-Hot Encoding we end up having so many features. "
      ],
      "metadata": {
        "id": "52SZBRw1EtJ4"
      }
    },
    {
      "cell_type": "code",
      "source": [
        "print(f'There are {airbnb.neighbourhood_group.nunique()} unique values for neighbourhood column.')\n",
        "airbnb['neighbourhood_group'].value_counts()"
      ],
      "metadata": {
        "colab": {
          "base_uri": "https://localhost:8080/"
        },
        "id": "Ftie92VHpf7W",
        "outputId": "fdc3a334-1cd0-4c56-9393-ea437646c142"
      },
      "execution_count": 24,
      "outputs": [
        {
          "output_type": "stream",
          "name": "stdout",
          "text": [
            "There are 5 unique values for neighbourhood column.\n"
          ]
        },
        {
          "output_type": "execute_result",
          "data": {
            "text/plain": [
              "Manhattan        19651\n",
              "Brooklyn         19059\n",
              "Queens            4279\n",
              "Bronx              955\n",
              "Staten Island      168\n",
              "Name: neighbourhood_group, dtype: int64"
            ]
          },
          "metadata": {},
          "execution_count": 24
        }
      ]
    },
    {
      "cell_type": "code",
      "source": [
        "print(f'{round(airbnb.neighbourhood_group.value_counts().values[:2].sum() * 100 / len(airbnb))}% of ads are for Brooklyn and Manhattan area.')"
      ],
      "metadata": {
        "colab": {
          "base_uri": "https://localhost:8080/"
        },
        "id": "cnn67c37M34S",
        "outputId": "c2394c5a-27f8-42de-d6aa-6510761b39b0"
      },
      "execution_count": 25,
      "outputs": [
        {
          "output_type": "stream",
          "name": "stdout",
          "text": [
            "88% of ads are for Brooklyn and Manhattan area.\n"
          ]
        }
      ]
    },
    {
      "cell_type": "code",
      "source": [
        "sns.countplot(x=airbnb['neighbourhood_group'])\n",
        "plt.title('Neighbourhood Group')"
      ],
      "metadata": {
        "colab": {
          "base_uri": "https://localhost:8080/",
          "height": 314
        },
        "id": "KRs9m45gY6kK",
        "outputId": "f9c82052-65bd-472d-f604-69aaeccc2854"
      },
      "execution_count": 26,
      "outputs": [
        {
          "output_type": "execute_result",
          "data": {
            "text/plain": [
              "Text(0.5, 1.0, 'Neighbourhood Group')"
            ]
          },
          "metadata": {},
          "execution_count": 26
        },
        {
          "output_type": "display_data",
          "data": {
            "text/plain": [
              "<Figure size 432x288 with 1 Axes>"
            ],
            "image/png": "[encoded data removed]"
          },
          "metadata": {
            "needs_background": "light"
          }
        }
      ]
    },
    {
      "cell_type": "code",
      "source": [
        "print(f'There are {airbnb.neighbourhood.nunique()} unique values for neighbourhood column.')\n",
        "airbnb['neighbourhood'].value_counts()"
      ],
      "metadata": {
        "colab": {
          "base_uri": "https://localhost:8080/"
        },
        "id": "nc2fcaQns_I8",
        "outputId": "517cb635-d41e-4d5c-ac3e-2da0d87b09ff"
      },
      "execution_count": 27,
      "outputs": [
        {
          "output_type": "stream",
          "name": "stdout",
          "text": [
            "There are 168 unique values for neighbourhood column.\n"
          ]
        },
        {
          "output_type": "execute_result",
          "data": {
            "text/plain": [
              "Williamsburg          3718\n",
              "Bedford-Stuyvesant    3479\n",
              "Harlem                2515\n",
              "Bushwick              2344\n",
              "Upper West Side       1829\n",
              "                      ... \n",
              "West Farms               2\n",
              "Dongan Hills             1\n",
              "Fort Wadsworth           1\n",
              "Woodlawn                 1\n",
              "Grymes Hill              1\n",
              "Name: neighbourhood, Length: 168, dtype: int64"
            ]
          },
          "metadata": {},
          "execution_count": 27
        }
      ]
    },
    {
      "cell_type": "code",
      "source": [
        "sns.countplot(x=airbnb['neighbourhood'], order=airbnb['neighbourhood'].value_counts().iloc[:10].index)\n",
        "fig = plt.gcf()\n",
        "fig.set_size_inches(15, 5)\n",
        "plt.title('Neighbourhood')"
      ],
      "metadata": {
        "colab": {
          "base_uri": "https://localhost:8080/",
          "height": 368
        },
        "id": "IicI9ulFptqK",
        "outputId": "f37746c5-3b71-4c0f-a9cc-93d48764035e"
      },
      "execution_count": 28,
      "outputs": [
        {
          "output_type": "execute_result",
          "data": {
            "text/plain": [
              "Text(0.5, 1.0, 'Neighbourhood')"
            ]
          },
          "metadata": {},
          "execution_count": 28
        },
        {
          "output_type": "display_data",
          "data": {
            "text/plain": [
              "<Figure size 1080x360 with 1 Axes>"
            ],
            "image/png": "[encoded data removed]"
          },
          "metadata": {
            "needs_background": "light"
          }
        }
      ]
    },
    {
      "cell_type": "code",
      "source": [
        "sns.countplot(x=airbnb['room_type'])\n",
        "plt.title('Room Type')"
      ],
      "metadata": {
        "colab": {
          "base_uri": "https://localhost:8080/",
          "height": 314
        },
        "id": "ONm0yrKyIPJ3",
        "outputId": "4b19f234-cf42-4a5f-f92f-bf2f8d3058f8"
      },
      "execution_count": 29,
      "outputs": [
        {
          "output_type": "execute_result",
          "data": {
            "text/plain": [
              "Text(0.5, 1.0, 'Room Type')"
            ]
          },
          "metadata": {},
          "execution_count": 29
        },
        {
          "output_type": "display_data",
          "data": {
            "text/plain": [
              "<Figure size 432x288 with 1 Axes>"
            ],
            "image/png": "[encoded data removed]"
          },
          "metadata": {
            "needs_background": "light"
          }
        }
      ]
    },
    {
      "cell_type": "code",
      "source": [
        "plt.figure(figsize=(10,10))\n",
        "ax = sns.boxplot(data=airbnb, x='neighbourhood_group', y='price')"
      ],
      "metadata": {
        "colab": {
          "base_uri": "https://localhost:8080/",
          "height": 606
        },
        "id": "exXwj9b5-Y_a",
        "outputId": "03c19732-f273-4c74-8550-49c2420443fd"
      },
      "execution_count": 30,
      "outputs": [
        {
          "output_type": "display_data",
          "data": {
            "text/plain": [
              "<Figure size 720x720 with 1 Axes>"
            ],
            "image/png": "[encoded data removed]"
          },
          "metadata": {
            "needs_background": "light"
          }
        }
      ]
    },
    {
      "cell_type": "code",
      "source": [
        "corr = airbnb.corr()\n",
        "plt.figure(figsize=(18,12))\n",
        "sns.heatmap(corr, annot=True)"
      ],
      "metadata": {
        "colab": {
          "base_uri": "https://localhost:8080/",
          "height": 864
        },
        "id": "b4SODw0PO9Wk",
        "outputId": "91731f01-5f02-408d-ca01-c92f90fd2cf8"
      },
      "execution_count": 31,
      "outputs": [
        {
          "output_type": "execute_result",
          "data": {
            "text/plain": [
              "<matplotlib.axes._subplots.AxesSubplot at 0x7ff5252e87d0>"
            ]
          },
          "metadata": {},
          "execution_count": 31
        },
        {
          "output_type": "display_data",
          "data": {
            "text/plain": [
              "<Figure size 1296x864 with 2 Axes>"
            ],
            "image/png": "[encoded data removed]"
          },
          "metadata": {
            "needs_background": "light"
          }
        }
      ]
    },
    {
      "cell_type": "markdown",
      "source": [
        "## 3.Active owners"
      ],
      "metadata": {
        "id": "LsXYhy6YPU-w"
      }
    },
    {
      "cell_type": "code",
      "source": [
        "sns.countplot(x=airbnb['host_id'], order=airbnb['host_id'].value_counts().iloc[:15].index)\n",
        "fig = plt.gcf()\n",
        "fig.set_size_inches(20, 5)\n",
        "plt.title('Ads per Host_ID')"
      ],
      "metadata": {
        "colab": {
          "base_uri": "https://localhost:8080/",
          "height": 369
        },
        "id": "88NOSr7lDjVW",
        "outputId": "ee931222-782e-4a51-ea78-ac0ffb70677b"
      },
      "execution_count": 32,
      "outputs": [
        {
          "output_type": "execute_result",
          "data": {
            "text/plain": [
              "Text(0.5, 1.0, 'Ads per Host_ID')"
            ]
          },
          "metadata": {},
          "execution_count": 32
        },
        {
          "output_type": "display_data",
          "data": {
            "text/plain": [
              "<Figure size 1440x360 with 1 Axes>"
            ],
            "image/png": "[encoded data removed]"
          },
          "metadata": {
            "needs_background": "light"
          }
        }
      ]
    },
    {
      "cell_type": "code",
      "source": [
        "hosts = airbnb['host_id'].value_counts()[:10]\n",
        "hosts = pd.DataFrame(data={'host_id':list(hosts.index), 'unique_ads':hosts.values})"
      ],
      "metadata": {
        "id": "qoiCKQGD6VA0"
      },
      "execution_count": 33,
      "outputs": []
    },
    {
      "cell_type": "code",
      "source": [
        "hosts['unique_places'] = hosts['host_id'].apply(lambda row: airbnb[airbnb['host_id']==row]['latitude'].nunique())\n",
        "hosts['unique_neighbourhoods'] = hosts['host_id'].apply(lambda row: airbnb[airbnb['host_id']==row]['neighbourhood'].nunique())\n",
        "hosts['manhattan_ads'] = hosts['host_id'].apply(lambda row: airbnb[(airbnb['host_id']==row) & (airbnb['neighbourhood_group'] == 'Manhattan')].shape[0])\n",
        "hosts['brooklyn_ads'] = hosts['host_id'].apply(lambda row: airbnb[(airbnb['host_id']==row) & (airbnb['neighbourhood_group'] == 'Brooklyn')].shape[0])\n",
        "hosts['queens_ads'] = hosts['host_id'].apply(lambda row: airbnb[(airbnb['host_id']==row) & (airbnb['neighbourhood_group'] == 'Queens')].shape[0])\n",
        "hosts['bronx_ads'] = hosts['host_id'].apply(lambda row: airbnb[(airbnb['host_id']==row) & (airbnb['neighbourhood_group'] == 'Bronx')].shape[0])\n",
        "hosts['staten_island_ads'] = hosts['host_id'].apply(lambda row: airbnb[(airbnb['host_id']==row) & (airbnb['neighbourhood_group'] == 'Staten Island')].shape[0])"
      ],
      "metadata": {
        "id": "54RBQe9xW-Xc"
      },
      "execution_count": 34,
      "outputs": []
    },
    {
      "cell_type": "code",
      "source": [
        "hosts"
      ],
      "metadata": {
        "colab": {
          "base_uri": "https://localhost:8080/",
          "height": 363
        },
        "id": "pZ1wpoHWYqA2",
        "outputId": "f6ed7add-c5b7-4d28-dff9-28928195a70d"
      },
      "execution_count": 35,
      "outputs": [
        {
          "output_type": "execute_result",
          "data": {
            "text/plain": [
              "     host_id  unique_ads  unique_places  unique_neighbourhoods  manhattan_ads  \\\n",
              "0  137358866         103            101                     10             18   \n",
              "1   12243051          96             91                      5             96   \n",
              "2   16098958          96             96                     10             96   \n",
              "3   61391963          91             90                     10             91   \n",
              "4   22541573          87             83                     14             86   \n",
              "5  200380610          63             63                     11             63   \n",
              "6    1475015          52             50                      9             52   \n",
              "7    7503643          52             47                      1              0   \n",
              "8  120762452          50             42                      1             50   \n",
              "9    2856748          48             47                     10             48   \n",
              "\n",
              "   brooklyn_ads  queens_ads  bronx_ads  staten_island_ads  \n",
              "0             6          79          0                  0  \n",
              "1             0           0          0                  0  \n",
              "2             0           0          0                  0  \n",
              "3             0           0          0                  0  \n",
              "4             1           0          0                  0  \n",
              "5             0           0          0                  0  \n",
              "6             0           0          0                  0  \n",
              "7            52           0          0                  0  \n",
              "8             0           0          0                  0  \n",
              "9             0           0          0                  0  "
            ],
            "text/html": [
              "\n",
              "  <div id=\"df-4366d2a9-df6e-4d1e-af62-e799351870b6\">\n",
              "    <div class=\"colab-df-container\">\n",
              "      <div>\n",
              "<style scoped>\n",
              "    .dataframe tbody tr th:only-of-type {\n",
              "        vertical-align: middle;\n",
              "    }\n",
              "\n",
              "    .dataframe tbody tr th {\n",
              "        vertical-align: top;\n",
              "    }\n",
              "\n",
              "    .dataframe thead th {\n",
              "        text-align: right;\n",
              "    }\n",
              "</style>\n",
              "<table border=\"1\" class=\"dataframe\">\n",
              "  <thead>\n",
              "    <tr style=\"text-align: right;\">\n",
              "      <th></th>\n",
              "      <th>host_id</th>\n",
              "      <th>unique_ads</th>\n",
              "      <th>unique_places</th>\n",
              "      <th>unique_neighbourhoods</th>\n",
              "      <th>manhattan_ads</th>\n",
              "      <th>brooklyn_ads</th>\n",
              "      <th>queens_ads</th>\n",
              "      <th>bronx_ads</th>\n",
              "      <th>staten_island_ads</th>\n",
              "    </tr>\n",
              "  </thead>\n",
              "  <tbody>\n",
              "    <tr>\n",
              "      <th>0</th>\n",
              "      <td>137358866</td>\n",
              "      <td>103</td>\n",
              "      <td>101</td>\n",
              "      <td>10</td>\n",
              "      <td>18</td>\n",
              "      <td>6</td>\n",
              "      <td>79</td>\n",
              "      <td>0</td>\n",
              "      <td>0</td>\n",
              "    </tr>\n",
              "    <tr>\n",
              "      <th>1</th>\n",
              "      <td>12243051</td>\n",
              "      <td>96</td>\n",
              "      <td>91</td>\n",
              "      <td>5</td>\n",
              "      <td>96</td>\n",
              "      <td>0</td>\n",
              "      <td>0</td>\n",
              "      <td>0</td>\n",
              "      <td>0</td>\n",
              "    </tr>\n",
              "    <tr>\n",
              "      <th>2</th>\n",
              "      <td>16098958</td>\n",
              "      <td>96</td>\n",
              "      <td>96</td>\n",
              "      <td>10</td>\n",
              "      <td>96</td>\n",
              "      <td>0</td>\n",
              "      <td>0</td>\n",
              "      <td>0</td>\n",
              "      <td>0</td>\n",
              "    </tr>\n",
              "    <tr>\n",
              "      <th>3</th>\n",
              "      <td>61391963</td>\n",
              "      <td>91</td>\n",
              "      <td>90</td>\n",
              "      <td>10</td>\n",
              "      <td>91</td>\n",
              "      <td>0</td>\n",
              "      <td>0</td>\n",
              "      <td>0</td>\n",
              "      <td>0</td>\n",
              "    </tr>\n",
              "    <tr>\n",
              "      <th>4</th>\n",
              "      <td>22541573</td>\n",
              "      <td>87</td>\n",
              "      <td>83</td>\n",
              "      <td>14</td>\n",
              "      <td>86</td>\n",
              "      <td>1</td>\n",
              "      <td>0</td>\n",
              "      <td>0</td>\n",
              "      <td>0</td>\n",
              "    </tr>\n",
              "    <tr>\n",
              "      <th>5</th>\n",
              "      <td>200380610</td>\n",
              "      <td>63</td>\n",
              "      <td>63</td>\n",
              "      <td>11</td>\n",
              "      <td>63</td>\n",
              "      <td>0</td>\n",
              "      <td>0</td>\n",
              "      <td>0</td>\n",
              "      <td>0</td>\n",
              "    </tr>\n",
              "    <tr>\n",
              "      <th>6</th>\n",
              "      <td>1475015</td>\n",
              "      <td>52</td>\n",
              "      <td>50</td>\n",
              "      <td>9</td>\n",
              "      <td>52</td>\n",
              "      <td>0</td>\n",
              "      <td>0</td>\n",
              "      <td>0</td>\n",
              "      <td>0</td>\n",
              "    </tr>\n",
              "    <tr>\n",
              "      <th>7</th>\n",
              "      <td>7503643</td>\n",
              "      <td>52</td>\n",
              "      <td>47</td>\n",
              "      <td>1</td>\n",
              "      <td>0</td>\n",
              "      <td>52</td>\n",
              "      <td>0</td>\n",
              "      <td>0</td>\n",
              "      <td>0</td>\n",
              "    </tr>\n",
              "    <tr>\n",
              "      <th>8</th>\n",
              "      <td>120762452</td>\n",
              "      <td>50</td>\n",
              "      <td>42</td>\n",
              "      <td>1</td>\n",
              "      <td>50</td>\n",
              "      <td>0</td>\n",
              "      <td>0</td>\n",
              "      <td>0</td>\n",
              "      <td>0</td>\n",
              "    </tr>\n",
              "    <tr>\n",
              "      <th>9</th>\n",
              "      <td>2856748</td>\n",
              "      <td>48</td>\n",
              "      <td>47</td>\n",
              "      <td>10</td>\n",
              "      <td>48</td>\n",
              "      <td>0</td>\n",
              "      <td>0</td>\n",
              "      <td>0</td>\n",
              "      <td>0</td>\n",
              "    </tr>\n",
              "  </tbody>\n",
              "</table>\n",
              "</div>\n",
              "      <button class=\"colab-df-convert\" onclick=\"convertToInteractive('df-4366d2a9-df6e-4d1e-af62-e799351870b6')\"\n",
              "              title=\"Convert this dataframe to an interactive table.\"\n",
              "              style=\"display:none;\">\n",
              "        \n",
              "  <svg xmlns=\"http://www.w3.org/2000/svg\" height=\"24px\"viewBox=\"0 0 24 24\"\n",
              "       width=\"24px\">\n",
              "    <path d=\"M0 0h24v24H0V0z\" fill=\"none\"/>\n",
              "    <path d=\"M18.56 5.44l.94 2.06.94-2.06 2.06-.94-2.06-.94-.94-2.06-.94 2.06-2.06.94zm-11 1L8.5 8.5l.94-2.06 2.06-.94-2.06-.94L8.5 2.5l-.94 2.06-2.06.94zm10 10l.94 2.06.94-2.06 2.06-.94-2.06-.94-.94-2.06-.94 2.06-2.06.94z\"/><path d=\"M17.41 7.96l-1.37-1.37c-.4-.4-.92-.59-1.43-.59-.52 0-1.04.2-1.43.59L10.3 9.45l-7.72 7.72c-.78.78-.78 2.05 0 2.83L4 21.41c.39.39.9.59 1.41.59.51 0 1.02-.2 1.41-.59l7.78-7.78 2.81-2.81c.8-.78.8-2.07 0-2.86zM5.41 20L4 18.59l7.72-7.72 1.47 1.35L5.41 20z\"/>\n",
              "  </svg>\n",
              "      </button>\n",
              "      \n",
              "  <style>\n",
              "    .colab-df-container {\n",
              "      display:flex;\n",
              "      flex-wrap:wrap;\n",
              "      gap: 12px;\n",
              "    }\n",
              "\n",
              "    .colab-df-convert {\n",
              "      background-color: #E8F0FE;\n",
              "      border: none;\n",
              "      border-radius: 50%;\n",
              "      cursor: pointer;\n",
              "      display: none;\n",
              "      fill: #1967D2;\n",
              "      height: 32px;\n",
              "      padding: 0 0 0 0;\n",
              "      width: 32px;\n",
              "    }\n",
              "\n",
              "    .colab-df-convert:hover {\n",
              "      background-color: #E2EBFA;\n",
              "      box-shadow: 0px 1px 2px rgba(60, 64, 67, 0.3), 0px 1px 3px 1px rgba(60, 64, 67, 0.15);\n",
              "      fill: #174EA6;\n",
              "    }\n",
              "\n",
              "    [theme=dark] .colab-df-convert {\n",
              "      background-color: #3B4455;\n",
              "      fill: #D2E3FC;\n",
              "    }\n",
              "\n",
              "    [theme=dark] .colab-df-convert:hover {\n",
              "      background-color: #434B5C;\n",
              "      box-shadow: 0px 1px 3px 1px rgba(0, 0, 0, 0.15);\n",
              "      filter: drop-shadow(0px 1px 2px rgba(0, 0, 0, 0.3));\n",
              "      fill: #FFFFFF;\n",
              "    }\n",
              "  </style>\n",
              "\n",
              "      <script>\n",
              "        const buttonEl =\n",
              "          document.querySelector('#df-4366d2a9-df6e-4d1e-af62-e799351870b6 button.colab-df-convert');\n",
              "        buttonEl.style.display =\n",
              "          google.colab.kernel.accessAllowed ? 'block' : 'none';\n",
              "\n",
              "        async function convertToInteractive(key) {\n",
              "          const element = document.querySelector('#df-4366d2a9-df6e-4d1e-af62-e799351870b6');\n",
              "          const dataTable =\n",
              "            await google.colab.kernel.invokeFunction('convertToInteractive',\n",
              "                                                     [key], {});\n",
              "          if (!dataTable) return;\n",
              "\n",
              "          const docLinkHtml = 'Like what you see? Visit the ' +\n",
              "            '<a target=\"_blank\" href=https://colab.research.google.com/notebooks/data_table.ipynb>data table notebook</a>'\n",
              "            + ' to learn more about interactive tables.';\n",
              "          element.innerHTML = '';\n",
              "          dataTable['output_type'] = 'display_data';\n",
              "          await google.colab.output.renderOutput(dataTable, element);\n",
              "          const docLink = document.createElement('div');\n",
              "          docLink.innerHTML = docLinkHtml;\n",
              "          element.appendChild(docLink);\n",
              "        }\n",
              "      </script>\n",
              "    </div>\n",
              "  </div>\n",
              "  "
            ]
          },
          "metadata": {},
          "execution_count": 35
        }
      ]
    },
    {
      "cell_type": "code",
      "source": [
        "top = list(airbnb['neighbourhood_group'].value_counts().head(2).index)\n",
        "def edit_neighbourhood_group(x):\n",
        "    if x not in top:\n",
        "        return 'other'\n",
        "    else:\n",
        "        return x\n",
        "\n",
        "airbnb['neighbourhood_group'] = airbnb['neighbourhood_group'].apply(edit_neighbourhood_group)\n",
        "airbnb['neighbourhood_group'].value_counts()*100 / len(airbnb)"
      ],
      "metadata": {
        "colab": {
          "base_uri": "https://localhost:8080/"
        },
        "id": "OSjxW10oTRVO",
        "outputId": "6477cbef-238b-40ce-9a76-50a4fab04595"
      },
      "execution_count": 36,
      "outputs": [
        {
          "output_type": "execute_result",
          "data": {
            "text/plain": [
              "Manhattan    44.547969\n",
              "Brooklyn     43.205930\n",
              "other        12.246101\n",
              "Name: neighbourhood_group, dtype: float64"
            ]
          },
          "metadata": {},
          "execution_count": 36
        }
      ]
    },
    {
      "cell_type": "markdown",
      "source": [
        "## 4.Reviews as customer's count"
      ],
      "metadata": {
        "id": "evbXBBa3O0fY"
      }
    },
    {
      "cell_type": "code",
      "source": [
        "airbnb.groupby(['host_id']).agg({'number_of_reviews': 'sum'}).sort_values(by=['number_of_reviews'], ascending=False)[:10]"
      ],
      "metadata": {
        "colab": {
          "base_uri": "https://localhost:8080/",
          "height": 394
        },
        "id": "vgR8S4vTUv1n",
        "outputId": "5dcaa0a8-6c82-4caa-cfd4-c2d06f2fd53f"
      },
      "execution_count": 37,
      "outputs": [
        {
          "output_type": "execute_result",
          "data": {
            "text/plain": [
              "          number_of_reviews\n",
              "host_id                    \n",
              "6885157                1184\n",
              "417504                  935\n",
              "31304940                818\n",
              "16677326                818\n",
              "17555570                805\n",
              "17638424                756\n",
              "65809485                752\n",
              "22384027                744\n",
              "45416627                727\n",
              "69427329                692"
            ],
            "text/html": [
              "\n",
              "  <div id=\"df-de8af2e5-6a1d-46f4-82cb-50b5defc109b\">\n",
              "    <div class=\"colab-df-container\">\n",
              "      <div>\n",
              "<style scoped>\n",
              "    .dataframe tbody tr th:only-of-type {\n",
              "        vertical-align: middle;\n",
              "    }\n",
              "\n",
              "    .dataframe tbody tr th {\n",
              "        vertical-align: top;\n",
              "    }\n",
              "\n",
              "    .dataframe thead th {\n",
              "        text-align: right;\n",
              "    }\n",
              "</style>\n",
              "<table border=\"1\" class=\"dataframe\">\n",
              "  <thead>\n",
              "    <tr style=\"text-align: right;\">\n",
              "      <th></th>\n",
              "      <th>number_of_reviews</th>\n",
              "    </tr>\n",
              "    <tr>\n",
              "      <th>host_id</th>\n",
              "      <th></th>\n",
              "    </tr>\n",
              "  </thead>\n",
              "  <tbody>\n",
              "    <tr>\n",
              "      <th>6885157</th>\n",
              "      <td>1184</td>\n",
              "    </tr>\n",
              "    <tr>\n",
              "      <th>417504</th>\n",
              "      <td>935</td>\n",
              "    </tr>\n",
              "    <tr>\n",
              "      <th>31304940</th>\n",
              "      <td>818</td>\n",
              "    </tr>\n",
              "    <tr>\n",
              "      <th>16677326</th>\n",
              "      <td>818</td>\n",
              "    </tr>\n",
              "    <tr>\n",
              "      <th>17555570</th>\n",
              "      <td>805</td>\n",
              "    </tr>\n",
              "    <tr>\n",
              "      <th>17638424</th>\n",
              "      <td>756</td>\n",
              "    </tr>\n",
              "    <tr>\n",
              "      <th>65809485</th>\n",
              "      <td>752</td>\n",
              "    </tr>\n",
              "    <tr>\n",
              "      <th>22384027</th>\n",
              "      <td>744</td>\n",
              "    </tr>\n",
              "    <tr>\n",
              "      <th>45416627</th>\n",
              "      <td>727</td>\n",
              "    </tr>\n",
              "    <tr>\n",
              "      <th>69427329</th>\n",
              "      <td>692</td>\n",
              "    </tr>\n",
              "  </tbody>\n",
              "</table>\n",
              "</div>\n",
              "      <button class=\"colab-df-convert\" onclick=\"convertToInteractive('df-de8af2e5-6a1d-46f4-82cb-50b5defc109b')\"\n",
              "              title=\"Convert this dataframe to an interactive table.\"\n",
              "              style=\"display:none;\">\n",
              "        \n",
              "  <svg xmlns=\"http://www.w3.org/2000/svg\" height=\"24px\"viewBox=\"0 0 24 24\"\n",
              "       width=\"24px\">\n",
              "    <path d=\"M0 0h24v24H0V0z\" fill=\"none\"/>\n",
              "    <path d=\"M18.56 5.44l.94 2.06.94-2.06 2.06-.94-2.06-.94-.94-2.06-.94 2.06-2.06.94zm-11 1L8.5 8.5l.94-2.06 2.06-.94-2.06-.94L8.5 2.5l-.94 2.06-2.06.94zm10 10l.94 2.06.94-2.06 2.06-.94-2.06-.94-.94-2.06-.94 2.06-2.06.94z\"/><path d=\"M17.41 7.96l-1.37-1.37c-.4-.4-.92-.59-1.43-.59-.52 0-1.04.2-1.43.59L10.3 9.45l-7.72 7.72c-.78.78-.78 2.05 0 2.83L4 21.41c.39.39.9.59 1.41.59.51 0 1.02-.2 1.41-.59l7.78-7.78 2.81-2.81c.8-.78.8-2.07 0-2.86zM5.41 20L4 18.59l7.72-7.72 1.47 1.35L5.41 20z\"/>\n",
              "  </svg>\n",
              "      </button>\n",
              "      \n",
              "  <style>\n",
              "    .colab-df-container {\n",
              "      display:flex;\n",
              "      flex-wrap:wrap;\n",
              "      gap: 12px;\n",
              "    }\n",
              "\n",
              "    .colab-df-convert {\n",
              "      background-color: #E8F0FE;\n",
              "      border: none;\n",
              "      border-radius: 50%;\n",
              "      cursor: pointer;\n",
              "      display: none;\n",
              "      fill: #1967D2;\n",
              "      height: 32px;\n",
              "      padding: 0 0 0 0;\n",
              "      width: 32px;\n",
              "    }\n",
              "\n",
              "    .colab-df-convert:hover {\n",
              "      background-color: #E2EBFA;\n",
              "      box-shadow: 0px 1px 2px rgba(60, 64, 67, 0.3), 0px 1px 3px 1px rgba(60, 64, 67, 0.15);\n",
              "      fill: #174EA6;\n",
              "    }\n",
              "\n",
              "    [theme=dark] .colab-df-convert {\n",
              "      background-color: #3B4455;\n",
              "      fill: #D2E3FC;\n",
              "    }\n",
              "\n",
              "    [theme=dark] .colab-df-convert:hover {\n",
              "      background-color: #434B5C;\n",
              "      box-shadow: 0px 1px 3px 1px rgba(0, 0, 0, 0.15);\n",
              "      filter: drop-shadow(0px 1px 2px rgba(0, 0, 0, 0.3));\n",
              "      fill: #FFFFFF;\n",
              "    }\n",
              "  </style>\n",
              "\n",
              "      <script>\n",
              "        const buttonEl =\n",
              "          document.querySelector('#df-de8af2e5-6a1d-46f4-82cb-50b5defc109b button.colab-df-convert');\n",
              "        buttonEl.style.display =\n",
              "          google.colab.kernel.accessAllowed ? 'block' : 'none';\n",
              "\n",
              "        async function convertToInteractive(key) {\n",
              "          const element = document.querySelector('#df-de8af2e5-6a1d-46f4-82cb-50b5defc109b');\n",
              "          const dataTable =\n",
              "            await google.colab.kernel.invokeFunction('convertToInteractive',\n",
              "                                                     [key], {});\n",
              "          if (!dataTable) return;\n",
              "\n",
              "          const docLinkHtml = 'Like what you see? Visit the ' +\n",
              "            '<a target=\"_blank\" href=https://colab.research.google.com/notebooks/data_table.ipynb>data table notebook</a>'\n",
              "            + ' to learn more about interactive tables.';\n",
              "          element.innerHTML = '';\n",
              "          dataTable['output_type'] = 'display_data';\n",
              "          await google.colab.output.renderOutput(dataTable, element);\n",
              "          const docLink = document.createElement('div');\n",
              "          docLink.innerHTML = docLinkHtml;\n",
              "          element.appendChild(docLink);\n",
              "        }\n",
              "      </script>\n",
              "    </div>\n",
              "  </div>\n",
              "  "
            ]
          },
          "metadata": {},
          "execution_count": 37
        }
      ]
    },
    {
      "cell_type": "code",
      "source": [
        "airbnb.corr()['number_of_reviews'].apply(lambda x:abs(x)).sort_values(ascending=False)[1:]"
      ],
      "metadata": {
        "colab": {
          "base_uri": "https://localhost:8080/"
        },
        "id": "Qt_POi4VIHC8",
        "outputId": "0d364622-d462-4885-8b5c-04b0942fb0e0"
      },
      "execution_count": 38,
      "outputs": [
        {
          "output_type": "execute_result",
          "data": {
            "text/plain": [
              "reviews_per_month                 0.610989\n",
              "last_review_year                  0.196909\n",
              "availability_365                  0.190904\n",
              "minimum_nights                    0.136150\n",
              "host_id                           0.128716\n",
              "calculated_host_listings_count    0.079643\n",
              "longitude                         0.045846\n",
              "last_review_day                   0.043635\n",
              "price                             0.034771\n",
              "latitude                          0.019840\n",
              "last_review_month                 0.013217\n",
              "Name: number_of_reviews, dtype: float64"
            ]
          },
          "metadata": {},
          "execution_count": 38
        }
      ]
    },
    {
      "cell_type": "markdown",
      "source": [
        "## 5.Hypothesis Tests"
      ],
      "metadata": {
        "id": "dtfvKQndcFu9"
      }
    },
    {
      "cell_type": "code",
      "source": [
        "prices = airbnb['price'].values\n",
        "reviews = airbnb['number_of_reviews'].values\n",
        "availability = airbnb['availability_365'].values\n",
        "host_listings = airbnb['calculated_host_listings_count'].values\n",
        "reviews_month = airbnb['reviews_per_month'].values"
      ],
      "metadata": {
        "id": "NZYiu7Yk5hM8"
      },
      "execution_count": 39,
      "outputs": []
    },
    {
      "cell_type": "markdown",
      "source": [
        "### q1 : `price` is normal\n",
        "\n",
        "\\begin{align}\n",
        "&H_0: \\text{Price is normally distributed.} \\\\\n",
        "&H_1: \\text{Price is not normally distributed.}\n",
        "\\end{align}"
      ],
      "metadata": {
        "id": "a3JDnUaH7aWO"
      }
    },
    {
      "cell_type": "code",
      "source": [
        "price_anderson = stats.anderson(prices)"
      ],
      "metadata": {
        "id": "t4YrQlXTFGJX"
      },
      "execution_count": 40,
      "outputs": []
    },
    {
      "cell_type": "code",
      "source": [
        "for i in range(len(price_anderson.critical_values)):\n",
        "\tsl, cv = price_anderson.significance_level[i], price_anderson.critical_values[i]\n",
        "\tif price_anderson.statistic < cv:\n",
        "\t\tprint('Probably Gaussian at the %.1f%% level' % (sl))\n",
        "\telse:\n",
        "\t\tprint('Probably not Gaussian at the %.1f%% level' % (sl))"
      ],
      "metadata": {
        "colab": {
          "base_uri": "https://localhost:8080/"
        },
        "id": "o3lYdT80GjoW",
        "outputId": "2fc59fe6-76fc-40d3-880c-68d1d9bb9730"
      },
      "execution_count": 41,
      "outputs": [
        {
          "output_type": "stream",
          "name": "stdout",
          "text": [
            "Probably not Gaussian at the 15.0% level\n",
            "Probably not Gaussian at the 10.0% level\n",
            "Probably not Gaussian at the 5.0% level\n",
            "Probably not Gaussian at the 2.5% level\n",
            "Probably not Gaussian at the 1.0% level\n"
          ]
        }
      ]
    },
    {
      "cell_type": "markdown",
      "source": [
        "So null hypothesis is rejected and price is not Gaussian."
      ],
      "metadata": {
        "id": "ucnzgR-p-tV6"
      }
    },
    {
      "cell_type": "markdown",
      "source": [
        "### q2 : Average rent size is 150$\n",
        "\n",
        "\\begin{align}\n",
        "H_0: & \\mu = 150$ \\\\\n",
        "H_1: & \\mu \\neq 150 $\n",
        "\\end{align}"
      ],
      "metadata": {
        "id": "2fvMPz3G_Sif"
      }
    },
    {
      "cell_type": "code",
      "source": [
        "alpha = 0.05 \n",
        "tstat, p_value = stats.ttest_1samp(prices, popmean = 150)\n",
        "print(f't stat : {tstat} , p_value : {p_value}')\n",
        "if p_value <= alpha:\n",
        "    print(\"Null hypothesis rejected.\")\n",
        "else:\n",
        "    print(\"Null hypothesis accepted.\")"
      ],
      "metadata": {
        "colab": {
          "base_uri": "https://localhost:8080/"
        },
        "id": "CG-H32aY2pAT",
        "outputId": "96308b63-5490-4d23-b357-80fb59494a22"
      },
      "execution_count": 42,
      "outputs": [
        {
          "output_type": "stream",
          "name": "stdout",
          "text": [
            "t stat : -21.76964602833756 , p_value : 1.6014418379965145e-104\n",
            "Null hypothesis rejected.\n"
          ]
        }
      ]
    },
    {
      "cell_type": "markdown",
      "source": [
        "Null hypothesis is rejected and price average is 138$ not 150$:"
      ],
      "metadata": {
        "id": "duLCTH_CAaxn"
      }
    },
    {
      "cell_type": "code",
      "source": [
        "prices.mean()"
      ],
      "metadata": {
        "colab": {
          "base_uri": "https://localhost:8080/"
        },
        "id": "v8q1_M3SAUPn",
        "outputId": "1e86503c-e4ff-4d63-a778-0046c032b211"
      },
      "execution_count": 43,
      "outputs": [
        {
          "output_type": "execute_result",
          "data": {
            "text/plain": [
              "138.81522034820458"
            ]
          },
          "metadata": {},
          "execution_count": 43
        }
      ]
    },
    {
      "cell_type": "code",
      "source": [
        "alpha = 0.05 \n",
        "tstat, p_value = stats.ttest_1samp(prices, popmean = 138)\n",
        "print(f't stat : {tstat} , p_value : {p_value}')\n",
        "if p_value <= alpha:\n",
        "    print(\"Null hypothesis rejected.\")\n",
        "else:\n",
        "    print(\"Null hypothesis accepted.\")"
      ],
      "metadata": {
        "colab": {
          "base_uri": "https://localhost:8080/"
        },
        "id": "F7DM5mJAAL-2",
        "outputId": "d85fc98f-9c52-4d11-8382-e1b8a96d31d2"
      },
      "execution_count": 44,
      "outputs": [
        {
          "output_type": "stream",
          "name": "stdout",
          "text": [
            "t stat : 1.586715068871553 , p_value : 0.1125843596118746\n",
            "Null hypothesis accepted.\n"
          ]
        }
      ]
    },
    {
      "cell_type": "markdown",
      "source": [
        "### q3 : `number_of_reviews` and `reviews_per_month` distributions.\n",
        "\n",
        "\\begin{align}\n",
        "&H_0: \\text{They are from same distribution.} \\\\\n",
        "&H_1: \\text{They aren't from same distribution.}\n",
        "\\end{align}"
      ],
      "metadata": {
        "id": "26FaBgmnEJHs"
      }
    },
    {
      "cell_type": "code",
      "source": [
        "stat, p = stats.f_oneway(reviews_month, reviews)\n",
        "print('stat=%.3f, p=%.3f' % (stat, p))\n",
        "if p > 0.05:\n",
        "\tprint('Probably the same distribution')\n",
        "else:\n",
        "\tprint('Probably different distributions')"
      ],
      "metadata": {
        "colab": {
          "base_uri": "https://localhost:8080/"
        },
        "id": "4w_6PCqW_y_7",
        "outputId": "8011a5e2-6024-4bca-9140-7fea82be31c4"
      },
      "execution_count": 45,
      "outputs": [
        {
          "output_type": "stream",
          "name": "stdout",
          "text": [
            "stat=14647.847, p=0.000\n",
            "Probably different distributions\n"
          ]
        }
      ]
    },
    {
      "cell_type": "markdown",
      "source": [
        "### q4 : `number_of_reviews` and `reviews_per_month` \n",
        "\n",
        "\\begin{align}\n",
        "&H_0: \\text{They are correlated.} \\\\\n",
        "&H_1: \\text{They are not correlated.}\n",
        "\\end{align}"
      ],
      "metadata": {
        "id": "CPxdvRzEG3Fw"
      }
    },
    {
      "cell_type": "code",
      "source": [
        "stat, p = stats.kendalltau(reviews_month, reviews)\n",
        "print('stat=%.3f, p=%.3f' % (stat, p))\n",
        "if p > 0.05:\n",
        "\tprint('Probably independent, null hypothesis rejected.')\n",
        "else:\n",
        "\tprint('Probably dependent, null hypothesis accepted.')"
      ],
      "metadata": {
        "colab": {
          "base_uri": "https://localhost:8080/"
        },
        "id": "3GWKXTgIEmEF",
        "outputId": "2328220d-f062-4993-b33f-9c07ae57d957"
      },
      "execution_count": 46,
      "outputs": [
        {
          "output_type": "stream",
          "name": "stdout",
          "text": [
            "stat=0.687, p=0.000\n",
            "Probably dependent, null hypothesis accepted.\n"
          ]
        }
      ]
    },
    {
      "cell_type": "markdown",
      "source": [
        "### q5 : `number_of_reviews` and `availability_365`\n",
        "\n",
        "\\begin{align}\n",
        "&H_0: \\text{They are correlated.} \\\\\n",
        "&H_1: \\text{Those are not correlated.}\n",
        "\\end{align}"
      ],
      "metadata": {
        "id": "RtqAPlMmHWv_"
      }
    },
    {
      "cell_type": "code",
      "source": [
        "stat, p = stats.kendalltau(availability, reviews)\n",
        "print('stat=%.3f, p=%.3f' % (stat, p))\n",
        "if p > 0.05:\n",
        "\tprint('Probably independent, null hypothesis rejected.')\n",
        "else:\n",
        "\tprint('Probably dependent, null hypothesis accepted.')"
      ],
      "metadata": {
        "colab": {
          "base_uri": "https://localhost:8080/"
        },
        "id": "gecF8LIMHMV2",
        "outputId": "96d92d6c-aefc-4450-866d-3274b9fc23d6"
      },
      "execution_count": 47,
      "outputs": [
        {
          "output_type": "stream",
          "name": "stdout",
          "text": [
            "stat=0.185, p=0.000\n",
            "Probably dependent, null hypothesis accepted.\n"
          ]
        }
      ]
    },
    {
      "cell_type": "markdown",
      "source": [
        "### q6 : `number_of_reviews` and `calculated_host_listings_count`\n",
        "\n",
        "\\begin{align}\n",
        "&H_0: \\text{They are correlated.} \\\\\n",
        "&H_1: \\text{Those are not correlated.}\n",
        "\\end{align}"
      ],
      "metadata": {
        "id": "DqJIAigwM5C4"
      }
    },
    {
      "cell_type": "code",
      "source": [
        "stat, p = stats.kendalltau(host_listings, reviews)\n",
        "print('stat=%.3f, p=%.3f' % (stat, p))\n",
        "if p > 0.05:\n",
        "\tprint('Probably independent, null hypothesis rejected.')\n",
        "else:\n",
        "\tprint('Probably dependent, null hypothesis accepted.')"
      ],
      "metadata": {
        "colab": {
          "base_uri": "https://localhost:8080/"
        },
        "id": "mrg7YU2GJsc8",
        "outputId": "73b66ac8-d141-4db5-f279-3e9ab3264074"
      },
      "execution_count": 48,
      "outputs": [
        {
          "output_type": "stream",
          "name": "stdout",
          "text": [
            "stat=0.057, p=0.000\n",
            "Probably dependent, null hypothesis accepted.\n"
          ]
        }
      ]
    },
    {
      "cell_type": "markdown",
      "source": [
        "## 6.Creating a model\n",
        "tasks:\n",
        "- add distance from airport feature\n",
        "- drop unnecesarry columns\n",
        "- encode categorical\n",
        "- train-test split\n",
        "- normalize features and target\n"
      ],
      "metadata": {
        "id": "C0xxX0glND1n"
      }
    },
    {
      "cell_type": "markdown",
      "source": [
        "### Calculate the distance between two points\n",
        "The <a href='https://en.wikipedia.org/wiki/Haversine_formula'>haversine formula</a> calculates the distance on a sphere between two sets of GPS coordinates.<br>\n",
        "Here we assign latitude values with $\\varphi$ (phi) and longitude with $\\lambda$ (lambda).\n",
        "\n",
        "The distance formula works out to\n",
        "\n",
        "${\\displaystyle d=2r\\arcsin \\left({\\sqrt {\\sin ^{2}\\left({\\frac {\\varphi _{2}-\\varphi _{1}}{2}}\\right)+\\cos(\\varphi _{1})\\:\\cos(\\varphi _{2})\\:\\sin ^{2}\\left({\\frac {\\lambda _{2}-\\lambda _{1}}{2}}\\right)}}\\right)}$\n",
        "\n",
        "where\n",
        "\n",
        "$\\begin{split} r&: \\textrm {radius of the sphere (Earth's radius averages 6371 km)}\\\\\n",
        "\\varphi_1, \\varphi_2&: \\textrm {latitudes of point 1 and point 2}\\\\\n",
        "\\lambda_1, \\lambda_2&: \\textrm {longitudes of point 1 and point 2}\\end{split}$\n",
        "\n",
        "With this in mind, I will add a new feature that indicates the distance from **John F. Kennedy International Airport**. We can add more features like this (distance to exciting places in NYC) but I think you got the idea."
      ],
      "metadata": {
        "id": "pCC1Oag5ZQtc"
      }
    },
    {
      "cell_type": "code",
      "source": [
        "def haversine_distance(df, lat1, long1):\n",
        "    \"\"\"\n",
        "    Calculates the haversine distance between 2 sets of GPS coordinates in df\n",
        "    \"\"\"\n",
        "    r = 6371  # average radius of Earth in kilometers\n",
        "\n",
        "    lat2 = np.array(40.641766, dtype='float32') # latitude of jfk airport\n",
        "    long2 = np.array(-73.780968, dtype='float32') # longitude of jfk airport\n",
        "\n",
        "    phi1 = np.radians(lat1)\n",
        "    phi2 = np.radians(lat2)\n",
        "    \n",
        "    delta_phi = np.radians(lat2-lat1)\n",
        "    delta_lambda = np.radians(long2-long1)\n",
        "     \n",
        "    a = np.sin(delta_phi/2)**2 + np.cos(phi1) * np.cos(phi2) * np.sin(delta_lambda/2)**2\n",
        "    c = 2 * np.arctan2(np.sqrt(a), np.sqrt(1-a))\n",
        "    d = (r * c) # in kilometers\n",
        "\n",
        "    return d"
      ],
      "metadata": {
        "id": "pDxy6hXKL_fO"
      },
      "execution_count": 49,
      "outputs": []
    },
    {
      "cell_type": "code",
      "source": [
        "airbnb['dist_jkf'] = haversine_distance(airbnb, airbnb['latitude'], airbnb['longitude'])"
      ],
      "metadata": {
        "id": "AtAr0KDfaQDU"
      },
      "execution_count": 50,
      "outputs": []
    },
    {
      "cell_type": "code",
      "source": [
        "airbnb.dist_jkf"
      ],
      "metadata": {
        "colab": {
          "base_uri": "https://localhost:8080/"
        },
        "id": "32yX-YLcahyu",
        "outputId": "3bb9996b-9ae5-494c-c759-04c7f40840a7"
      },
      "execution_count": 51,
      "outputs": [
        {
          "output_type": "execute_result",
          "data": {
            "text/plain": [
              "0        16.161287\n",
              "1        21.142392\n",
              "2        23.017261\n",
              "4        22.192991\n",
              "5        20.156148\n",
              "           ...    \n",
              "48890    14.828480\n",
              "48891    14.470301\n",
              "48892    23.867996\n",
              "48893    21.897506\n",
              "48894    22.211798\n",
              "Name: dist_jkf, Length: 44112, dtype: float64"
            ]
          },
          "metadata": {},
          "execution_count": 51
        }
      ]
    },
    {
      "cell_type": "code",
      "source": [
        "airbnb.info()"
      ],
      "metadata": {
        "colab": {
          "base_uri": "https://localhost:8080/"
        },
        "id": "jpRMhPB_aiXE",
        "outputId": "93dfb607-7fdf-49b6-e136-e20434c7face"
      },
      "execution_count": 52,
      "outputs": [
        {
          "output_type": "stream",
          "name": "stdout",
          "text": [
            "<class 'pandas.core.frame.DataFrame'>\n",
            "Int64Index: 44112 entries, 0 to 48894\n",
            "Data columns (total 16 columns):\n",
            " #   Column                          Non-Null Count  Dtype  \n",
            "---  ------                          --------------  -----  \n",
            " 0   host_id                         44112 non-null  int64  \n",
            " 1   neighbourhood_group             44112 non-null  object \n",
            " 2   neighbourhood                   44112 non-null  object \n",
            " 3   latitude                        44112 non-null  float64\n",
            " 4   longitude                       44112 non-null  float64\n",
            " 5   room_type                       44112 non-null  object \n",
            " 6   price                           44112 non-null  int64  \n",
            " 7   minimum_nights                  44112 non-null  int64  \n",
            " 8   number_of_reviews               44112 non-null  int64  \n",
            " 9   reviews_per_month               44112 non-null  float64\n",
            " 10  calculated_host_listings_count  44112 non-null  int64  \n",
            " 11  availability_365                44112 non-null  int64  \n",
            " 12  last_review_year                44112 non-null  int32  \n",
            " 13  last_review_month               44112 non-null  int32  \n",
            " 14  last_review_day                 44112 non-null  int32  \n",
            " 15  dist_jkf                        44112 non-null  float64\n",
            "dtypes: float64(4), int32(3), int64(6), object(3)\n",
            "memory usage: 6.2+ MB\n"
          ]
        }
      ]
    },
    {
      "cell_type": "markdown",
      "source": [
        "Lets drop the column that I think could not be helpful in training a model:"
      ],
      "metadata": {
        "id": "ZN_SNYJiggBo"
      }
    },
    {
      "cell_type": "code",
      "source": [
        "airbnb.drop(['host_id','neighbourhood','last_review_day'], axis=1, inplace=True)"
      ],
      "metadata": {
        "id": "3aKlVjYxge3a"
      },
      "execution_count": 53,
      "outputs": []
    },
    {
      "cell_type": "markdown",
      "source": [
        "### Handle categorical features\n",
        "`room_type` and `neighbourhood_group` are categorical columns, let's one-hot encode them."
      ],
      "metadata": {
        "id": "ma2LhL8IhG7m"
      }
    },
    {
      "cell_type": "code",
      "source": [
        "dummies_feature = pd.get_dummies(airbnb[['neighbourhood_group','room_type']])\n",
        "dummies_feature.head()"
      ],
      "metadata": {
        "colab": {
          "base_uri": "https://localhost:8080/",
          "height": 206
        },
        "id": "p2y2DaeGhDO6",
        "outputId": "2bcb84ac-e4a9-4d25-a4f2-4eb6baec01bc"
      },
      "execution_count": 54,
      "outputs": [
        {
          "output_type": "execute_result",
          "data": {
            "text/plain": [
              "   neighbourhood_group_Brooklyn  neighbourhood_group_Manhattan  \\\n",
              "0                             1                              0   \n",
              "1                             0                              1   \n",
              "2                             0                              1   \n",
              "4                             0                              1   \n",
              "5                             0                              1   \n",
              "\n",
              "   neighbourhood_group_other  room_type_Entire home/apt  \\\n",
              "0                          0                          0   \n",
              "1                          0                          1   \n",
              "2                          0                          0   \n",
              "4                          0                          1   \n",
              "5                          0                          1   \n",
              "\n",
              "   room_type_Private room  room_type_Shared room  \n",
              "0                       1                      0  \n",
              "1                       0                      0  \n",
              "2                       1                      0  \n",
              "4                       0                      0  \n",
              "5                       0                      0  "
            ],
            "text/html": [
              "\n",
              "  <div id=\"df-24829801-a5c7-446f-bc4a-1249a443c49f\">\n",
              "    <div class=\"colab-df-container\">\n",
              "      <div>\n",
              "<style scoped>\n",
              "    .dataframe tbody tr th:only-of-type {\n",
              "        vertical-align: middle;\n",
              "    }\n",
              "\n",
              "    .dataframe tbody tr th {\n",
              "        vertical-align: top;\n",
              "    }\n",
              "\n",
              "    .dataframe thead th {\n",
              "        text-align: right;\n",
              "    }\n",
              "</style>\n",
              "<table border=\"1\" class=\"dataframe\">\n",
              "  <thead>\n",
              "    <tr style=\"text-align: right;\">\n",
              "      <th></th>\n",
              "      <th>neighbourhood_group_Brooklyn</th>\n",
              "      <th>neighbourhood_group_Manhattan</th>\n",
              "      <th>neighbourhood_group_other</th>\n",
              "      <th>room_type_Entire home/apt</th>\n",
              "      <th>room_type_Private room</th>\n",
              "      <th>room_type_Shared room</th>\n",
              "    </tr>\n",
              "  </thead>\n",
              "  <tbody>\n",
              "    <tr>\n",
              "      <th>0</th>\n",
              "      <td>1</td>\n",
              "      <td>0</td>\n",
              "      <td>0</td>\n",
              "      <td>0</td>\n",
              "      <td>1</td>\n",
              "      <td>0</td>\n",
              "    </tr>\n",
              "    <tr>\n",
              "      <th>1</th>\n",
              "      <td>0</td>\n",
              "      <td>1</td>\n",
              "      <td>0</td>\n",
              "      <td>1</td>\n",
              "      <td>0</td>\n",
              "      <td>0</td>\n",
              "    </tr>\n",
              "    <tr>\n",
              "      <th>2</th>\n",
              "      <td>0</td>\n",
              "      <td>1</td>\n",
              "      <td>0</td>\n",
              "      <td>0</td>\n",
              "      <td>1</td>\n",
              "      <td>0</td>\n",
              "    </tr>\n",
              "    <tr>\n",
              "      <th>4</th>\n",
              "      <td>0</td>\n",
              "      <td>1</td>\n",
              "      <td>0</td>\n",
              "      <td>1</td>\n",
              "      <td>0</td>\n",
              "      <td>0</td>\n",
              "    </tr>\n",
              "    <tr>\n",
              "      <th>5</th>\n",
              "      <td>0</td>\n",
              "      <td>1</td>\n",
              "      <td>0</td>\n",
              "      <td>1</td>\n",
              "      <td>0</td>\n",
              "      <td>0</td>\n",
              "    </tr>\n",
              "  </tbody>\n",
              "</table>\n",
              "</div>\n",
              "      <button class=\"colab-df-convert\" onclick=\"convertToInteractive('df-24829801-a5c7-446f-bc4a-1249a443c49f')\"\n",
              "              title=\"Convert this dataframe to an interactive table.\"\n",
              "              style=\"display:none;\">\n",
              "        \n",
              "  <svg xmlns=\"http://www.w3.org/2000/svg\" height=\"24px\"viewBox=\"0 0 24 24\"\n",
              "       width=\"24px\">\n",
              "    <path d=\"M0 0h24v24H0V0z\" fill=\"none\"/>\n",
              "    <path d=\"M18.56 5.44l.94 2.06.94-2.06 2.06-.94-2.06-.94-.94-2.06-.94 2.06-2.06.94zm-11 1L8.5 8.5l.94-2.06 2.06-.94-2.06-.94L8.5 2.5l-.94 2.06-2.06.94zm10 10l.94 2.06.94-2.06 2.06-.94-2.06-.94-.94-2.06-.94 2.06-2.06.94z\"/><path d=\"M17.41 7.96l-1.37-1.37c-.4-.4-.92-.59-1.43-.59-.52 0-1.04.2-1.43.59L10.3 9.45l-7.72 7.72c-.78.78-.78 2.05 0 2.83L4 21.41c.39.39.9.59 1.41.59.51 0 1.02-.2 1.41-.59l7.78-7.78 2.81-2.81c.8-.78.8-2.07 0-2.86zM5.41 20L4 18.59l7.72-7.72 1.47 1.35L5.41 20z\"/>\n",
              "  </svg>\n",
              "      </button>\n",
              "      \n",
              "  <style>\n",
              "    .colab-df-container {\n",
              "      display:flex;\n",
              "      flex-wrap:wrap;\n",
              "      gap: 12px;\n",
              "    }\n",
              "\n",
              "    .colab-df-convert {\n",
              "      background-color: #E8F0FE;\n",
              "      border: none;\n",
              "      border-radius: 50%;\n",
              "      cursor: pointer;\n",
              "      display: none;\n",
              "      fill: #1967D2;\n",
              "      height: 32px;\n",
              "      padding: 0 0 0 0;\n",
              "      width: 32px;\n",
              "    }\n",
              "\n",
              "    .colab-df-convert:hover {\n",
              "      background-color: #E2EBFA;\n",
              "      box-shadow: 0px 1px 2px rgba(60, 64, 67, 0.3), 0px 1px 3px 1px rgba(60, 64, 67, 0.15);\n",
              "      fill: #174EA6;\n",
              "    }\n",
              "\n",
              "    [theme=dark] .colab-df-convert {\n",
              "      background-color: #3B4455;\n",
              "      fill: #D2E3FC;\n",
              "    }\n",
              "\n",
              "    [theme=dark] .colab-df-convert:hover {\n",
              "      background-color: #434B5C;\n",
              "      box-shadow: 0px 1px 3px 1px rgba(0, 0, 0, 0.15);\n",
              "      filter: drop-shadow(0px 1px 2px rgba(0, 0, 0, 0.3));\n",
              "      fill: #FFFFFF;\n",
              "    }\n",
              "  </style>\n",
              "\n",
              "      <script>\n",
              "        const buttonEl =\n",
              "          document.querySelector('#df-24829801-a5c7-446f-bc4a-1249a443c49f button.colab-df-convert');\n",
              "        buttonEl.style.display =\n",
              "          google.colab.kernel.accessAllowed ? 'block' : 'none';\n",
              "\n",
              "        async function convertToInteractive(key) {\n",
              "          const element = document.querySelector('#df-24829801-a5c7-446f-bc4a-1249a443c49f');\n",
              "          const dataTable =\n",
              "            await google.colab.kernel.invokeFunction('convertToInteractive',\n",
              "                                                     [key], {});\n",
              "          if (!dataTable) return;\n",
              "\n",
              "          const docLinkHtml = 'Like what you see? Visit the ' +\n",
              "            '<a target=\"_blank\" href=https://colab.research.google.com/notebooks/data_table.ipynb>data table notebook</a>'\n",
              "            + ' to learn more about interactive tables.';\n",
              "          element.innerHTML = '';\n",
              "          dataTable['output_type'] = 'display_data';\n",
              "          await google.colab.output.renderOutput(dataTable, element);\n",
              "          const docLink = document.createElement('div');\n",
              "          docLink.innerHTML = docLinkHtml;\n",
              "          element.appendChild(docLink);\n",
              "        }\n",
              "      </script>\n",
              "    </div>\n",
              "  </div>\n",
              "  "
            ]
          },
          "metadata": {},
          "execution_count": 54
        }
      ]
    },
    {
      "cell_type": "code",
      "source": [
        "airbnb = pd.concat([airbnb, dummies_feature], axis=1)\n",
        "airbnb = airbnb.drop(columns=['neighbourhood_group','room_type','latitude', 'longitude'])"
      ],
      "metadata": {
        "id": "zX6euj4uiBoy"
      },
      "execution_count": 55,
      "outputs": []
    },
    {
      "cell_type": "code",
      "source": [
        "airbnb.info()"
      ],
      "metadata": {
        "colab": {
          "base_uri": "https://localhost:8080/"
        },
        "id": "vp7zCkJjiYtt",
        "outputId": "1a511000-993f-4617-ccce-30abe470bdeb"
      },
      "execution_count": 56,
      "outputs": [
        {
          "output_type": "stream",
          "name": "stdout",
          "text": [
            "<class 'pandas.core.frame.DataFrame'>\n",
            "Int64Index: 44112 entries, 0 to 48894\n",
            "Data columns (total 15 columns):\n",
            " #   Column                          Non-Null Count  Dtype  \n",
            "---  ------                          --------------  -----  \n",
            " 0   price                           44112 non-null  int64  \n",
            " 1   minimum_nights                  44112 non-null  int64  \n",
            " 2   number_of_reviews               44112 non-null  int64  \n",
            " 3   reviews_per_month               44112 non-null  float64\n",
            " 4   calculated_host_listings_count  44112 non-null  int64  \n",
            " 5   availability_365                44112 non-null  int64  \n",
            " 6   last_review_year                44112 non-null  int32  \n",
            " 7   last_review_month               44112 non-null  int32  \n",
            " 8   dist_jkf                        44112 non-null  float64\n",
            " 9   neighbourhood_group_Brooklyn    44112 non-null  uint8  \n",
            " 10  neighbourhood_group_Manhattan   44112 non-null  uint8  \n",
            " 11  neighbourhood_group_other       44112 non-null  uint8  \n",
            " 12  room_type_Entire home/apt       44112 non-null  uint8  \n",
            " 13  room_type_Private room          44112 non-null  uint8  \n",
            " 14  room_type_Shared room           44112 non-null  uint8  \n",
            "dtypes: float64(2), int32(2), int64(5), uint8(6)\n",
            "memory usage: 4.3 MB\n"
          ]
        }
      ]
    },
    {
      "cell_type": "markdown",
      "source": [
        "There are 15 features left which is not much, so I don't use any dimensonality reduction. In the case of high dimensional datasets, we could use PCA."
      ],
      "metadata": {
        "id": "maErI3drwEQK"
      }
    },
    {
      "cell_type": "code",
      "source": [
        "airbnb.shape"
      ],
      "metadata": {
        "colab": {
          "base_uri": "https://localhost:8080/"
        },
        "id": "dO4lqEnxwBkL",
        "outputId": "33ff4449-54f9-494f-d4db-44b54c928929"
      },
      "execution_count": 57,
      "outputs": [
        {
          "output_type": "execute_result",
          "data": {
            "text/plain": [
              "(44112, 15)"
            ]
          },
          "metadata": {},
          "execution_count": 57
        }
      ]
    },
    {
      "cell_type": "code",
      "source": [
        "y = airbnb['price']\n",
        "x = airbnb.drop(columns=['price'])"
      ],
      "metadata": {
        "id": "uORgK2FQnRZ1"
      },
      "execution_count": 58,
      "outputs": []
    },
    {
      "cell_type": "code",
      "source": [
        "x_train, x_test, y_train, y_test = train_test_split(x, y, test_size=0.1, random_state=42)"
      ],
      "metadata": {
        "id": "OMHwGJ8_m1px"
      },
      "execution_count": 59,
      "outputs": []
    },
    {
      "cell_type": "code",
      "source": [
        "scaler = StandardScaler()\n",
        "scaler.fit(x_train)"
      ],
      "metadata": {
        "colab": {
          "base_uri": "https://localhost:8080/"
        },
        "id": "MSEugp8LlnOK",
        "outputId": "b9ef1061-3ed2-4c4b-c374-5ec080b06f9d"
      },
      "execution_count": 60,
      "outputs": [
        {
          "output_type": "execute_result",
          "data": {
            "text/plain": [
              "StandardScaler()"
            ]
          },
          "metadata": {},
          "execution_count": 60
        }
      ]
    },
    {
      "cell_type": "code",
      "source": [
        "x_train = scaler.transform(x_train)\n",
        "x_test = scaler.transform(x_test)"
      ],
      "metadata": {
        "id": "Z07fdSUknPox"
      },
      "execution_count": 61,
      "outputs": []
    },
    {
      "cell_type": "code",
      "source": [
        "rf = RandomForestRegressor()\n",
        "lr = LinearRegression()"
      ],
      "metadata": {
        "id": "LiVF2QPioLZr"
      },
      "execution_count": 62,
      "outputs": []
    },
    {
      "cell_type": "code",
      "source": [
        "y_train = np.array(y_train)\n",
        "y_min = y_train.min()\n",
        "y_max = y_train.max()\n",
        "Y_train = (y_train - y_min) / (y_max - y_min)\n",
        "Y_test = (y_test - y_min) / (y_max - y_min)"
      ],
      "metadata": {
        "id": "7irPJ88oD7M4"
      },
      "execution_count": 63,
      "outputs": []
    },
    {
      "cell_type": "code",
      "source": [
        "s_time = time.time()\n",
        "lr.fit(x_train, Y_train)\n",
        "print(f'Training LinearRegression model took {time.time() - s_time}s.')"
      ],
      "metadata": {
        "colab": {
          "base_uri": "https://localhost:8080/"
        },
        "id": "9_Wgq0srtPzA",
        "outputId": "4fba1677-5693-4c81-bd1f-5d354db13c89"
      },
      "execution_count": 64,
      "outputs": [
        {
          "output_type": "stream",
          "name": "stdout",
          "text": [
            "Training LinearRegression model took 0.023310184478759766s.\n"
          ]
        }
      ]
    },
    {
      "cell_type": "code",
      "source": [
        "lr_prediction = lr.predict(x_test)\n",
        "lr_mse = mean_squared_error(Y_test, lr_prediction)\n",
        "print(f'LinearRegression MSE: {lr_mse}')"
      ],
      "metadata": {
        "colab": {
          "base_uri": "https://localhost:8080/"
        },
        "id": "uDZQyh-Rto_K",
        "outputId": "607ef26b-bec8-490a-da84-606c41442201"
      },
      "execution_count": 65,
      "outputs": [
        {
          "output_type": "stream",
          "name": "stdout",
          "text": [
            "LinearRegression MSE: 0.010111193784616921\n"
          ]
        }
      ]
    },
    {
      "cell_type": "code",
      "source": [
        "s_time = time.time()\n",
        "rf.fit(x_train, Y_train)\n",
        "print(f'Training RandomForestRegressor model took {time.time() - s_time}s.')"
      ],
      "metadata": {
        "id": "fe0LfAN0kG8f",
        "colab": {
          "base_uri": "https://localhost:8080/"
        },
        "outputId": "2f73b0e0-c1d9-4028-843c-7550287054b9"
      },
      "execution_count": 66,
      "outputs": [
        {
          "output_type": "stream",
          "name": "stdout",
          "text": [
            "Training RandomForestRegressor model took 36.07289719581604s.\n"
          ]
        }
      ]
    },
    {
      "cell_type": "code",
      "source": [
        "rf_prediction = rf.predict(x_test)\n",
        "rf_mse = mean_squared_error(Y_test, rf_prediction)\n",
        "print(f'RandomForestRegressor MSE: {rf_mse}')"
      ],
      "metadata": {
        "colab": {
          "base_uri": "https://localhost:8080/"
        },
        "id": "XPVh4HI2kv1P",
        "outputId": "e078fd11-46ac-4ff5-a51a-34526682431b"
      },
      "execution_count": 67,
      "outputs": [
        {
          "output_type": "stream",
          "name": "stdout",
          "text": [
            "RandomForestRegressor MSE: 0.008771651621184996\n"
          ]
        }
      ]
    },
    {
      "cell_type": "code",
      "source": [
        ""
      ],
      "metadata": {
        "id": "XtNHJYImlCrr"
      },
      "execution_count": 67,
      "outputs": []
    }
  ]
}